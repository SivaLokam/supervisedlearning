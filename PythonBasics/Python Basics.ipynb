{
 "cells": [
  {
   "cell_type": "markdown",
   "metadata": {},
   "source": [
    "### Python Basics"
   ]
  },
  {
   "cell_type": "code",
   "execution_count": 1,
   "metadata": {},
   "outputs": [],
   "source": [
    "from IPython.display import Image\n",
    "from decimal import *\n",
    "from fractions import Fraction"
   ]
  },
  {
   "cell_type": "code",
   "execution_count": 2,
   "metadata": {},
   "outputs": [],
   "source": [
    "base_path=\"images/\""
   ]
  },
  {
   "cell_type": "markdown",
   "metadata": {},
   "source": [
    "####  Data types"
   ]
  },
  {
   "cell_type": "code",
   "execution_count": 3,
   "metadata": {},
   "outputs": [
    {
     "data": {
      "image/png": "[encoded data removed]",
      "text/plain": [
       "<IPython.core.display.Image object>"
      ]
     },
     "execution_count": 3,
     "metadata": {},
     "output_type": "execute_result"
    }
   ],
   "source": [
    "Image(base_path+\"Data Type Images.png\")"
   ]
  },
  {
   "cell_type": "code",
   "execution_count": 4,
   "metadata": {},
   "outputs": [],
   "source": [
    "getcontext().prec =6"
   ]
  },
  {
   "cell_type": "code",
   "execution_count": 5,
   "metadata": {},
   "outputs": [
    {
     "name": "stdout",
     "output_type": "stream",
     "text": [
      "1234 3.1414 (3+4j) 7 10 5 5/6 0.142857\n"
     ]
    }
   ],
   "source": [
    "a = 1234\n",
    "b = 3.1414\n",
    "c = 3+4j\n",
    "d = 0b111\n",
    "e = Decimal(10)\n",
    "f = Fraction(10,2)\n",
    "g = Fraction(45,54)\n",
    "h = Decimal(1)/Decimal(7) # precision not working , double check\n",
    "print(a,b,c,d,e,f,g,h)\n"
   ]
  },
  {
   "cell_type": "code",
   "execution_count": 6,
   "metadata": {},
   "outputs": [
    {
     "name": "stdout",
     "output_type": "stream",
     "text": [
      "spam Bob's b'a\\x01c' spÄm\n"
     ]
    }
   ],
   "source": [
    "#Strings\n",
    "str1 = 'spam'\n",
    "str2 = \"Bob's\"\n",
    "str3 = b'a\\x01c'\n",
    "str4 = u'sp\\xc4m'\n",
    "\n",
    "str1,str2,str3,str4\n",
    "\n",
    "print(str1,str2,str3,str4)"
   ]
  },
  {
   "cell_type": "code",
   "execution_count": 7,
   "metadata": {},
   "outputs": [
    {
     "name": "stdout",
     "output_type": "stream",
     "text": [
      "[1, [2, 'three'], 4.5]\n",
      "[0, 1, 2, 3, 4, 5, 6, 7, 8, 9]\n"
     ]
    }
   ],
   "source": [
    "#lists\n",
    "list1 = [1,[2,'three'],4.5]\n",
    "list2 = list(range(10))\n",
    "print(list1)\n",
    "print(list2)"
   ]
  },
  {
   "cell_type": "code",
   "execution_count": 8,
   "metadata": {},
   "outputs": [
    {
     "name": "stdout",
     "output_type": "stream",
     "text": [
      "{'food': 'spam', 'taste': 'yum'} {'hours': 10}\n"
     ]
    }
   ],
   "source": [
    "#dictionaries\n",
    "dict1 = {'food':'spam',\n",
    "         'taste': 'yum'}\n",
    "dict2 = dict(hours=10)\n",
    "\n",
    "print(dict1,dict2)"
   ]
  },
  {
   "cell_type": "code",
   "execution_count": 9,
   "metadata": {},
   "outputs": [
    {
     "name": "stdout",
     "output_type": "stream",
     "text": [
      "(1, 'spam', 4, 'U') ('s', 'p', 'a', 'm') (1, 'spam', 4, 'U')\n"
     ]
    }
   ],
   "source": [
    "# Tuples\n",
    "tup1 = (1,'spam',4,'U')\n",
    "tup2 = tuple('spam')\n",
    "tup3 = tup1\n",
    "print(tup1,tup2,tup3)"
   ]
  },
  {
   "cell_type": "code",
   "execution_count": null,
   "metadata": {},
   "outputs": [],
   "source": []
  }
 ],
 "metadata": {
  "kernelspec": {
   "display_name": "Python 3",
   "language": "python",
   "name": "python3"
  },
  "language_info": {
   "codemirror_mode": {
    "name": "ipython",
    "version": 3
   },
   "file_extension": ".py",
   "mimetype": "text/x-python",
   "name": "python",
   "nbconvert_exporter": "python",
   "pygments_lexer": "ipython3",
   "version": "3.7.4"
  }
 },
 "nbformat": 4,
 "nbformat_minor": 2
}
