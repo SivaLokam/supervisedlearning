{
 "cells": [
  {
   "cell_type": "code",
   "execution_count": null,
   "metadata": {},
   "outputs": [],
   "source": [
    "import numpy as np\n",
    "from scipy.stats import norm\n",
    "from scipy.stats import zscore"
   ]
  },
  {
   "cell_type": "markdown",
   "metadata": {},
   "source": [
    "### Problem 1:\n",
    "\n",
    "Suppose we want to estimate the average weight of an adult male in Dekalb County, Georgia. We draw a random sample of 1,000 men from a population of 1,000,000 men and weigh them. We find that the average man in our sample weighs 180 pounds, and the standard deviation of the sample is 30 pounds. What is the 95% confidence interval?\n",
    "\n",
    "### Explanation:\n",
    "\n",
    "<pre>\n",
    "Total population N = 1,000,000\n",
    "\n",
    "μs weigh(sample)  = 180\n",
    "σs =  30\n",
    "Sample size n = 1000\n",
    "\n",
    "what is the 95% confidence interval\n",
    "\n",
    "μ weigh(sample) E= (μs +_ z*S.E)\n",
    " for 95% confidence level, prob  at right side = 95+(5/2) = 97.5\n",
    " z (for 97.7) = 1.88\n",
    " \n",
    "Standard Error = σ/sqrt(n) = 30/sqrt(1000) = 0.948\n",
    "\n",
    "confidence interval = E= (μs +_ z*S.E) = 180 +/- 1.88*0.948 = 180 +/- 1.78 = [178.22, 181.78]\n",
    "</pre>\n",
    "\n",
    "### Answer: 180 +/- 1.78 = [178.22, 181.78]"
   ]
  },
  {
   "cell_type": "markdown",
   "metadata": {},
   "source": [
    "### Problem 2:\n",
    "\n",
    "2. The operations manager of a large production plant would like to estimate the mean amount of time a worker takes to assemble a new electronic component. Assume that the standard deviation of this assembly time is 3.6 minutes.\n",
    "\n",
    "a) After observing 120 workers assembling similar devices, the manager noticed that their average time was 16.2 minuted. Construct a 92% confidence interval for the mean assembly time.\n",
    "\n",
    "### Explanation:\n",
    "\n",
    "<pre>\n",
    "σ (population)  =  3.6 min\n",
    "\n",
    "μs time(sample)  = 16.2 min\n",
    "\n",
    "Sample size n = 120\n",
    "\n",
    "construct 92% confidence interval\n",
    "\n",
    "for 92% confidence interval , P(ucv) = 92+(8/2) = 96% = 0.96\n",
    "z-score at 0.96 = 1.75                ( from z-table)\n",
    "\n",
    "Standard Error = σ (sampling distribution) = σ (population)/ sqrt(n) = 3.6/sqrt(120) = 0.33\n",
    "\n",
    "μ time(sample) E= (μs +_ z*S.E)\n",
    " confidence interval = E= (μs +_ z*S.E) = 16.2 +/- 1.75*0.33 = 16.2 +/- 0.5775 = [15.62,16.78]\n",
    "</pre>\n",
    "### Answer: 16.2 +/- 0.5775 = [15.62,16.78]\n",
    "\n",
    "b) How many workers should be involved in this study inorder to have the mean assembly time estimated upto ±15 seconds with 92% confidence?\n",
    "\n",
    "### Explanation:\n",
    "\n",
    "<pre>\n",
    "σ (population)  =  3.6 min = 3.6 * 60 secs\n",
    "\n",
    "Margin of Error = z * S.E =  15\n",
    "for 92% confidence interval, z = 1.75 (from the above programme)\n",
    "\n",
    "therefore, 15 = 1.75 * S.E = 1.75 * σ_pop/sqrt(n) = 1.75 * 3.6 * 60 /sqrt(n)\n",
    "\n",
    "sqrt(n) =  (1.75 * 3.6* 60)/15 = 25.2\n",
    "n = (25.2)^2 = 635.04\n",
    "\n",
    "</pre>\n",
    "### Answer: 635"
   ]
  },
  {
   "cell_type": "markdown",
   "metadata": {},
   "source": [
    "### Problem 3:\n",
    "\n",
    "3. Suppose a consumer advocacy group would like to conduct a survey to find the proportion 'p' of consumers who bought the newest generation of an MP3 player were happy with their purchase.\n",
    "\n",
    "a) How large a sample 'n' should they take to estimate 'p' with 2% margin of error and 90% confidence?\n",
    "b) The advocacy group took a random sample of 1000 consumers who recently purchased this MP3 player and found that 400 were happy with their purchase. Find a 95% confidence interval for 'p'.\n",
    "### Explanation:\n",
    "\n",
    "<pre>\n",
    "\n",
    "\n",
    "</pre>\n",
    "### Answer: 635"
   ]
  },
  {
   "cell_type": "markdown",
   "metadata": {},
   "source": [
    "### Problem 4:\n",
    "\n",
    "4. To assess the accuracy of a laboratory scale, a standard weight that is known to weigh 1 gram is repeatedly weighed 4 times. The resulting measurements (in grams) are : 0.95, 1.02, 1.01, 0.98.  Assume that the weighings by the scale when the true weight is 1 gram are normally distributed with mean µ.\n",
    " \n",
    " a) Use these data to compute a 95% confidence interval µ.\n",
    "\n",
    "Samples = [095,1.02,1.01,0.98]\n",
    "\n",
    "μs (sample)  = 0.99\n",
    "σs =  Standard Deviation of Samples = 0.031\n",
    "Sample size n = 4\n",
    "\n",
    "what is the 95% confidence interval\n",
    "\n",
    "μ weigh(sample) E= (μs +_ z*S.E)\n",
    " for 95% confidence level, prob  at right side = 95+(5/2) = 97.5\n",
    " z (for 97.7) = 1.88\n",
    "\n",
    "Standard Error = σ/sqrt(n) = 0.99/sqrt(4) = 0.99/2 = 0.495\n",
    "\n",
    "confidence interval = E= (μs +_ z*S.E) = 0.99 +/- 1.88*0.495 = 0.99 +/- 0.93 = [1.92, 0.06]\n",
    "\n",
    "b) Do these data gives evidence at 5% significance level that the scale is not accurate?"
   ]
  },
  {
   "cell_type": "code",
   "execution_count": 4,
   "metadata": {},
   "outputs": [
    {
     "data": {
      "text/plain": [
       "0.05999999999999994"
      ]
     },
     "execution_count": 4,
     "metadata": {},
     "output_type": "execute_result"
    }
   ],
   "source": [
    "0.99 - 0.93"
   ]
  },
  {
   "cell_type": "code",
   "execution_count": null,
   "metadata": {},
   "outputs": [],
   "source": [
    "# ConfidenceInterval = us +/- z*S.E"
   ]
  },
  {
   "cell_type": "code",
   "execution_count": null,
   "metadata": {},
   "outputs": [],
   "source": [
    "# (0.95+1.02+1.01+0.98)/4"
   ]
  },
  {
   "cell_type": "markdown",
   "metadata": {},
   "source": [
    "### Problem 5 \n",
    "5. The time needed for college students to complete a certain maze follows a normal distribution with a mean of 45 seconds. To see if the mean time time µ (in seconds) is changed by vigorous exercise, we have a group of nine college students exercise vigorously for 30 minutes and then complete the maze. The sample mean and standard deviation of the collected data is 49.2 seconds and 3.5 seconds respectively. Use these data to perform an appropriate test of hypothesis at 5% level of significance."
   ]
  },
  {
   "cell_type": "code",
   "execution_count": null,
   "metadata": {},
   "outputs": [],
   "source": []
  }
 ],
 "metadata": {
  "kernelspec": {
   "display_name": "Python 3",
   "language": "python",
   "name": "python3"
  },
  "language_info": {
   "codemirror_mode": {
    "name": "ipython",
    "version": 3
   },
   "file_extension": ".py",
   "mimetype": "text/x-python",
   "name": "python",
   "nbconvert_exporter": "python",
   "pygments_lexer": "ipython3",
   "version": "3.7.4"
  }
 },
 "nbformat": 4,
 "nbformat_minor": 2
}
