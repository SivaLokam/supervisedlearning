{
 "cells": [
  {
   "cell_type": "markdown",
   "metadata": {},
   "source": [
    "### Assignments on Distributions"
   ]
  },
  {
   "cell_type": "code",
   "execution_count": 1,
   "metadata": {},
   "outputs": [],
   "source": [
    "import numpy as np\n",
    "import pandas as pd\n",
    "import matplotlib.pyplot as plt\n",
    "import seaborn as sns\n",
    "import math\n",
    "\n",
    "from scipy.stats import norm\n",
    "\n",
    "import warnings\n",
    "warnings.filterwarnings('ignore')"
   ]
  },
  {
   "cell_type": "code",
   "execution_count": 2,
   "metadata": {},
   "outputs": [
    {
     "data": {
      "text/plain": [
       "10.0"
      ]
     },
     "execution_count": 2,
     "metadata": {},
     "output_type": "execute_result"
    }
   ],
   "source": [
    "#User defined functions:\n",
    "def poisson_prob(vlambda,r):\n",
    "    \"\"\"\n",
    "    Function to calculate probability with mean vlambda, and no of occurences in a given interval r is \n",
    "    (e^-lamda) * (lambda^r)/r! \n",
    "    \"\"\" \n",
    "    \n",
    "    return (np.exp(-vlambda)*math.pow(vlambda,r))/ (math.factorial(r))\n",
    "\n",
    "def nCr(n,r):\n",
    "    f = math.factorial\n",
    "    return f(n) / (f(r) * f(n-r))\n",
    "def binomial_prob(p,q,n,r):\n",
    "    \"\"\"\n",
    "        Function to calculate the binomial prob with\n",
    "        p - probability of success\n",
    "        q - probability of failure\n",
    "        n - total no of events\n",
    "        r - the no of success        \n",
    "        pmf = nCr * p^r * q^(n-r)\n",
    "    \"\"\"\n",
    "    pmf = nCr(n,r) * math.pow(p,r) * math.pow(q,(n-r))\n",
    "    return pmf    \n",
    "\n",
    "nCr(5,2)"
   ]
  },
  {
   "cell_type": "markdown",
   "metadata": {},
   "source": [
    "### span style=\"color:blue\"> 1.  Calculate frequency distribution for Age column in Titanic dataset and also PMF for the same  \n",
    "    \n",
    " - Use pandas df tutorial"
   ]
  },
  {
   "cell_type": "code",
   "execution_count": 3,
   "metadata": {},
   "outputs": [
    {
     "data": {
      "image/png": "[encoded data removed]",
      "text/plain": [
       "<Figure size 432x288 with 1 Axes>"
      ]
     },
     "metadata": {},
     "output_type": "display_data"
    }
   ],
   "source": [
    "titanic = pd.read_csv(\"train.csv\")\n",
    "\n",
    "titanic.head()\n",
    "\n",
    "titanic.isnull().sum()\n",
    "\n",
    "titanic['Age'].fillna(titanic['Age'].mean(),inplace=True)\n",
    "\n",
    "sns.set_style('whitegrid')\n",
    "sns.distplot(titanic['Age'])\n",
    "plt.show()"
   ]
  },
  {
   "cell_type": "markdown",
   "metadata": {},
   "source": [
    "<hr style=\"color:tomato;border:2px solid tomato\" >"
   ]
  },
  {
   "cell_type": "markdown",
   "metadata": {},
   "source": [
    "### <span style=\"color:blue\"> 2  The average monthly sales of 2000 firms are normally distributed with mean of Rs. 38000 and standard deviation of Rs. 10000. </span> \n",
    "\n",
    "Given <br>\n",
    "mean μ = 38000 <br>\n",
    "std σ  = 10000 <br>\n",
    "Total N = 2000 <br>\n",
    "\n",
    "#####  <span style=\"color:blue\"> a) Find the number of firms with sales of over Rs 50,000. <span style=\"color:blue\">\n",
    "##### Explanation:\n",
    "Since the sales are normally distributed, calculate the z-score at value x=50000\n",
    "z-score = (x-μ)/σ = (50000 - 38000)/10000 = 1.2\n",
    "\n",
    "prob = norm.cdf(1.2)  <br>\n",
    "    = 0.88  <br>\n",
    "\n",
    "prob at (z=1.2) = 0.88  <br>\n",
    "prob of choice = prob > 50000 <br>\n",
    "              = 1- prob at(z=1.2) <br>\n",
    "              = 1 - 0.88 <br>\n",
    "              = 0.12\n",
    "\n",
    "##### Solution: \n",
    "\n",
    "The no of firms with sales of over Rs 50,000 = prob * Total number <br>\n",
    "                                             =  0.12 * 2000  <br>\n",
    "                                             = 240 <br>\n",
    "\n",
    "##### <span style=\"color:blue\"> b) The percentage of firms with sales between Rs 38,500 and Rs 41,000. </span>\n",
    "##### Approach :\n",
    "Find the probability for firms with sales between Rs 38,500 and Rs 41,000 (by using zscores)\n",
    "Calculate total no of firms falling between these using the derived probability\n",
    "Find the percentage of firms by diving the (no of firms falling )/Total no of firms\n",
    "\n",
    "z-score at 38500 =(x-μ)/σ = (38500 - 38000)/10000 = 0.05 <br>\n",
    "z-score at 41000 = (x-μ)/σ = (41000 - 38000)/10000 = 0.3 <br>\n",
    "prob at (z=0.05) = norm.cdf(0.05) = 0.52 <br>\n",
    "prob at (z=0.3) = norm.cdf(0.3) = 0.61  <br>\n",
    "\n",
    "Required prob = cdf at 41000 - cdf at 38500 <br>\n",
    "              = 0.61 - 0.52 <br>\n",
    "              = 0.09 <br>\n",
    "Total no of firms with sales between Rs 38,500 and Rs 41,000. = prob * Total = 0.09 * 2000 = 180\n",
    "\n",
    "##### Solution: \n",
    "The percentage of firms with sales between Rs 38,500 and Rs 41,000.= 180 / 2000 = 0.09 = which is same as required prob\n",
    "\n",
    "##### <span style=\"color:blue\"> c) The number of firms with sales between Rs 30,000 and Rs 50,000. </span>\n",
    "##### Approach :\n",
    "Find the probability for firms with sales between 30,000 and Rs 50,000 (by using zscores)\n",
    "Calculate total no of firms falling between these using the derived probability\n",
    "\n",
    "\n",
    "z-score at 30000 =(x-μ)/σ = (30000 - 38000)/10000 = -0.8 <br>\n",
    "z-score at 50000 = (x-μ)/σ = (50000 - 38000)/10000 = 1.2 <br>\n",
    "prob at (z=-0.8) = norm.cdf(-0.8) = 0.21 <br>\n",
    "prob at (z=1.2) = norm.cdf(1.2) = 0.88  <br>\n",
    "\n",
    "Requireed prob = cdf at 50000 - cdf at 30000 <br>\n",
    "              = 0.88 - 0.21 <br>\n",
    "              = 0.67 <br>\n",
    "##### Solution:               \n",
    "Total no of firms with sales between Rs 30,000 and Rs 50,000. = prob * Total = 0.67 * 2000 = 180"
   ]
  },
  {
   "cell_type": "markdown",
   "metadata": {},
   "source": [
    "<hr style=\"color:tomato;border:2px solid yellow\" >"
   ]
  },
  {
   "cell_type": "markdown",
   "metadata": {},
   "source": [
    "### <span style=\"color:blue\"> 3. A test is conducted which consists of 20 MCQs with every question having 4 options. Determine the probability of a person answering exactly 5 wrong answers.\n",
    "\n",
    "##### Approach :\n",
    "The given distribution is Binomial distribution <br>\n",
    "p = prob of success = prob of wrong answer = 3/4 <br>\n",
    "q = prog of failure = prob of correct answer = 1/4 <br>\n",
    "n = total no = 20 <br> \n",
    "r = no of choices = 5 <br>\n",
    "\n",
    "pmf for binomial = ncr p^r q^(n-r) = 20c5 * (3/4)^5 * (1/4)^15 <br>\n",
    "                                   =  math.pow(3,5) / math.pow(4,20) <br>\n",
    "                                   = 0.22 <br>\n",
    "##### Solution:               \n",
    "The probability of a person answering exactly 5 wrong answers = 0.22"
   ]
  },
  {
   "cell_type": "markdown",
   "metadata": {},
   "source": [
    "<hr style=\"color:tomato;border:2px solid yello\" >"
   ]
  },
  {
   "cell_type": "markdown",
   "metadata": {},
   "source": [
    "### <span style=\"color:blue\"> 4. In an observational astronomy experiment, let the average rate of photons reaching the telescope is 4 photons per second (Poisson random variable with mean of 4). Find the probability that no photon reaches the telescope in a given second.\n",
    "\n",
    "##### Approach :\n",
    "The given distribution is poisson distribution\n",
    "lambda = 4 \n",
    "r = no of photons = 0\n",
    "pdf = (e^-lamda) * (lambda^r)/r! <br>\n",
    "    = e^-4* (lambda^0)/0! <br>\n",
    "    = e^-4 <br>\n",
    "    =np.exp(-4) <br>\n",
    "    = 0.18<br>\n",
    "##### Solution:               \n",
    "Probability that no photon reaches the telescope in a given second.¶ = 0.18    "
   ]
  },
  {
   "cell_type": "markdown",
   "metadata": {},
   "source": [
    "<hr style=\"color:tomato;border:2px solid yello\" >"
   ]
  },
  {
   "cell_type": "markdown",
   "metadata": {},
   "source": [
    "### <span style=\"color:blue\"> 5. The number of calls coming per minute into a Customer support centre is Poisson random variable with mean 3.\n",
    "##### Given :\n",
    "    The given distribution is : poisson\n",
    "    Mean lambda = 3\n",
    "##### <span style=\"color:blue\"> a) Find the probability that no calls come in a given 1-minute period.</span>\n",
    "##### Approach :\n",
    "   No of occurences in given interval of one minute (r) = 0 <br>  \n",
    "    pdf = (e^-lamda) * (lambda^r)/r! <br>    \n",
    "        = (e^-3) * (3^0)/0! <br>\n",
    "        = (e^-3) <br>\n",
    "        = np.exp(-3)\n",
    "        = 0.0497 = 0.05\n",
    "##### Solution:  \n",
    "    The probability that no calls come in a given 1-minute period = 0.05 = 5%\n",
    "##### <span style=\"color:blue\"> b) Assume that the number of calls arriving in two different minutes are independent. Find the probability that atleast  two calls will arrive in a given two-minute period. </span>\n",
    "##### Approach :\n",
    "    To find the prob for atleast two calls in given two one minute period is  = The possible combinations are :\n",
    "    \n",
    "    0 call ins first minute and >=2 calls in second minute \n",
    "    1 call in first minute  and >=1 call in second minute  \n",
    "    2 calls in first minute and >=0 calls in second minute  \n",
    "    \n",
    "    p(calls>=2) = 1-p(calls <=1)  \n",
    "    p(calls <= 1)  = (0 calls in first minute and 0 calls in second minute ) or  \n",
    "                     (1 call in first minute and 0 call in second minute ) or  \n",
    "                     (1 calls in first minute and 0 calls in second minute )     \n",
    "                    \n",
    "                    = [p(calls=0)*p(calls=0)] + [p(calls=0)*p(calls=1)] + [p(calls=1)*p(calls=0)]  \n",
    "        = [poisson_prob(3,0)* poisson_prob(3,0) ] + \n",
    "          [poisson_prob(3,1)* poisson_prob(3,0) ] + \n",
    "          [poisson_prob(3,0)* poisson_prob(3,1) ]\n",
    "        = 0.017\n",
    "      p(calls>=2)  = 1- p(calls <=1) = 1 - 0.017 = 0.983\n",
    "##### Answer:       \n",
    "  0.983 or 98.3%\n",
    "    "
   ]
  },
  {
   "cell_type": "markdown",
   "metadata": {},
   "source": [
    "<hr style=\"color:tomato;border:2px solid yello\" >"
   ]
  },
  {
   "cell_type": "markdown",
   "metadata": {},
   "source": [
    "### <span style=\"color:blue\"> 6. If a production line has a 20% defective rate. Calculate the probability of obtaining the first defected part after three good parts. What is the average number of inspections to obtain the first defective? </span>\n",
    "##### Approach\n",
    "Given distribution is : Binomial\n",
    "\n",
    "p(defective) = 20% = 0.2 <br>\n",
    "p(non-defective) * p(non-defective) * p(non-defective) * p(defective) <br>\n",
    "= 0.8 * 0.8 * 0.8 * 0.2\n",
    "= 0.1\n",
    "\n",
    "##### Solution"
   ]
  },
  {
   "cell_type": "markdown",
   "metadata": {},
   "source": [
    "<hr style=\"color:tomato;border:2px solid yello\" >"
   ]
  },
  {
   "cell_type": "markdown",
   "metadata": {},
   "source": [
    "### <span style=\"color:blue\"> 7 The probability that a student is accepted to a prestigious college is 0.3. If 5 students from the same school apply, what is the probability that atmost 2 are accepted?\n",
    "    \n",
    "##### Approach\n",
    "Given distribution is : Binomial\n",
    "pmf = nCr * p^r * q^(n-r)\n",
    "p(success)= p = p(student accepted) = 0.3 <br >\n",
    "p(failure) = q = p(student not accepted) = 0.7 <br>\n",
    "what is the prob that at most 2 are accepted out of 5 <br>\n",
    " = p(zero accepted)+p(1 accepted)+ p(2 accepted)\n",
    " \n",
    "##### <span style=\"color:tomato\"> code begin </span>\n",
    "<pre>\n",
    "p,q,n = 0.3,0.7,5 \n",
    "sum = 0 \n",
    "for r in range(3):\n",
    "    sum += binomial_prob(p,q,n,r) \n",
    "print(round(sum,2)) \n",
    "0.84  \n",
    "</pre>\n",
    "##### <span style=\"color:tomato\"> code end </span>\n",
    "\n",
    "##### Solution\n",
    "The probability that atmost 2 are accepted = 0.84"
   ]
  },
  {
   "cell_type": "markdown",
   "metadata": {},
   "source": [
    "<hr style=\"color:tomato;border:2px solid yello\" >"
   ]
  },
  {
   "cell_type": "markdown",
   "metadata": {},
   "source": [
    "### <span style=\"color:blue\"> 8.The maximum weight that an elevator in an apartment complex can accommodate is 800kg. The average adult weight be about 70kg with a variance of 200. What is the probability that the lift safely reaches the ground when there are 10 different adults in the lift? What if there are 12 adults?\n",
    "##### Approach\n",
    "Given distribution is :Normal Distribution <br>\n",
    "mean weight μ = 70 <br>\n",
    "variance σ2  = 200 <br>\n",
    "Total N = 10 <br>  \n",
    "The lift can hold upto 800kg   <br>  \n",
    "The probability that the lift safely reaches the ground  can   be calculated by  <br />\n",
    "calculating the probability that total weight is < 800, for 10 people  <br />\n",
    "which is the probaility for one person to be < 80  <br>\n",
    "p(x<=80) = ?    \n",
    "z-score at 80 =(x-μ)/σ = (80-70)/sqrt(200) = 0.7\n",
    "prob at z=0.7 = norm.cdf(0.7)  = 0.758036347776927 = 0.76  \n",
    "\n",
    "##### Solution\n",
    "The probability that the lift safely reaches the ground = <b>76% </b>\n",
    "\n",
    "##### <span style=\"color:blue\"> b) What if there are 12 adults?\n",
    "If there are 12 adults, the avg weight of each person to be 800/12 =  66.67\n",
    "p(x<=66.67) = ?  \n",
    "z-score at 66.67 =(x-μ)/σ = (66.67-70)/sqrt(200) = -0.23\n",
    "prob at z=-0.23 = norm.cdf(-0.23)  = 0.40\n",
    "##### Solution\n",
    "If there are 12 persons, there is <b>40% </b>chance that lift can come safely"
   ]
  },
  {
   "cell_type": "markdown",
   "metadata": {},
   "source": [
    "<hr style=\"color:tomato;border:2px solid yello\" >"
   ]
  },
  {
   "cell_type": "markdown",
   "metadata": {},
   "source": [
    "### <span style=\"color:blue\"> 9 A student, to test his luck, went to an examination unprepared. It was a MCQ type examination with two choices for each question. There were 50 questions of which atleast 20 are to be answered correctly to pass the test. What is the probability that he clears the exam?  If each question has 4 choices instead of two. What is the probability that he clears the exam?  </span>\n",
    "\n",
    "##### Approach\n",
    "Given distribution is : Binomial  \n",
    "pmf = nCr * p^r * q^(n-r)  \n",
    "p(success)= p = p(correct answer) = 0.5   \n",
    "p(failure) = q = p(wrong answer) = 0.5   \n",
    "what is the prob that student pass the test   \n",
    " = prob that atleast 20 were correct\n",
    " = 1- prob that <20 were correct \n",
    " for prob that <20 were correct , ,p = 0.5,q = 0.5,n=40,r=19\n",
    " p( <=19 correct) =  bionmial_prob(p,q,n,r)\n",
    " \n",
    "##### <span style=\"color:tomato\"> code begin </span>\n",
    "<pre>\n",
    "p,q,n,r = 0.5,0.5,40,19 \n",
    "prob = 0\n",
    "for r in range(20):\n",
    "    prob +=   binomial_prob(p,q,n,r) \n",
    "requried prob = 1 - prob = 1-0.32 = 0.68   \n",
    "</pre>\n",
    "##### <span style=\"color:tomato\"> code end </span>\n",
    "\n",
    "##### Solution\n",
    "The probability that studen pass when only two optins is = 0.68 or ***68%***  \n",
    "\n",
    "If there are 4 choices , the probability for correct answer is 0.25  \n",
    "\n",
    "p(success)= p = p(correct answer) = 0.25   \n",
    "p(failure) = q = p(wrong answer) = 0.75   \n",
    "what is the prob that student pass the test   \n",
    " = prob that atleast 20 were correct  \n",
    " = 1- prob that <20 were correct  \n",
    " for prob that <20 were correct , ,p = 0.25,q = 0.75,n=40,r=19  \n",
    " p( <=19 correct) =  bionmial_prob(p,q,n,r)  \n",
    " \n",
    "##### <span style=\"color:tomato\"> code begin </span>\n",
    "<pre>\n",
    "p,q,n,r = 0.25,0.75,40,19   \n",
    "prob = 0  \n",
    "for r in range(20):  \n",
    "    prob +=   binomial_prob(p,q,n,r)   \n",
    "requried prob = 1 - prob = 1-0.99 = 0.01     \n",
    "</pre>\n",
    "##### <span style=\"color:tomato\"> code end </span>  \n",
    "\n",
    "##### Solution\n",
    "The probability that studen pass when ther are 4 optins is = 0.01 or ***1%***  "
   ]
  },
  {
   "cell_type": "code",
   "execution_count": 4,
   "metadata": {},
   "outputs": [
    {
     "data": {
      "text/plain": [
       "0.9994275688928239"
      ]
     },
     "execution_count": 4,
     "metadata": {},
     "output_type": "execute_result"
    }
   ],
   "source": [
    "# p,q,n,r = 0.5,0.5,40,19\n",
    "p,q,n,r = 0.25,0.75,40,19\n",
    "prob = 0\n",
    "for r in range(20):\n",
    "    prob +=   binomial_prob(p,q,n,r) \n",
    "prob"
   ]
  },
  {
   "cell_type": "markdown",
   "metadata": {},
   "source": [
    "<hr style=\"color:tomato;border:2px solid yello\" >"
   ]
  },
  {
   "cell_type": "markdown",
   "metadata": {},
   "source": [
    "### <span style=\"color:blue\"> 10 A company manufactures LED bulbs with a faulty rate of 30%. If I randomly select 6 bulbs, what is the probability that exactly 2 are faulty?  </span>\n",
    "\n",
    "### Approach\n",
    "\n",
    "Given distribution is : Binomial  \n",
    "pmf = nCr * p^r * q^(n-r)  \n",
    "p(success)= p = p(faulty) = 0.3  \n",
    "p(failure) = q = p(not faulty) = 0.7  \n",
    "what is the prob that exactly 2 are faulty out of 6  \n",
    "p = 0.3,q = 0.7,n=6,r=2   \n",
    "p( x=2) = binomial_prob(p,q,n,r)  = 0.32\n",
    "\n",
    "### Answer:\n",
    "The prob of getting exactly 2 faulty out of 6 is 0.32 or ***32%***"
   ]
  },
  {
   "cell_type": "code",
   "execution_count": 5,
   "metadata": {},
   "outputs": [
    {
     "data": {
      "text/plain": [
       "0.3241349999999999"
      ]
     },
     "execution_count": 5,
     "metadata": {},
     "output_type": "execute_result"
    }
   ],
   "source": [
    "p,q,n,r = 0.3,0.7,6,2\n",
    "prob = binomial_prob(p,q,n,r)\n",
    "prob"
   ]
  },
  {
   "cell_type": "markdown",
   "metadata": {},
   "source": [
    "<hr style=\"color:tomato;border:2px solid yello\" >"
   ]
  },
  {
   "cell_type": "markdown",
   "metadata": {},
   "source": [
    "### <span style=\"color:blue\"> 11. For a writer, the efficiency of typing is 6 errors per hour entering 77 words per minute. What is the probability of 2 errors in 322 word report?</span>\n",
    "\n",
    "### Approach\n",
    "\n",
    "Given distribution is : Binomial  \n",
    "pmf = nCr * p^r * q^(n-r)  \n",
    "p(success)= p = p(typing error) = 6/hr = 6 / (77*60) = 1error / 770words = 1/770  \n",
    "p(failure) = q = p(no typing error) = 669/770  \n",
    "what is the prob of 2 errors in 322 words \n",
    "p = 0.002,q = 0.998,n=322,r=2   \n",
    "p( x=2) = binomial_prob(p,q,n,r)  = 0.1\n",
    "\n",
    "### Answer:\n",
    "The prob of getting exactly 2 faulty out of 6 is 0.1 or ***10%***"
   ]
  },
  {
   "cell_type": "code",
   "execution_count": 6,
   "metadata": {},
   "outputs": [
    {
     "data": {
      "text/plain": [
       "0.10893416573087525"
      ]
     },
     "execution_count": 6,
     "metadata": {},
     "output_type": "execute_result"
    }
   ],
   "source": [
    "# p = 1/770,q = 669/770,n=322,r=2 \n",
    "# p,q,n,r = 1/770,769/770,322,2\n",
    "p,q,n,r = 0.002,0.998,322,2\n",
    "prob = binomial_prob(p,q,n,r) \n",
    "prob"
   ]
  },
  {
   "cell_type": "markdown",
   "metadata": {},
   "source": [
    "### <span style=\"color:blue\"> 12 . Executives in the New Zealand Forestry Industry claim that only 5% of all old sawmills sites contain soil residuals of dioxin (an additive previously for anti-sap-stain treatment in wood) higher than the recommended level. If Environment Canterbury randomly selects 20 old sawmill  sites for inspection, assuming that the executive claim is correct: </span>"
   ]
  },
  {
   "cell_type": "markdown",
   "metadata": {},
   "source": [
    "a)    ***Calculate the probability that less than 1 site exceeds the recommended level of dioxin.***\n",
    "### Approach\n",
    "\n",
    "Given distribution is : Binomial  \n",
    "pmf = nCr * p^r * q^(n-r)  \n",
    "p(success)= p = p(exceeding the recommended level of dioxin) = 5% = 0.05  \n",
    "p(failure) = q = p(not exceeding the recommended level of dioxin) = 1 - 0.05 = 0.95    \n",
    "what is the prob that less than 1 site exceeds recommended levelout of 20 saw mills,  p(x==0) =?\n",
    "given :\n",
    "p = 0.05,q = 0.95,n=20,r=2   \n",
    "p( x=0) = binomial_prob(p,q,n,r)  = 0.35\n",
    "\n",
    "### Answer:\n",
    "The prob of getting exactly 2 faulty out of 6 is 0.35 or ***35%*** "
   ]
  },
  {
   "cell_type": "code",
   "execution_count": 7,
   "metadata": {},
   "outputs": [
    {
     "data": {
      "text/plain": [
       "0.3584859224085419"
      ]
     },
     "execution_count": 7,
     "metadata": {},
     "output_type": "execute_result"
    }
   ],
   "source": [
    "#a) \n",
    "p,q,n,r = 0.05,0.95,20,0\n",
    "prob = binomial_prob(p,q,n,r) \n",
    "prob"
   ]
  },
  {
   "cell_type": "markdown",
   "metadata": {},
   "source": [
    "b) ***Calculate the probability that less than or equal to 1 site exceed the recommended level of dioxin.***\n",
    "\n",
    "p(x<=1) = p(x=0) + p(x=1)\n",
    "##### <span style=\"color:tomato\"> code begin </span>\n",
    "<pre>\n",
    "p,q,n,r = 0.05,0.95,20,0\n",
    "prob = 0\n",
    "for r in range(2):\n",
    "    prob +=   binomial_prob(p,q,n,r)   \n",
    "</pre>\n",
    "##### <span style=\"color:tomato\"> code end </span>\n",
    "probability that less than or equal to 1 site exceed the recommended level of dioxin = 0.735 or ***73.5%***  "
   ]
  },
  {
   "cell_type": "code",
   "execution_count": 8,
   "metadata": {},
   "outputs": [
    {
     "data": {
      "text/plain": [
       "0.7358395249438492"
      ]
     },
     "execution_count": 8,
     "metadata": {},
     "output_type": "execute_result"
    }
   ],
   "source": [
    "#b\n",
    "p,q,n,r = 0.05,0.95,20,0\n",
    "prob = 0\n",
    "for r in range(2):\n",
    "    prob +=   binomial_prob(p,q,n,r) \n",
    "prob    "
   ]
  },
  {
   "cell_type": "markdown",
   "metadata": {},
   "source": [
    "c)  ***Calculate the probability that at most (i.e., maximum of) 2 sites exceed the recommended level of dioxin.***\n",
    "\n",
    "##### <span style=\"color:tomato\"> code begin </span>\n",
    "<pre>\n",
    "p,q,n,r = 0.05,0.95,20,0\n",
    "prob = 0\n",
    "for r in range(3):\n",
    "    prob +=   binomial_prob(p,q,n,r)   \n",
    "</pre>\n",
    "##### <span style=\"color:tomato\"> code end </span>\n",
    " \n",
    "### Answer:\n",
    " The probability that at most (i.e., maximum of) 2 sites exceed the recommended level of dioxin = 0.92 or ***92%***"
   ]
  },
  {
   "cell_type": "code",
   "execution_count": 9,
   "metadata": {},
   "outputs": [
    {
     "data": {
      "text/plain": [
       "0.9245163262115028"
      ]
     },
     "execution_count": 9,
     "metadata": {},
     "output_type": "execute_result"
    }
   ],
   "source": [
    "#c\n",
    "p,q,n,r = 0.05,0.95,20,0\n",
    "prob = 0\n",
    "for r in range(3):\n",
    "    prob +=   binomial_prob(p,q,n,r)\n",
    "prob"
   ]
  },
  {
   "cell_type": "markdown",
   "metadata": {},
   "source": [
    "### <span style=\"color:blue\">13. Inland Revenue audits 5% of all companies every year. The companies selected for auditing in any one year are independent of the previous year’s selection. </span>"
   ]
  },
  {
   "cell_type": "markdown",
   "metadata": {},
   "source": [
    "a)    ***What is the probability that the company ‘Ross Waste Disposal’ will be selected for auditing exactly twice in the next 5 years?***\n",
    "### Approach\n",
    "\n",
    "Given distribution is : Binomial  \n",
    "pmf = nCr * p^r * q^(n-r)  \n",
    "p(success)= p = p(company getting selected for audit) = 5% = 0.05  \n",
    "p(failure) = q = p(company not getting selected for audit) = 1 - 0.05 = 0.95    \n",
    "\n",
    "The probability that the company ‘Ross Waste Disposal’ will be selected for auditing exactly twice in the next 5 years  p(x==2) =?\n",
    "given :\n",
    "p = 0.05,q = 0.95,n=5,r=2   \n",
    "p( x=2) = binomial_prob(p,q,n,r)  = 0.35\n",
    "\n",
    "### Answer:\n",
    "The probability that the company ‘Ross Waste Disposal’ will be selected for auditing exactly twice in the next 5 years is 0.02 or ***2%*** "
   ]
  },
  {
   "cell_type": "code",
   "execution_count": 10,
   "metadata": {},
   "outputs": [
    {
     "data": {
      "text/plain": [
       "0.021434375000000002"
      ]
     },
     "execution_count": 10,
     "metadata": {},
     "output_type": "execute_result"
    }
   ],
   "source": [
    "p,q,n,r = 0.05,0.95,5,2 \n",
    "prob = binomial_prob(p,q,n,r)\n",
    "prob"
   ]
  },
  {
   "cell_type": "markdown",
   "metadata": {},
   "source": [
    "***b) What is the probability that the company will be audited exactly twice in the next 2 years?  ***\n",
    "\n",
    "p = 0.05,q = 0.95,n=2,r=2   \n",
    "p( x=2) = binomial_prob(p,q,n,r)  = 0.35 \n",
    "### Answer:\n",
    "The probability that the company will be audited exactly twice in the next 2 years is : 0.002 or ***0.2%***"
   ]
  },
  {
   "cell_type": "code",
   "execution_count": 11,
   "metadata": {},
   "outputs": [
    {
     "data": {
      "text/plain": [
       "0.0025000000000000005"
      ]
     },
     "execution_count": 11,
     "metadata": {},
     "output_type": "execute_result"
    }
   ],
   "source": [
    "p,q,n,r = 0.05,0.95,2,2 \n",
    "prob = binomial_prob(p,q,n,r)\n",
    "prob"
   ]
  },
  {
   "cell_type": "markdown",
   "metadata": {},
   "source": [
    "c) ***What is the exact probability that this company will be audited at least once in the next 4 years?***   \n",
    "p(x<=1) = ?\n",
    "##### <span style=\"color:tomato\"> code begin </span>\n",
    "<pre>\n",
    "p,q,n,r = 0.05,0.95,4,0\n",
    "prob = 0\n",
    "for r in range(2):\n",
    "    prob +=   binomial_prob(p,q,n,r)   \n",
    "</pre>\n",
    "##### <span style=\"color:tomato\"> code end </span>\n",
    "### Answer \n",
    "probability that this company will be audited at least once in the next 4 years is : 0.985 or ***98.5%***"
   ]
  },
  {
   "cell_type": "code",
   "execution_count": 12,
   "metadata": {},
   "outputs": [
    {
     "data": {
      "text/plain": [
       "0.9859812499999998"
      ]
     },
     "execution_count": 12,
     "metadata": {},
     "output_type": "execute_result"
    }
   ],
   "source": [
    "p,q,n,r = 0.05,0.95,4,0\n",
    "prob = 0\n",
    "for r in range(2):\n",
    "    prob +=   binomial_prob(p,q,n,r) \n",
    "prob    "
   ]
  },
  {
   "cell_type": "markdown",
   "metadata": {},
   "source": [
    "### <span style=\"color:blue\">14. The probability that a driver must stop at any one traffic light coming to Supervised Learning is 0.2. There are 15 sets of traffic lights on the journey.</span>"
   ]
  },
  {
   "cell_type": "markdown",
   "metadata": {},
   "source": [
    "a) What is the probability that a student must stop at exactly 2 of the 15 sets of traffic lights?\n",
    "### Approach\n",
    "\n",
    "Given distribution is : Binomial  \n",
    "pmf = nCr * p^r * q^(n-r)  \n",
    "p(success)= p = p(student stop at traffic signal) = 0.2\n",
    "p(failure) = q = p(student NOT stop at traffic signal) = 1 - 0.2 =  0.8   \n",
    "\n",
    "The probability that a student must stop at exactly 2 of the 15 sets of traffic lights  \n",
    "p(x==2) =?\n",
    "given :\n",
    "p = 0.2,q = 0.8,n=15,r=2   \n",
    "p( x=2) = binomial_prob(p,q,n,r)  = 0.35\n",
    "\n",
    "### Answer:\n",
    "The probability that a student must stop at exactly 2 of the 15 sets of traffic lights 0.23 or ***23%***"
   ]
  },
  {
   "cell_type": "code",
   "execution_count": 13,
   "metadata": {},
   "outputs": [
    {
     "data": {
      "text/plain": [
       "0.2308974418329602"
      ]
     },
     "execution_count": 13,
     "metadata": {},
     "output_type": "execute_result"
    }
   ],
   "source": [
    "p,q,n,r = 0.2,0.8,15,2 \n",
    "prob =  binomial_prob(p,q,n,r) \n",
    "prob"
   ]
  },
  {
   "cell_type": "markdown",
   "metadata": {},
   "source": [
    "b) What is the probability that a student will be stopped at 1 or more of the 15 sets of traffic lights?\n",
    "### Approach\n",
    "\n",
    "p(X >=1 )= ?\n",
    "##### <span style=\"color:tomato\"> code begin </span>\n",
    "<pre>\n",
    "p,q,n,r = 0.2,0.8,15,2 \n",
    "prob = 0\n",
    "for r in range(1,16):\n",
    "    prob +=   binomial_prob(p,q,n,r)   \n",
    "</pre>\n",
    "##### <span style=\"color:tomato\"> code end </span>\n",
    "\n",
    "### Answer : \n",
    "Probability that a student will be stopped at 1 or more of the 15 sets of traffic lights? is 0.96 or ***96%***"
   ]
  },
  {
   "cell_type": "code",
   "execution_count": 14,
   "metadata": {},
   "outputs": [
    {
     "data": {
      "text/plain": [
       "0.9648156279111688"
      ]
     },
     "execution_count": 14,
     "metadata": {},
     "output_type": "execute_result"
    }
   ],
   "source": [
    "p,q,n,r = 0.2,0.8,15,2 \n",
    "prob = 0\n",
    "for r in range(1,16):\n",
    "#     print(r)\n",
    "    prob +=   binomial_prob(p,q,n,r) \n",
    "prob    "
   ]
  },
  {
   "cell_type": "markdown",
   "metadata": {},
   "source": [
    "<hr />"
   ]
  },
  {
   "cell_type": "markdown",
   "metadata": {},
   "source": [
    "###  END "
   ]
  }
 ],
 "metadata": {
  "kernelspec": {
   "display_name": "Python 3",
   "language": "python",
   "name": "python3"
  },
  "language_info": {
   "codemirror_mode": {
    "name": "ipython",
    "version": 3
   },
   "file_extension": ".py",
   "mimetype": "text/x-python",
   "name": "python",
   "nbconvert_exporter": "python",
   "pygments_lexer": "ipython3",
   "version": "3.7.4"
  }
 },
 "nbformat": 4,
 "nbformat_minor": 2
}
