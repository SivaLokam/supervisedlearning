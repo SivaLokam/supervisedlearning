{
 "cells": [
  {
   "cell_type": "markdown",
   "metadata": {},
   "source": [
    "## Assignments of Confidence Intervals"
   ]
  },
  {
   "cell_type": "markdown",
   "metadata": {},
   "source": [
    "#### Index\n",
    "- [Problem 1](#Problem1)  - [Problem 2](#Problem2)  - [Problem 3](#Problem3) - [Problem 4](#Problem4) \n",
    "- [Problem 5](#Problem5)  - [Problem 6](#Problem6)  - [Problem 7](#Problem7) - [Problem 8](#Problem8)  \n",
    "- [Problem 9](#Problem9)  - [Problem 10](#Problem10)  - [Problem 11](#Problem11) - [Problem 12](#Problem12)\n",
    "- [Problem 13](#Problem13)  - [Problem 14](#Problem14)  - [Problem 15](#Problem15) "
   ]
  },
  {
   "cell_type": "code",
   "execution_count": 1,
   "metadata": {},
   "outputs": [],
   "source": [
    "import numpy as np\n",
    "from scipy.stats import norm\n",
    "from scipy.stats import zscore"
   ]
  },
  {
   "cell_type": "code",
   "execution_count": 2,
   "metadata": {},
   "outputs": [],
   "source": [
    "def zvalue(prob=0.5):\n",
    "    \"\"\"\n",
    "    UDF to find the z-value for the respective prob\n",
    "    \n",
    "    \"\"\"\n",
    "    z = norm.ppf(prob)\n",
    "    return z"
   ]
  },
  {
   "cell_type": "code",
   "execution_count": 3,
   "metadata": {},
   "outputs": [],
   "source": [
    "# help(zscore)"
   ]
  },
  {
   "cell_type": "code",
   "execution_count": 4,
   "metadata": {},
   "outputs": [],
   "source": [
    "# help(zvalue)"
   ]
  },
  {
   "cell_type": "code",
   "execution_count": 5,
   "metadata": {},
   "outputs": [
    {
     "data": {
      "text/plain": [
       "2.0537489106318225"
      ]
     },
     "execution_count": 5,
     "metadata": {},
     "output_type": "execute_result"
    }
   ],
   "source": [
    "zvalue(0.98)"
   ]
  },
  {
   "cell_type": "code",
   "execution_count": 6,
   "metadata": {},
   "outputs": [],
   "source": [
    "def confidenceInterval(sample_avearage_u,sample_size_n,standard_deviation_σ,confidence=0.98,log=False):\n",
    "    \"\"\"\n",
    "    UDF to find the confidence interval for given \n",
    "    Sample mean                      -- sample_avearage_u\n",
    "    Size of the sample               -- sample_size_n\n",
    "    Standard deviation of population -- standard_deviation_σ\n",
    "    Confidence value between 0 and 1 -- confidence\n",
    "    Enable the log to print          -- log\n",
    "    \"\"\"\n",
    "    \n",
    "    Standard_Error = SE = standard_deviation_σ/np.sqrt(sample_size_n)    \n",
    "    if(log) :print(f\"Standard Error \\t\\t\\t {SE}\")\n",
    "    cumulative_prob_at_confidence= confidence+((1-confidence)/2)\n",
    "    if(log) : print(f\"cumulative_prob_at_confidence \\t {cumulative_prob_at_confidence}\")\n",
    "    z_at_confidence = norm.ppf(cumulative_prob_at_confidence)\n",
    "    if(log) : print(f\"z_at_confidence \\t\\t {z_at_confidence}\")\n",
    "    confidence_interval = [(sample_avearage_u - (z_at_confidence*SE)),(sample_avearage_u + (z_at_confidence*SE))]    \n",
    "    if(log) : print(f\"confidence_interval \\t\\t {confidence_interval}\")\n",
    "    return confidence_interval\n",
    "    "
   ]
  },
  {
   "cell_type": "markdown",
   "metadata": {},
   "source": [
    "### Problem1\n",
    "\n",
    "Suppose we want to estimate the average weight of an adult male in Dekalb County, Georgia. We draw a random sample of 1,000 men from a population of 1,000,000 men and weigh them. We find that the average man in our sample weighs 180 pounds, and the standard deviation of the sample is 30 pounds. What is the 95% confidence interval?\n",
    "\n",
    "### Explanation:\n",
    "\n",
    "<pre>\n",
    "Total population N = 1,000,000\n",
    "\n",
    "μs weigh(sample)  = 180 pounds\n",
    "σs =  30 pounds\n",
    "Sample size n = 1000\n",
    "\n",
    "what is the 95% confidence interval\n",
    "\n",
    "μ weigh(sample) E= (μs +_ z*S.E)\n",
    " for 95% confidence level, prob  at right side = 95+(5/2) = 97.5\n",
    " z (for 97.5) = 1.96\n",
    " \n",
    "Standard Error = σ/sqrt(n) = 30/sqrt(1000) = 0.948\n",
    "\n",
    "confidence interval = E= (μs +_ z*S.E) = 180 +/- 1.96*0.948 = [178.14, 181.85]\n",
    "</pre>"
   ]
  },
  {
   "cell_type": "code",
   "execution_count": 7,
   "metadata": {},
   "outputs": [
    {
     "name": "stdout",
     "output_type": "stream",
     "text": [
      "Standard Error \t\t\t 0.9486832980505138\n",
      "cumulative_prob_at_confidence \t 0.975\n",
      "z_at_confidence \t\t 1.959963984540054\n",
      "confidence_interval \t\t [178.14061490308632, 181.85938509691368]\n"
     ]
    },
    {
     "data": {
      "text/plain": [
       "[178.14061490308632, 181.85938509691368]"
      ]
     },
     "execution_count": 7,
     "metadata": {},
     "output_type": "execute_result"
    }
   ],
   "source": [
    "confidenceInterval(180,1000,30,0.95,True)"
   ]
  },
  {
   "cell_type": "markdown",
   "metadata": {},
   "source": [
    "### Answer: [178.14, 181.85]"
   ]
  },
  {
   "cell_type": "markdown",
   "metadata": {},
   "source": [
    "### Problem2\n",
    "\n",
    "2. The operations manager of a large production plant would like to estimate the mean amount of time a worker takes to assemble a new electronic component. Assume that the standard deviation of this assembly time is 3.6 minutes.\n",
    "\n",
    "a) After observing 120 workers assembling similar devices, the manager noticed that their average time was 16.2 minuted. Construct a 92% confidence interval for the mean assembly time.\n",
    "\n",
    "### Explanation:\n",
    "\n",
    "<pre>\n",
    "σ (population)  =  3.6 min\n",
    "\n",
    "μs time(sample)  = 16.2 min\n",
    "\n",
    "Sample size n = 120\n",
    "\n",
    "construct 92% confidence interval\n",
    "\n",
    "for 92% confidence interval , P(ucv) = 92+(8/2) = 96% = 0.96\n",
    "z-score at 0.96 = 1.75                ( from z-table)\n",
    "\n",
    "Standard Error = σ (sampling distribution) = σ (population)/ sqrt(n) = 3.6/sqrt(120) = 0.33\n",
    "\n",
    "μ time(sample) E= (μs +_ z*S.E)\n",
    " confidence interval = E= (μs +_ z*S.E) = 16.2 +/- 1.75*0.33 = 16.2 +/- 0.5775 = [15.62,16.78]\n",
    "</pre>"
   ]
  },
  {
   "cell_type": "code",
   "execution_count": 8,
   "metadata": {},
   "outputs": [
    {
     "name": "stdout",
     "output_type": "stream",
     "text": [
      "Standard Error \t\t\t 0.3286335345030997\n",
      "cumulative_prob_at_confidence \t 0.96\n",
      "z_at_confidence \t\t 1.7506860712521692\n",
      "confidence_interval \t\t [15.624665848599054, 16.775334151400944]\n"
     ]
    },
    {
     "data": {
      "text/plain": [
       "[15.624665848599054, 16.775334151400944]"
      ]
     },
     "execution_count": 8,
     "metadata": {},
     "output_type": "execute_result"
    }
   ],
   "source": [
    "confidenceInterval(16.2,120,3.6,0.92,True)"
   ]
  },
  {
   "cell_type": "markdown",
   "metadata": {},
   "source": [
    "### Answer: 16.2 +/- 0.5775 = [15.62,16.78]"
   ]
  },
  {
   "cell_type": "markdown",
   "metadata": {},
   "source": [
    "b) How many workers should be involved in this study inorder to have the mean assembly time estimated upto ±15 seconds with 92% confidence?\n",
    "\n",
    "### Explanation:\n",
    "\n",
    "<pre>\n",
    "σ (population)  =  3.6 min = 3.6 * 60 secs\n",
    "\n",
    "Margin of Error = z * S.E =  15 (given in problem statement)\n",
    "for 92% confidence interval, z = 1.75 (from the above programme)\n",
    "\n",
    "therefore, 15 = 1.75 * S.E = 1.75 * σ_pop/sqrt(n) = 1.75 * 3.6 * 60 /sqrt(n)\n",
    "\n",
    "sqrt(n) =  (1.75 * 3.6* 60)/15 = 25.2\n",
    "n = (25.2)^2 = 635.04\n",
    "\n",
    "</pre>\n",
    "### Answer: 635"
   ]
  },
  {
   "cell_type": "markdown",
   "metadata": {},
   "source": [
    "### Problem3\n",
    "\n",
    "3. Suppose a consumer advocacy group would like to conduct a survey to find the proportion 'p' of consumers who bought the newest generation of an MP3 player were happy with their purchase.\n",
    "\n",
    "a) How large a sample 'n' should they take to estimate 'p' with 2% margin of error and 90% confidence?\n",
    "b) The advocacy group took a random sample of 1000 consumers who recently purchased this MP3 player and found that 400 were happy with their purchase. Find a 95% confidence interval for 'p'.\n",
    "### Explanation:\n",
    "\n",
    "<pre>\n",
    "\n",
    "\n",
    "</pre>\n",
    "### Answer:"
   ]
  },
  {
   "cell_type": "markdown",
   "metadata": {},
   "source": [
    "### Problem4\n",
    "\n",
    "4. To assess the accuracy of a laboratory scale, a standard weight that is known to weigh 1 gram is repeatedly weighed 4 times. The resulting measurements (in grams) are : 0.95, 1.02, 1.01, 0.98.  Assume that the weighings by the scale when the true weight is 1 gram are normally distributed with mean µ.\n",
    " \n",
    " a) Use these data to compute a 95% confidence interval µ.\n",
    "\n",
    "Samples = [095,1.02,1.01,0.98]\n",
    "\n",
    "μs (sample)  = 0.99  \n",
    "σs =  Standard Deviation of Samples Standard Error = 0.031  \n",
    "Sample size n = 4  \n",
    "\n",
    "what is the 95% confidence interval\n",
    "\n",
    "μ weigh(sample) E= (μs +_ z*S.E)\n",
    " for 95% confidence level, prob  at right side = 95+(5/2) = 97.5\n",
    " z (for 97.7) = 1.96\n",
    "\n",
    "Standard Error = σ/sqrt(n) = 0.99/sqrt(4) = 0.99/2 = 0.495\n",
    "\n",
    "confidence interval = E= (μs +_ z*S.E) = 0.99 +/- 1.96*0.495 = [0.96, 1.01]"
   ]
  },
  {
   "cell_type": "code",
   "execution_count": 9,
   "metadata": {},
   "outputs": [
    {
     "name": "stdout",
     "output_type": "stream",
     "text": [
      "Standard Error \t\t\t 0.015\n",
      "cumulative_prob_at_confidence \t 0.975\n",
      "z_at_confidence \t\t 1.959963984540054\n",
      "confidence_interval \t\t [0.9606005402318992, 1.0193994597681009]\n"
     ]
    },
    {
     "data": {
      "text/plain": [
       "[0.9606005402318992, 1.0193994597681009]"
      ]
     },
     "execution_count": 9,
     "metadata": {},
     "output_type": "execute_result"
    }
   ],
   "source": [
    "confidenceInterval(0.99,4,0.03,0.95,True)"
   ]
  },
  {
   "cell_type": "markdown",
   "metadata": {},
   "source": [
    "b) Do these data gives evidence at 5% significance level that the scale is not accurate?  \n",
    "\n",
    "### Answer: \n",
    "Since all the measurements does not fall with in the confidence interval, the data shows that the scale is **not accurate** ath 95% significance level"
   ]
  },
  {
   "cell_type": "markdown",
   "metadata": {},
   "source": [
    "### Problem5\n",
    "5. The time needed for college students to complete a certain maze follows a normal distribution with a mean of 45 seconds. To see if the mean time time µ (in seconds) is changed by vigorous exercise, we have a group of nine college students exercise vigorously for 30 minutes and then complete the maze. The sample mean and standard deviation of the collected data is 49.2 seconds and 3.5 seconds respectively. Use these data to perform an appropriate test of hypothesis at 5% level of significance.\n",
    "\n",
    "### Explanation:\n",
    "Null Hypothesesis (h0) = Status quo = even with practice, it wont improve the solving time  \n",
    "Alternate hypothesis (h1) = with practice it will improve the solving time  \n",
    "\n",
    "### Solving  \n",
    "mean time to complete maize (μpop)  = 45 seconds\n",
    "\n",
    "μs time(sample)  = 49.2 seconds\n",
    "σs = std dev of sample=  3.5 seconds\n",
    "group of college students = Sample size n = 9\n",
    "\n",
    "Hypothesis test at 5% level of significance, which means we need confidence of 95%\n",
    "\n",
    "μ weigh(sample) E= (μs +_ z*S.E)\n",
    " for 95% confidence level, prob  at right side = 95+(5/2) = 97.5\n",
    " z (for 97.5) = 1.96\n",
    "\n",
    "standard error = σ/sqrt(n) = 3.5/sqrt(9) = 1.17\n",
    "\n",
    "confidence interval = E= (μpop +_ z * S.E) = 45 +/- 1.96 * 1.17 = [42.71, 47.28]"
   ]
  },
  {
   "cell_type": "code",
   "execution_count": 10,
   "metadata": {},
   "outputs": [
    {
     "name": "stdout",
     "output_type": "stream",
     "text": [
      "Standard Error \t\t\t 1.1666666666666667\n",
      "cumulative_prob_at_confidence \t 0.975\n",
      "z_at_confidence \t\t 1.959963984540054\n",
      "confidence_interval \t\t [42.71337535136993, 47.28662464863007]\n"
     ]
    },
    {
     "data": {
      "text/plain": [
       "[42.71337535136993, 47.28662464863007]"
      ]
     },
     "execution_count": 10,
     "metadata": {},
     "output_type": "execute_result"
    }
   ],
   "source": [
    "confidenceInterval(45,9,3.5,0.95,True)"
   ]
  },
  {
   "cell_type": "markdown",
   "metadata": {},
   "source": [
    "### Conclusion:   \n",
    "Since the Observed mean value 49.2 not in the confidence interval of [42.71 - 47.28], Reject Null Hypothesis.  \n",
    "With practice, the time to solve the maze changes vigourously, infact increased"
   ]
  },
  {
   "cell_type": "markdown",
   "metadata": {},
   "source": [
    "### Problem6\n",
    "Installation of a certain hardware takes a random amount of time with a standard deviation of 5 minutes. A computer technician installs this hardware on 64 different computers, with the average installation time of 42 minutes. Compute a 95% confidence interval for the mean installation time."
   ]
  },
  {
   "cell_type": "markdown",
   "metadata": {},
   "source": [
    "##### Explanation\n",
    "μs weigh(sample)  = 42 minutes  \n",
    "σpop =  5 minutes\n",
    "Sample size n = 64\n",
    "\n",
    "compute 95% confidence interval\n",
    "\n",
    "μ weigh(sample) E= (μs +_ z*S.E)\n",
    " for 95% confidence level, prob  at right side = 95+(5/2) = 97.5\n",
    " z (for 97.5) = 1.96\n",
    "\n",
    "Standard Error = σ/sqrt(n) = 5/sqrt(64) = 5/8 = 0.625\n",
    "\n",
    "confidence interval = E= (μs +_ z*S.E) = 42 +/- 1.96 * 0.625 = [40.78,43.22]"
   ]
  },
  {
   "cell_type": "code",
   "execution_count": 11,
   "metadata": {},
   "outputs": [
    {
     "name": "stdout",
     "output_type": "stream",
     "text": [
      "Standard Error \t\t\t 0.625\n",
      "cumulative_prob_at_confidence \t 0.975\n",
      "z_at_confidence \t\t 1.959963984540054\n",
      "confidence_interval \t\t [40.77502250966246, 43.22497749033754]\n"
     ]
    },
    {
     "data": {
      "text/plain": [
       "[40.77502250966246, 43.22497749033754]"
      ]
     },
     "execution_count": 11,
     "metadata": {},
     "output_type": "execute_result"
    }
   ],
   "source": [
    "confidenceInterval(42,64,5,0.95,True)"
   ]
  },
  {
   "cell_type": "markdown",
   "metadata": {},
   "source": [
    "### Answer :  \n",
    "95% confidence interval is : [40.78 , 43.22]"
   ]
  },
  {
   "cell_type": "markdown",
   "metadata": {},
   "source": [
    "### Problem7\n",
    "\n",
    "A topic of interest in ophthalmology is whether or not spherical refraction differs between the left and right eye on average. In a study to investigate this, refraction was measured on the left and right eye of 17 patients. The differences (right - left) in diopters were d1,d2,⋯d17 and elementary calculations gave ∑i=117di=−3.50 and ∑i=117di2=19.13. Provide a 90% confidence interval (to 2dp) for the average difference (right - left).\n",
    "\n",
    "#### Explanation \n",
    "μs weigh(sample) = 42 minutes\n",
    "\n",
    "σpop = 5 minutes Sample size n = 64\n",
    "\n",
    "compute 95% confidence interval\n",
    "\n",
    "μ weigh(sample) E= (μs +_ z*S.E) for 95% confidence level, prob at right side = 95+(5/2) = 97.5 z (for 97.5) = 1.96\n",
    "\n",
    "Standard Error = σ/sqrt(n) = 5/sqrt(64) = 5/8 = 0.625\n",
    "\n",
    "confidence interval = E= (μs +_ z*S.E) = 42 +/- 1.96 * 0.625 = [40.78,43.22]\n"
   ]
  },
  {
   "cell_type": "markdown",
   "metadata": {},
   "source": [
    "### Problem8\n",
    "\n",
    "What is the smallest sample size required to provide a 95% confidence interval for a mean, if it important that the interval be no longer than 1cm? You may assume that the population is normal with variance 9 cm ^2.\n",
    "\n",
    "#### Explanation \n",
    "\n",
    "Given :   \n",
    "          variance = 9  \n",
    "          std.deviation = sqrt(variance) = sqrt(9) = 3  \n",
    "          confidence_interval = 95% = 0.95  \n",
    "          for 95% confidence level, prob  at right side = 95+(5/2) = 97.5  \n",
    "          z (for 97.5) = 1.96  \n",
    "          interval = 1cm = margin of error = 1/2 = 0.5 cm  \n",
    "          margin of error = z * SE = 1.96 * 3/sqrt(n) = 0.5  \n",
    "          sqrt(n) = ( 1.96 * 3 ) / 0.5 = 11.76  \n",
    "\n",
    "### Answer :       \n",
    "    To get 95% confidence with interval not more than 1cm smallest sample size required is : 12\n",
    " \n",
    " "
   ]
  },
  {
   "cell_type": "markdown",
   "metadata": {},
   "source": [
    "### Problem9\n",
    "\n",
    "The recommended retail price of a brand of designer jeans is $150. The price of the jeans in a sample of 16 retailers is on average $141 with a sample standard deviation of 4. If this is a ‘random’ sample and the prices can be assumed to be normally distributed, construct a 95% confidence interval for the average sale price.\n",
    "\n",
    "### Explanation\n",
    "\n",
    "recommended retail price = upop = $150  \n",
    "sample size = 16  \n",
    "usample = 141  \n",
    "std deviation of sample = 4  \n",
    "confidece = 95%  \n",
    "prob on right side = 95 + (5/2) = 97.5  \n",
    "z at 97.5 = 1.96  \n",
    "Standard Error = σ/sqrt(n) = 4 / sqrt(16) = 1  \n",
    "confidence interface = E= (μs +_ z*S.E) = 150 +/- 1.96 * 1 = [148.04,151.95] "
   ]
  },
  {
   "cell_type": "code",
   "execution_count": 12,
   "metadata": {},
   "outputs": [
    {
     "name": "stdout",
     "output_type": "stream",
     "text": [
      "Standard Error \t\t\t 1.0\n",
      "cumulative_prob_at_confidence \t 0.975\n",
      "z_at_confidence \t\t 1.959963984540054\n",
      "confidence_interval \t\t [148.04003601545995, 151.95996398454005]\n"
     ]
    },
    {
     "data": {
      "text/plain": [
       "[148.04003601545995, 151.95996398454005]"
      ]
     },
     "execution_count": 12,
     "metadata": {},
     "output_type": "execute_result"
    }
   ],
   "source": [
    "confidenceInterval(150,16,4,0.95,True)"
   ]
  },
  {
   "cell_type": "markdown",
   "metadata": {},
   "source": [
    "### Answer: [148.04 , 151.95]"
   ]
  },
  {
   "cell_type": "markdown",
   "metadata": {},
   "source": [
    "### Problem10\n",
    "\n",
    "Alcohol abuse has been described by college presidents as the number one problem on campus and is an important cause of death in young adults. A survey of 17,096 students in U.S. four-year colleges collected information on drinking behavior and alcohol-related problems . The researches defined ‘frequent binge-drinking’ as having five or more drinks in a row three or more times in the past two weeks. According to their definition, 3,314 students were classified as frequent binge-drinkers. Construct a 90% confidence interval around the true proportion of binge-drinkers.\n",
    "\n",
    "### Explanation\n",
    "\n",
    "recommended retail price = upop = $150\n",
    "sample size = 16\n",
    "usample = 141\n",
    "std deviation of sample = 4\n",
    "confidece = 95%\n",
    "prob on right side = 95 + (5/2) = 97.5\n",
    "z at 97.5 = 1.96\n",
    "Standard Error = σ/sqrt(n) = 4 / sqrt(16) = 1\n",
    "confidence interface = E= (μs +_ z*S.E) = 150 +/- 1.96 * 1 = [148.04,151.95] "
   ]
  },
  {
   "cell_type": "markdown",
   "metadata": {},
   "source": [
    "### Problem11\n",
    "\n",
    " A random sample of 100 items is taken, producing a sample mean of 49. The population std deviation is: 4.49 construct a 90% confidence interval to estimate the population mean.\n",
    "### Explanation\n",
    "\n",
    "\n",
    "sample size = 100  \n",
    "usample = 49  \n",
    "std deviation of population = 4.49  \n",
    "confidece = 90%  \n",
    "prob on right side = 90 + (10/2) = 95  \n",
    "z at 95 = 1.65  \n",
    "Standard Error = σ/sqrt(n) = 4.49 / sqrt(100) = 0.449  \n",
    "confidence interface = E= (μs +_ z*S.E) = 49 +/- 1.65 * 0.449 = [48.26,49.74]   "
   ]
  },
  {
   "cell_type": "code",
   "execution_count": 13,
   "metadata": {},
   "outputs": [
    {
     "name": "stdout",
     "output_type": "stream",
     "text": [
      "Standard Error \t\t\t 0.449\n",
      "cumulative_prob_at_confidence \t 0.95\n",
      "z_at_confidence \t\t 1.6448536269514722\n",
      "confidence_interval \t\t [48.261460721498786, 49.738539278501214]\n"
     ]
    },
    {
     "data": {
      "text/plain": [
       "[48.261460721498786, 49.738539278501214]"
      ]
     },
     "execution_count": 13,
     "metadata": {},
     "output_type": "execute_result"
    }
   ],
   "source": [
    "confidenceInterval(49,100,4.49,0.9,True)"
   ]
  },
  {
   "cell_type": "markdown",
   "metadata": {},
   "source": [
    "### Answer :  [48.26,49.74] "
   ]
  },
  {
   "cell_type": "markdown",
   "metadata": {},
   "source": [
    "### Problem12\n",
    "\n",
    " Click fraud has become a major concern as more and more companies advertise on the internet. When Google places an ad for a company with its search results, the company pays a fee to Google each time someone clicks on the link. That’s fine when it’s a person who’s interested in buying a product or service, but not so good when it’s a computer program pretending to be a customer. An analysis of 1200 clicks coming into a company’s site during a week identified that 175 of these clicks are fraudulent. Compute the confidence interval with 95% confidence for the proportion of fraudulent clicks.\n",
    " \n",
    "### Explanation\n",
    "\n",
    "\n",
    "sample size = 1200 \n",
    "probability of fradulent = p = (175/1200)\n",
    "probability of not fradulent = q = (1025/1200)\n",
    "mean = np = 1200 * (175 / 1200) = 175\n",
    "variance = npq = 1200 * (175/1200) * (1025/1200) = 149.479 \n",
    "std dev = sqrt(149.479) = 12.22\n",
    "\n",
    "confidece = 95%  \n",
    "prob on right side = 95 + (5/2) = 97.5  \n",
    "z at 97.5 = 1.96  \n",
    "Standard Error = σ/sqrt(n) = 12.22 / sqrt(1200) = 0.35  \n",
    "confidence interface = E= (μs +_ z*S.E) = 175 +/- 1.96* 0.35 = [174.3 , 175.68]   "
   ]
  },
  {
   "cell_type": "code",
   "execution_count": 14,
   "metadata": {},
   "outputs": [
    {
     "name": "stdout",
     "output_type": "stream",
     "text": [
      "Standard Error \t\t\t 0.3527610144748613\n",
      "cumulative_prob_at_confidence \t 0.975\n",
      "z_at_confidence \t\t 1.959963984540054\n",
      "confidence_interval \t\t [174.30860111647945, 175.69139888352055]\n"
     ]
    },
    {
     "data": {
      "text/plain": [
       "[174.30860111647945, 175.69139888352055]"
      ]
     },
     "execution_count": 14,
     "metadata": {},
     "output_type": "execute_result"
    }
   ],
   "source": [
    "confidenceInterval(175,1200,12.22,0.95,True)"
   ]
  },
  {
   "cell_type": "markdown",
   "metadata": {},
   "source": [
    "### Answer: [174.3 , 175.68] "
   ]
  },
  {
   "cell_type": "markdown",
   "metadata": {},
   "source": [
    "### Problem13\n",
    "\n",
    "Of the 59 basket-ball players, 15 are left-handed. Find the true percentage of left-handed players at 95% confidence.\n",
    "\n",
    "### Explanation\n",
    "\n",
    "\n",
    "sample size = 59  \n",
    "probability of left-handed = p = (15/59)  \n",
    "probability of not left-handed = q = (44/59)  \n",
    "mean = np = 59 * (15 / 59) = 15  \n",
    "variance = npq = 59 * (15/59) * (44/59) = 11.18  \n",
    "std dev = sqrt(11.18) = 3.34  \n",
    "\n",
    "confidece = 95%  \n",
    "prob on right side = 95 + (5/2) = 97.5  \n",
    "z at 97.5 = 1.96  \n",
    "Standard Error = σ/sqrt(n) = 3.34 / sqrt(59) = 0.43  \n",
    "confidence interface = E= (μs +_ z*S.E) = 15 +/- 1.96 * 0.43 = [14.16,15.84]   "
   ]
  },
  {
   "cell_type": "code",
   "execution_count": 15,
   "metadata": {},
   "outputs": [
    {
     "name": "stdout",
     "output_type": "stream",
     "text": [
      "Standard Error \t\t\t 0.4348309626759517\n",
      "cumulative_prob_at_confidence \t 0.975\n",
      "z_at_confidence \t\t 1.959963984540054\n",
      "confidence_interval \t\t [14.147746973792254, 15.852253026207746]\n"
     ]
    },
    {
     "data": {
      "text/plain": [
       "[14.147746973792254, 15.852253026207746]"
      ]
     },
     "execution_count": 15,
     "metadata": {},
     "output_type": "execute_result"
    }
   ],
   "source": [
    "confidenceInterval(15,59,3.34,0.95,True)"
   ]
  },
  {
   "cell_type": "markdown",
   "metadata": {},
   "source": [
    "### Answer : [14.16,15.84] "
   ]
  },
  {
   "cell_type": "markdown",
   "metadata": {},
   "source": [
    "### Problem14\n",
    "\n",
    "A group of investors wants to develop a chain of fast food restaurants. In determining the potential costs for each facility, they must consider, among other expenses, the average monthly electric bill. They decide to sample fast food restaurants currently opening to estimate the monthly costs of electricity. They want to be 90% confident of their results and want the error of the interval estimate to be no more than $100. They estimate the such bill have the standard deviation 475. How large the sample should they take?\n",
    "\n",
    "### Explanation\n",
    "\n",
    "\n",
    "confidece = 90%  \n",
    "prob on right side = 90 + (10/2) = 95%  \n",
    "z at 95 = 1.64  \n",
    "margin-of-error = 100/2 = 50  \n",
    "std.deviation = 475  \n",
    "n = ?  \n",
    "\n",
    "margin of error = Z * SE = Z * sigma/ sqrt(n) = 1.64 * 475 / sqrt(n)  \n",
    "\n",
    "50 = 1.64 * 475 / sqrt(n) \n",
    "sqrt(n) = (1.64 * 475)/50 = 15.58  \n",
    "n  = 242.73 ~= 243  \n",
    " "
   ]
  },
  {
   "cell_type": "markdown",
   "metadata": {},
   "source": [
    "### Answer : Sample size should be  >= 243"
   ]
  },
  {
   "cell_type": "markdown",
   "metadata": {},
   "source": [
    "### Problem15\n",
    "\n",
    "A marketing director of a large department store wants to estimate the average number of customers who enter the store every five minutes. She randomly selects five-minute intervals and counts the number of arrivals at the store. She obtains the figures 68, 42, 51, 57, 56, 80, 45, 39, 36 and 79. Using this data, the analyst computes a 95% confidence interval to estimate the mean value for all five-minute intervals. What interval value does she get?\n",
    "\n",
    "### Explanation\n",
    "\n",
    "\n",
    "sample size = 10  \n",
    "samples = [68, 42, 51, 57, 56, 80, 45, 39, 36 , 79]  \n",
    "sample mean = us = 55.3  \n",
    "std dev = 15.08  \n",
    "\n",
    "confidece = 95%  \n",
    "prob on right side = 95 + (5/2) = 97.5  \n",
    "z at 97.5 = 1.96  \n",
    "Standard Error = σ/sqrt(n) = 15.08 / sqrt(10) = 4.76  \n",
    "confidence interface = E= (μs +_ z*S.E) = 55.3 +/- 1.96 * 4.76= [45.97,64.26]  "
   ]
  },
  {
   "cell_type": "code",
   "execution_count": 16,
   "metadata": {},
   "outputs": [
    {
     "name": "stdout",
     "output_type": "stream",
     "text": [
      "Standard Error \t\t\t 4.7687147115339155\n",
      "cumulative_prob_at_confidence \t 0.975\n",
      "z_at_confidence \t\t 1.959963984540054\n",
      "confidence_interval \t\t [45.95349091284721, 64.64650908715278]\n"
     ]
    },
    {
     "data": {
      "text/plain": [
       "[45.95349091284721, 64.64650908715278]"
      ]
     },
     "execution_count": 16,
     "metadata": {},
     "output_type": "execute_result"
    }
   ],
   "source": [
    "confidenceInterval(55.3,10,15.08,0.95,True)"
   ]
  },
  {
   "cell_type": "code",
   "execution_count": 17,
   "metadata": {},
   "outputs": [
    {
     "name": "stdout",
     "output_type": "stream",
     "text": [
      "Help on function confidenceInterval in module __main__:\n",
      "\n",
      "confidenceInterval(sample_avearage_u, sample_size_n, standard_deviation_σ, confidence=0.98, log=False)\n",
      "    UDF to find the confidence interval for given \n",
      "    Sample mean                      -- sample_avearage_u\n",
      "    Size of the sample               -- sample_size_n\n",
      "    Standard deviation of population -- standard_deviation_σ\n",
      "    Confidence value between 0 and 1 -- confidence\n",
      "    Enable the log to print          -- log\n",
      "\n"
     ]
    }
   ],
   "source": [
    "help(confidenceInterval)"
   ]
  },
  {
   "cell_type": "markdown",
   "metadata": {},
   "source": [
    "### Clarifications \n",
    "* Problem3 , Need to know the process for solving binomial distribution\n",
    "* Problem7 Question need some more explanation about what is 90% confidence interval (to 2dp) and \n",
    "* Problem10 need to be double check the process for solving binomial distribution\n",
    "* Need to know the process is correct or not for binomial distribution"
   ]
  },
  {
   "cell_type": "code",
   "execution_count": null,
   "metadata": {},
   "outputs": [],
   "source": []
  }
 ],
 "metadata": {
  "kernelspec": {
   "display_name": "Python 3",
   "language": "python",
   "name": "python3"
  },
  "language_info": {
   "codemirror_mode": {
    "name": "ipython",
    "version": 3
   },
   "file_extension": ".py",
   "mimetype": "text/x-python",
   "name": "python",
   "nbconvert_exporter": "python",
   "pygments_lexer": "ipython3",
   "version": "3.8.5"
  }
 },
 "nbformat": 4,
 "nbformat_minor": 2
}
