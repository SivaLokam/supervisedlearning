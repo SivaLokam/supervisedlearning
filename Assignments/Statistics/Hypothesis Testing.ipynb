{
 "cells": [
  {
   "cell_type": "markdown",
   "metadata": {},
   "source": [
    "[Problem 1](#Problem1) -- [Problem 2](#Problem2) -- [Problem 3](#Problem3) -- [Problem 4](#Problem4)"
   ]
  },
  {
   "cell_type": "code",
   "execution_count": 4,
   "metadata": {},
   "outputs": [],
   "source": [
    "from scipy.stats import norm"
   ]
  },
  {
   "cell_type": "code",
   "execution_count": 9,
   "metadata": {},
   "outputs": [
    {
     "data": {
      "text/plain": [
       "1.6448536269514722"
      ]
     },
     "execution_count": 9,
     "metadata": {},
     "output_type": "execute_result"
    }
   ],
   "source": [
    "norm.ppf(0.95)"
   ]
  },
  {
   "cell_type": "markdown",
   "metadata": {},
   "source": [
    "### Problem1\n",
    "\n",
    "1. The dean from UCLA is concerned that the student's grade point averages have changed dramatically in recent years. The graduating seniors' mean GPA over the last five years is 2.75. The dean randomly samples 256 seniors from the last graduating class and finds that their mean GPA is 2.85, with a sample standard deviation of 0.65.\n",
    "\n",
    "#### Explanation\n",
    "\n",
    "mean gpa (upop) = 2.75  \n",
    "sample size = 256  \n",
    "mean gpa (usample) = 2.85  \n",
    "sample Standard Deviation = 0.65  \n",
    "\n",
    "* a  What would be the null and alternative hypothesis for this scenario?  \n",
    "\n",
    "    **Null Hypothesis**: GPAs does not change dramatically, which implies, Mean GPA for Graduating seniors = 2.75  \n",
    "    **Alternate Hypothesis** : GPAs changed dramatically  ,which implies Mean GPA for Graduation seniors != 2.75 \n",
    " \n",
    "\n",
    " * b) What would be the standard error for this particular scenario?\n",
    "\n",
    "    **Standard Error**: = sample_Standard_Deviation/sqrt(sample size) = 0.65 /sqrt(256) = 0.65/16 =  0.04  \n",
    "    \n",
    " \n",
    " * c) Describe in your own words how you would set the critical regions and what they would be at an alpha level of .05.  \n",
    "\n",
    "     **Critical Region**: Since the null hypothesis is mean =2.75, the critial region lies on both the sides of the distribution, so it is a two-tailed test\n",
    "     And for **alpha = 0.05**, the **confidence** would be **0.95** (, which is 95%), and the critiral region at **<=0.025** and **>0.975**  \n",
    " \n",
    " \n",
    " * d) Test the null hypothesis and explain your decision.  \n",
    "    \n",
    "    confidence interval : us +/ z*SE  \n",
    "    z-upper_critical  = z at 97.5 = norm.ppf(0.975) = 1.96   \n",
    "    z-lower_critical  = z at 0.025 = norm.ppd(0.025) = -1.96  \n",
    "    z at usample = 2.85 = usample-upop/std.dev = (2.85 - 2.75)/0.04 = 0.1/0.04 = 10/4 = 2.5  \n",
    "    z-observed falls under critical region\n",
    "    \n",
    "    **Answer**: Reject Null Hypothesis which implies, GPAs changed dramatically"
   ]
  },
  {
   "cell_type": "markdown",
   "metadata": {},
   "source": [
    "### Problem2\n",
    "\n",
    "2. The College bookstore tells prospective students that the average cost of its textbooks is Rs. 52 with a standard deviation of Rs.4.50. A group of smart statistics students thinks that the average cost is higher. To test the bookstore’s claim against their alternative, the students will select a random sample of size 100. Assume that the mean from their random sample is Rs. 52.80. Perform a hypothesis test at the 5% level of significance and state your decision.\n",
    "\n",
    "#### Explanation\n",
    "\n",
    "mean cost (upop) = Rs 52  \n",
    "sample size = 100  \n",
    "mean cost (usample) = 52.80  \n",
    "population Standard Deviation = Rs 4.50  \n",
    "significance = 5% = 0.05  \n",
    "    **Null Hypothesis**: Average cost is not higher,which implies avg cost of books <=52  \n",
    "    **Alternate Hypothesis** : Average cost is higher,which implies avg cost of books >52  \n",
    " \n",
    "**Critical Region** lies on the right side of the distribution  \n",
    "It is **positive-tailed test**  \n",
    "\n",
    " * b) What would be the standard error for this particular scenario?\n",
    "\n",
    "    **Standard Error**: = population_Standard_Deviation/sqrt(sample size) = 4.50 /sqrt(100) = 4.5/10 =  0.45      \n",
    " \n",
    " * c) \n",
    " Significance = 5%, and it is positive tailed test, so z-critical is at the 95%    \n",
    " \n",
    " * d) Test the null hypothesis and explain your decision.  \n",
    "        \n",
    "    z-critical for 0.95) = norm.ppf(0.95) = 1.64    \n",
    "    z at usample =  usample-upop/std.error = (52.80-52)/0.45 = 0.80/0.45 = 1.77  \n",
    "    z-observed falls under critical region  \n",
    "    \n",
    "**Answer**: Reject Null Hypothesis which implies, Avg cost of the price is greater than 52  "
   ]
  },
  {
   "cell_type": "markdown",
   "metadata": {},
   "source": [
    "### Problem3\n",
    "\n",
    "3. A certain chemical pollutant in the Genesee River has been constant for several years with a mean of 34ppm(parts per million) and standard deviation of 8ppm. A group of factory representatives whose companies discharge liquids into the river is now claiming that they have lowered the average with improved filtration devices. A group of environmentalists will test to see if this is true at the 1% level of significance. Assume that their sample of size 50 gives a mean of 32.5ppm. Perform a hypothesis test at the 1% level of significance and state your decision.\n",
    "#### Explanation\n",
    "\n",
    "mean pollution (upop) = 34 ppm  \n",
    "population Standard Deviation = 8ppm  \n",
    "sample size = 50  \n",
    "sample mean pollution (usample) = 32.5ppm  \n",
    "significance = 1% = 0.01 \n",
    "* Frame Null and Alternate Hypothesis:\n",
    "    **Null Hypothesis**: Mean pollution not lowered and remain >= 34ppm\n",
    "    **Alternate Hypothesis** : Mean pollution has lowered and mean < 34ppm \n",
    " \n",
    "**Critical Region** lies on the left side of the distribution  \n",
    "It is **negative-tailed test**  \n",
    "\n",
    " * b) What would be the standard error for this particular scenario?\n",
    "\n",
    "    **Standard Error**: = population_Standard_Deviation/sqrt(sample size) = 8 /sqrt(50) = 1.13      \n",
    " \n",
    " * c) \n",
    " Significance = 1%, and it is positive tailed test, so z-critical is at the 1%    \n",
    " \n",
    " * d) Test the null hypothesis and explain your decision.  \n",
    "        \n",
    "    z-critical for 0.01) = norm.ppf(0.01) = -2.32    \n",
    "    z at usample =  usample-upop/std.error = (32.5-34)/1.13 = -1.37    \n",
    "    z-observed falls under main region  \n",
    "    \n",
    "**Answer**: Fail to Reject Null Hypothesis which implies, The mean pollution has not lowered "
   ]
  },
  {
   "cell_type": "markdown",
   "metadata": {},
   "source": [
    "### Problem4\n",
    "\n",
    "4. Carry out a one-tailed test to determine whether the population proportion of traveler’s check buyers who buy at least $2500 in checks when sweepstakes prizes are offered as at least 10% higher than the proportion of such buyers when no sweepstakes are on\n",
    "\n",
    "Population 1 : With sweepstakes\n",
    "\n",
    "N1 = 300\n",
    "\n",
    "X1 = 120\n",
    "\n",
    "S1 = 0.53\n",
    "\n",
    "Population 2 : No sweepstakes\n",
    "\n",
    "N2 = 700\n",
    "\n",
    "X2 = 140\n",
    "\n",
    "S2 = 0.20\n",
    "#### Explanation\n",
    "    \n",
    "    \n",
    "    \n",
    "        \n",
    "    \n",
    "    \n",
    "        \n",
    "    \n",
    "    \n",
    "        \n",
    "    \n",
    "    \n",
    "        \n",
    "    \n",
    "    \n",
    "        \n",
    "    \n",
    "    \n",
    "    \n",
    "dd\n"
   ]
  },
  {
   "cell_type": "markdown",
   "metadata": {},
   "source": [
    "### Problem5\n",
    "\n",
    "A sample of 100 voters are asked which of four candidates they would vote for in an election. The number supporting each candidate is given below:-\n",
    "\n",
    "    Higgins     Reardon     White     Charlton\n",
    "        41        19         24          16\n",
    "\n",
    "Do the data suggest that all candidates are equally popular? Chi-Square = 14.96, with 3 df < 0.05.\n",
    "\n",
    "#### Explanation\n"
   ]
  },
  {
   "cell_type": "code",
   "execution_count": null,
   "metadata": {},
   "outputs": [],
   "source": []
  }
 ],
 "metadata": {
  "kernelspec": {
   "display_name": "Python 3",
   "language": "python",
   "name": "python3"
  },
  "language_info": {
   "codemirror_mode": {
    "name": "ipython",
    "version": 3
   },
   "file_extension": ".py",
   "mimetype": "text/x-python",
   "name": "python",
   "nbconvert_exporter": "python",
   "pygments_lexer": "ipython3",
   "version": "3.7.4"
  }
 },
 "nbformat": 4,
 "nbformat_minor": 2
}
