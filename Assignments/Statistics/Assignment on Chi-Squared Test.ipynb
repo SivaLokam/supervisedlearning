{
 "cells": [
  {
   "cell_type": "markdown",
   "metadata": {},
   "source": [
    "### Chi-Square Test"
   ]
  },
  {
   "cell_type": "code",
   "execution_count": 1,
   "metadata": {},
   "outputs": [],
   "source": [
    "import pandas as pd\n",
    "from scipy import stats\n",
    "from scipy.stats import chi2\n",
    "from scipy.stats import chi2_contingency"
   ]
  },
  {
   "cell_type": "markdown",
   "metadata": {},
   "source": [
    "##### code Reference : \n",
    " https://machinelearningmastery.com/chi-squared-test-for-machine-learning/"
   ]
  },
  {
   "cell_type": "code",
   "execution_count": 2,
   "metadata": {},
   "outputs": [],
   "source": [
    "def chi_square_goodness_of_fit_test(observed,expected,dof,prob=0.95):    \n",
    "    stat,p = stats.chisquare(observed,expected)\n",
    "    \n",
    "    critical = chi2.ppf(prob, dof)\n",
    "    if abs(stat) >= critical:\n",
    "            result = 'Reject Null Hypothesis H0'\n",
    "    else:\n",
    "        result = 'Fail to reject Null Hypothesis H0'\n",
    "    result = f'{result} ,Chisquare statistic = {round(stat,3)},p-value {round(p,3)} ,Degreed of freedom\\t: {dof}'\n",
    "    return result"
   ]
  },
  {
   "cell_type": "code",
   "execution_count": 3,
   "metadata": {},
   "outputs": [],
   "source": [
    "def chi_square_independency_test(observed_values,prob=0.95):\n",
    "    \"\"\"\n",
    "    Chi_square independency test for the\n",
    "    * observed values in a contingency table format\n",
    "         [[10,20,30],\n",
    "        [40,50,60]]\n",
    "    * prob - probalitiy\n",
    "\n",
    "    \"\"\"\n",
    "    stat, p, dof, expected = chi2_contingency(observed_values)\n",
    "    print(f\"Chisquare statistic \\t: {round(stat,3)}\")\n",
    "    print(f\"p-value \\t\\t: {round(p,3)}\")\n",
    "    print(f\"Degreed of freedom\\t: {dof}\")\n",
    "    print(f\"\\nExpected value\\t\\t:\")\n",
    "    print(expected)\n",
    "    critical = chi2.ppf(prob, dof)\n",
    "    if abs(stat) >= critical:\n",
    "        result = 'From critical value : Dependent (reject H0)'\n",
    "    else:\n",
    "        result = 'From critical value : Independent (fail to reject H0)'\n",
    "    \n",
    "    # interpret p-value\n",
    "    alpha = 1.0 - prob\n",
    "    print('significance=%.3f, p=%.3f' % (alpha, p))\n",
    "    if p <= alpha:\n",
    "        result2 = 'From significance : Dependent (reject H0)'\n",
    "    else:\n",
    "        result2 = 'From significance : Independent (fail to reject H0)'\n",
    "    result = f'{result} ,Chisquare statistic = {round(stat,3)},p-value {round(p,3)} ,Degreed of freedom\\t: {dof}'\n",
    "    return result,result2"
   ]
  },
  {
   "cell_type": "markdown",
   "metadata": {},
   "source": [
    "### Problem 1\n",
    "1. A poker-dealing machine is supposed to deal cards at random, as if from an infinite deck.\n",
    "\n",
    "In a test, you counted 1600 cards, and observed the following:\n",
    "<pre>\n",
    "Spades        404\n",
    "Hearts        420\n",
    "Diamonds      400\n",
    "Clubs         376\n",
    "</pre>\n",
    "\n",
    "Could it be that the suits are equally likely ? Or are these discrepancies too much to be random ?\n",
    "\n",
    "### Analysis:\n",
    "In general, the distribution of cards in a deck of 1600 cards is \n",
    "<pre>\n",
    "Type          Expected   Actual    difference\n",
    "Spades        400        404        4\n",
    "Hearts        400        420        20\n",
    "Diamonds      400        400        0\n",
    "Clubs         400        376        -24\n",
    "</pre>\n",
    "Since there are 4 types, and 3 of them can be independent, so degree of freedom is <b>3</b>\n",
    "chi-square = sum (square of the differene/Expected)\n",
    "\n",
    "           = 4^2/400 + 20^2/400 + 0^2/400 + (-24)^2/400\n",
    "           = (16+400+0+576)/400\n",
    "           = 992/400\n",
    "           = 2.48\n",
    "<b> Null Hypothesis: </b> The suits are equally likely, the observed values follows actual distribution\n",
    "\n",
    "<b> Alternate Hypothesis: </b> The suits are random\n",
    "\n",
    "From the chissquare-distribution, <b> critical value </b> for <b> significance of 0.05 </b> with <b> degree of freedom 1 </b> is : <b> 3.84</b>\n",
    "\n",
    "since chisquare(2.48),it does not fall in critical region, Fail to Reject Null Hypothesis, \n",
    "\n",
    "<b> Answer </b>: Fail to reject Null Hypothesis, The suits are equally likely"
   ]
  },
  {
   "cell_type": "code",
   "execution_count": 4,
   "metadata": {},
   "outputs": [
    {
     "name": "stdout",
     "output_type": "stream",
     "text": [
      "Fail to reject Null Hypothesis H0 ,Chisquare statistic = 2.48,p-value 0.479 ,Degreed of freedom\t: 3\n"
     ]
    }
   ],
   "source": [
    "#By programme\n",
    "cards_expected = [400,400,400,400]\n",
    "cards_actual = [404,420,400,376]\n",
    "result = chi_square_goodness_of_fit_test(cards_actual,cards_expected,dof=3)\n",
    "print(result)"
   ]
  },
  {
   "cell_type": "markdown",
   "metadata": {},
   "source": [
    "### Problem 2\n",
    "Same as before, but this time jokers are included, and you counted 1662 cards, with these results:-\n",
    "<pre>\n",
    "Spades        404\n",
    "Hearts        420\n",
    "Diamonds      400\n",
    "Clubs         356\n",
    "Jokers         82\n",
    "</pre>\n",
    "a) How many jokers would you expect out of 1662 random cards? How many of each suit?\n",
    "\n",
    "b) Is it possible that the cards are really random ? Or are the discrepancies too large ? \n",
    "\n",
    "### Analysis:\n",
    "In general, the distribution of cards in a deck of 1662 cards is \n",
    "In normal deck of cards, each type is of 13 and 2 jokers\n",
    "so, out of 1662, total 400 each type and 62 jokers are expected\n",
    "<pre>\n",
    "Type          Expected   Actual    difference\n",
    "Spades        400        404        4\n",
    "Hearts        400        420        20\n",
    "Diamonds      400        400        0\n",
    "Clubs         400        356        -44\n",
    "Jokers         62         82        20\n",
    "</pre>\n",
    "Since there are 5 types, and 4 of them can be independent, so degree of freedom is <b>4</b>\n",
    "chi-square = sum (square of the differene/Expected)\n",
    "\n",
    "           = 4^2/400 + 20^2/400 + 0^2/400 + (-44)^2/400 +(20^2)/62\n",
    "           = (16+400+0+1936)/400+400/62\n",
    "           = 12.33           \n",
    "<b> Null Hypothesis: </b> The suits are equally likely, the observed values follows actual distribution\n",
    "\n",
    "<b> Alternate Hypothesis: </b> The suits are random\n",
    "\n",
    "From the chissquare-distribution, <b> critical value </b> for <b> significance of 0.05 </b> with <b> degree of freedom 4 </b> is : <b> 9.488</b>\n",
    "\n",
    "since chisquare(12.33), greater than critical, it fall in  critical region, so Reject the null hypothesis\n",
    "\n",
    "<b> Answer </b>: Reject the  Null Hypothesis, The suits are random, discrepancy is random"
   ]
  },
  {
   "cell_type": "code",
   "execution_count": 5,
   "metadata": {},
   "outputs": [
    {
     "name": "stdout",
     "output_type": "stream",
     "text": [
      "Reject Null Hypothesis H0 ,Chisquare statistic = 12.332,p-value 0.015 ,Degreed of freedom\t: 4\n"
     ]
    }
   ],
   "source": [
    "cards_expected = [400,400,400,400,62]\n",
    "cards_actual = [404,420,400,356,82]\n",
    "result = chi_square_goodness_of_fit_test(cards_actual,cards_expected,dof=4)\n",
    "print(result)"
   ]
  },
  {
   "cell_type": "markdown",
   "metadata": {},
   "source": [
    "### Problem 3\n",
    "A genetics engineer was attempting to cross a tiger and a cheetah. \n",
    "She predicted a phenotypic outcome of the traits she was observing to be in the following ratio\n",
    "4 stripes only : 3 spots only : 9 both stripes and spots.\n",
    "When the cross was performed and she counted the individuals she found 50 with stripes only,\n",
    "41 with spots only and 85 with both.\n",
    "According to the Chi-Square test, did she get the predicted outcome? \n",
    "\n",
    "### Analysis:\n",
    "The ratio was given as 4:3:9\n",
    "Observed values are : 50,41,85\n",
    "Total observed values = 50 + 41 + 85 = 176\n",
    "Expected values  = (4/16) * 176 , (3/16) * 176, (9/16) * 176 = 44,33,99\n",
    "\n",
    "<pre>\n",
    "Type          Expected     Actual    difference\n",
    "Stripes only        44        50        6\n",
    "spots   only        33        41        8\n",
    "both                99        85        -14\n",
    "</pre>\n",
    "Since there are 3 types, and 2 of them can be independent, so degree of freedom is <b>2</b>\n",
    "chi-square = sum (square of the differene/Expected)\n",
    "\n",
    "           = (6^2/44 + 8^2/33 + (-14)^2/99)           \n",
    "           = (36/44 + 64/33 + 196/99)    \n",
    "           = 0.81 + 1.93 + 1.97\n",
    "           = 4.71\n",
    "<b> Null Hypothesis: </b> They are equally likely and predicted outcome follows expected\n",
    "\n",
    "<b> Alternate Hypothesis: </b> The outcomes are random\n",
    "\n",
    "From the chissquare-distribution, <b> critical value </b> for <b> significance of 0.05 </b> with <b> degree of freedom 2 </b> is : <b> 5.99</b>\n",
    "\n",
    "since chisquare(4.73), less than  than critical, ,fail to reject the null hypothesis, and the observed values follow expected values\n",
    "\n",
    "<b> Answer </b>: Fail to reject the null hypothesis, and the observed values follow expected values"
   ]
  },
  {
   "cell_type": "code",
   "execution_count": 6,
   "metadata": {},
   "outputs": [
    {
     "name": "stdout",
     "output_type": "stream",
     "text": [
      "Fail to reject Null Hypothesis H0 ,Chisquare statistic = 4.737,p-value 0.094 ,Degreed of freedom\t: 2\n"
     ]
    }
   ],
   "source": [
    "#solving programatically\n",
    "observed=[50,41,85]\n",
    "expected = [44,33,99]\n",
    "result = chi_square_goodness_of_fit_test(observed,expected,dof=2)\n",
    "print(result)"
   ]
  },
  {
   "cell_type": "markdown",
   "metadata": {},
   "source": [
    "### Problem 4\n",
    "In the garden pea, yellow cotyledon color is dominant to green and inflated pod shape is dominant to the constricted form. Considering both of these traits jointly in self-fertilized dihybrids, the progeny appeared in the following numbers:-\n",
    "\n",
    "193 green inflated , 184 yellow constricted , 556 yellow inflated , 61 green constricted\n",
    "\n",
    "Do these genes assort independently? Support your answer using Chi-square analysis.\n",
    "\n",
    "Note:- Genes assort independently  if they follow the 9:3:3:1 rule ( on the 16 square Punnett Square) resulting from a dihybrid cross\n",
    "\n",
    "### Analysis:\n",
    "The ratio was given as 9:3:3:1 , on 16 square\n",
    "Observed values are : 193, 184,556,61 (green inflated,yellow constricted,yellow inflated,green constricted)\n",
    "Total observed values = 193 + 184 + 556 + 61 = 994\n",
    "Expected values  = (9/16) * 994 , (3/16) * 994, (3/16) * 994,(1/16) * 994 = 559.125,186.375,186.375,62.125\n",
    "\n",
    "<pre>\n",
    "            Type          Expected     Actual    difference (Actual - Expected)\n",
    "    green inflated        559.125        556        -3.125\n",
    "yellow constricted        186.375        193         6.625\n",
    "yellow inflated           186.375        184        -2.375\n",
    "green   constricted        62.125         61        -1.125\n",
    "</pre>\n",
    "Since there are 4 types, and 3 of them can be independent, so degree of freedom is <b>3</b>\n",
    "chi-square = sum (square of the differene/Expected)\n",
    "\n",
    "           = (-3.125^2)/559.125 + (6.625^2)/186.375 + (-2.375^2)/186.375 + (-1.125^2)/62.125           \n",
    "           = 0.017 +  0.235 + 0.03 + 0.02\n",
    "           = 0.30\n",
    "           \n",
    "<b> Null Hypothesis: </b> They are equally likely and predicted outcome follows expected\n",
    "\n",
    "<b> Alternate Hypothesis: </b> The outcomes are random\n",
    "\n",
    "From the chissquare-distribution, <b> critical value </b> for <b> significance of 0.05 </b> with <b> degree of freedom 3 </b> is : <b> 7.815</b>\n",
    "\n",
    "since chisquare(0.30), less than  than critical, ,fail to reject the null hypothesis, and the observed values follow expected values\n",
    "\n",
    "<b> Answer </b>: Fail to reject the null hypothesis, and the observed values follow expected values"
   ]
  },
  {
   "cell_type": "code",
   "execution_count": 7,
   "metadata": {},
   "outputs": [
    {
     "name": "stdout",
     "output_type": "stream",
     "text": [
      "Fail to reject Null Hypothesis H0 ,Chisquare statistic = 0.304,p-value 0.959 ,Degreed of freedom\t: 3\n"
     ]
    }
   ],
   "source": [
    "#solving programatically\n",
    "observed=[556,193,184,61]\n",
    "expected = [559.125,186.375,186.375,62.125]\n",
    "result = chi_square_goodness_of_fit_test(observed,expected,dof=3)\n",
    "print(result)"
   ]
  },
  {
   "attachments": {},
   "cell_type": "markdown",
   "metadata": {},
   "source": [
    "### Problem 5 \n",
    "5. A department store, A , has 4 competitors : B, C, D and E . Store A hires a consultant to determine if the percentage of shoppers who prefer each of the five stores is the same. A survey of 1100 randomly selected shoppers is conducted and the results about which one of the stores shoppers prefer are as below. Is there enough evidence using a significance level  α = 0.05 to conclude that the proportions are really the same?\n",
    "\n",
    "<pre>\n",
    "Store          A          B        C        D            E\n",
    "shoppers       262        234      204      190          210\n",
    "</pre>"
   ]
  },
  {
   "attachments": {
    "image.png": {
     "image/png": "[encoded data removed]"
    }
   },
   "cell_type": "markdown",
   "metadata": {},
   "source": [
    "![image.png](attachment:image.png)"
   ]
  },
  {
   "cell_type": "markdown",
   "metadata": {},
   "source": [
    "<b> Analysis </b>:\n",
    "<pre>\n",
    "Observed values = [262,234,204,190,210]\n",
    "Expected is, preference is same for all 5 shoopers, so each of them be 1100/5 = 220\n",
    "</pre>"
   ]
  },
  {
   "cell_type": "markdown",
   "metadata": {},
   "source": [
    "<pre>\n",
    "chi-square =14.6,\n",
    "critical values = 9.48,\n",
    "since chi-suare values is greater than critical, it falls under the tail, so rejecting null hypotheis\n",
    "</pre>\n",
    "<b> Answer </b> Rejecting null hypothesis, which means, proportions are not really same"
   ]
  },
  {
   "cell_type": "code",
   "execution_count": 8,
   "metadata": {},
   "outputs": [
    {
     "name": "stdout",
     "output_type": "stream",
     "text": [
      "Reject Null Hypothesis H0 ,Chisquare statistic = 14.618,p-value 0.006 ,Degreed of freedom\t: 4\n"
     ]
    }
   ],
   "source": [
    "# Solving programatically\n",
    "observed= [262,234,204,190,210]\n",
    "expected = [220,220,220,220,220]\n",
    "result = chi_square_goodness_of_fit_test(observed,expected,dof=4)\n",
    "print(result)"
   ]
  },
  {
   "cell_type": "markdown",
   "metadata": {},
   "source": [
    "### Problem 6\n",
    "In the titanic Dataset, do a crosstab for embarked and survival rate. Using chi-square test, determine whether both of them are dependent or independent."
   ]
  },
  {
   "cell_type": "code",
   "execution_count": 9,
   "metadata": {},
   "outputs": [],
   "source": [
    "titanic = pd.read_csv(r'E:\\SupervisedLearning\\datasets\\titanic.csv')"
   ]
  },
  {
   "cell_type": "code",
   "execution_count": 10,
   "metadata": {},
   "outputs": [
    {
     "data": {
      "text/html": [
       "<div>\n",
       "<style scoped>\n",
       "    .dataframe tbody tr th:only-of-type {\n",
       "        vertical-align: middle;\n",
       "    }\n",
       "\n",
       "    .dataframe tbody tr th {\n",
       "        vertical-align: top;\n",
       "    }\n",
       "\n",
       "    .dataframe thead th {\n",
       "        text-align: right;\n",
       "    }\n",
       "</style>\n",
       "<table border=\"1\" class=\"dataframe\">\n",
       "  <thead>\n",
       "    <tr style=\"text-align: right;\">\n",
       "      <th>Survived</th>\n",
       "      <th>0</th>\n",
       "      <th>1</th>\n",
       "      <th>All</th>\n",
       "    </tr>\n",
       "    <tr>\n",
       "      <th>Embarked</th>\n",
       "      <th></th>\n",
       "      <th></th>\n",
       "      <th></th>\n",
       "    </tr>\n",
       "  </thead>\n",
       "  <tbody>\n",
       "    <tr>\n",
       "      <td>C</td>\n",
       "      <td>75</td>\n",
       "      <td>93</td>\n",
       "      <td>168</td>\n",
       "    </tr>\n",
       "    <tr>\n",
       "      <td>Q</td>\n",
       "      <td>47</td>\n",
       "      <td>30</td>\n",
       "      <td>77</td>\n",
       "    </tr>\n",
       "    <tr>\n",
       "      <td>S</td>\n",
       "      <td>427</td>\n",
       "      <td>217</td>\n",
       "      <td>644</td>\n",
       "    </tr>\n",
       "    <tr>\n",
       "      <td>All</td>\n",
       "      <td>549</td>\n",
       "      <td>340</td>\n",
       "      <td>889</td>\n",
       "    </tr>\n",
       "  </tbody>\n",
       "</table>\n",
       "</div>"
      ],
      "text/plain": [
       "Survived    0    1  All\n",
       "Embarked               \n",
       "C          75   93  168\n",
       "Q          47   30   77\n",
       "S         427  217  644\n",
       "All       549  340  889"
      ]
     },
     "execution_count": 10,
     "metadata": {},
     "output_type": "execute_result"
    }
   ],
   "source": [
    " pd.crosstab(titanic['Embarked'],titanic['Survived'],margins=True)"
   ]
  },
  {
   "cell_type": "code",
   "execution_count": 11,
   "metadata": {},
   "outputs": [
    {
     "data": {
      "text/plain": [
       "array([[ 75,  93],\n",
       "       [ 47,  30],\n",
       "       [427, 217]], dtype=int64)"
      ]
     },
     "execution_count": 11,
     "metadata": {},
     "output_type": "execute_result"
    }
   ],
   "source": [
    "observed = pd.crosstab(titanic['Embarked'],titanic['Survived']).values\n",
    "observed"
   ]
  },
  {
   "cell_type": "markdown",
   "metadata": {},
   "source": [
    "<pre>\n",
    "Expected value\t\t:\n",
    "[[103.7480315  64.2519685]\n",
    " [ 47.5511811  29.4488189]\n",
    " [397.7007874 246.2992126]]\n",
    "</pre>"
   ]
  },
  {
   "cell_type": "code",
   "execution_count": 12,
   "metadata": {},
   "outputs": [
    {
     "data": {
      "text/plain": [
       "(26.501980716528983, 7.129904844595514e-05)"
      ]
     },
     "execution_count": 12,
     "metadata": {},
     "output_type": "execute_result"
    }
   ],
   "source": [
    "observed=[75,47,427,93,30,217]\n",
    "expected=[103.7,47.5,397.7,64.2,29.4,246.2]\n",
    "stat,p = stats.chisquare(observed,expected)\n",
    "stat,p"
   ]
  },
  {
   "cell_type": "code",
   "execution_count": 13,
   "metadata": {},
   "outputs": [
    {
     "name": "stdout",
     "output_type": "stream",
     "text": [
      "26.524326148664645\n",
      "5.991464547107979\n"
     ]
    }
   ],
   "source": [
    "chi_value = ((103.7-75)**2/103.7)+((47.5-47)**2/47.5)+((397.7-427)**2/397.7)+((64.2-93)**2/64.2)+((30-29.4)**2/29.4)+((217-246.3)**2/246.3)\n",
    "dof=2\n",
    "prob=0.95\n",
    "critical = chi2.ppf(prob,dof)\n",
    "print(chi_value)\n",
    "print(critical)"
   ]
  },
  {
   "cell_type": "code",
   "execution_count": 14,
   "metadata": {},
   "outputs": [
    {
     "name": "stdout",
     "output_type": "stream",
     "text": [
      "Chisquare statistic \t: 0.0\n",
      "p-value \t\t: 1.0\n",
      "Degreed of freedom\t: 0\n",
      "\n",
      "Expected value\t\t:\n",
      "[ 75.  47. 427.  93.  30. 217.]\n",
      "significance=0.050, p=1.000\n"
     ]
    },
    {
     "data": {
      "text/plain": [
       "('From critical value : Independent (fail to reject H0) ,Chisquare statistic = 0.0,p-value 1.0 ,Degreed of freedom\\t: 0',\n",
       " 'From significance : Independent (fail to reject H0)')"
      ]
     },
     "execution_count": 14,
     "metadata": {},
     "output_type": "execute_result"
    }
   ],
   "source": [
    "chi_square_independency_test(observed,0.95)"
   ]
  },
  {
   "cell_type": "markdown",
   "metadata": {},
   "source": [
    "### Problem7. \n",
    "\n",
    "Repeat the same experiment above with age bins and survival rate.\n",
    "\n",
    "Note:- Age column and survival cannot be used for Chi-Square.\n",
    "\n"
   ]
  },
  {
   "cell_type": "code",
   "execution_count": 15,
   "metadata": {},
   "outputs": [
    {
     "data": {
      "text/plain": [
       "PassengerId      0\n",
       "Survived         0\n",
       "Pclass           0\n",
       "Name             0\n",
       "Sex              0\n",
       "Age            177\n",
       "SibSp            0\n",
       "Parch            0\n",
       "Ticket           0\n",
       "Fare             0\n",
       "Cabin          687\n",
       "Embarked         2\n",
       "dtype: int64"
      ]
     },
     "execution_count": 15,
     "metadata": {},
     "output_type": "execute_result"
    }
   ],
   "source": [
    "titanic.isnull().sum()"
   ]
  },
  {
   "cell_type": "code",
   "execution_count": 16,
   "metadata": {},
   "outputs": [],
   "source": [
    "titanic['Age'] = titanic['Age'].fillna(titanic['Age'].mean())"
   ]
  },
  {
   "cell_type": "code",
   "execution_count": 17,
   "metadata": {},
   "outputs": [],
   "source": [
    "titanic['Age_bins'] = pd.cut(titanic['Age'],10)"
   ]
  },
  {
   "cell_type": "code",
   "execution_count": 18,
   "metadata": {},
   "outputs": [],
   "source": [
    "from sklearn.preprocessing import LabelEncoder"
   ]
  },
  {
   "cell_type": "code",
   "execution_count": 19,
   "metadata": {},
   "outputs": [],
   "source": [
    "lbl = LabelEncoder()"
   ]
  },
  {
   "cell_type": "code",
   "execution_count": 20,
   "metadata": {},
   "outputs": [],
   "source": [
    "titanic['Age_bins_encoded'] = lbl.fit_transform(titanic['Age_bins'])"
   ]
  },
  {
   "cell_type": "code",
   "execution_count": 21,
   "metadata": {},
   "outputs": [
    {
     "data": {
      "text/html": [
       "<div>\n",
       "<style scoped>\n",
       "    .dataframe tbody tr th:only-of-type {\n",
       "        vertical-align: middle;\n",
       "    }\n",
       "\n",
       "    .dataframe tbody tr th {\n",
       "        vertical-align: top;\n",
       "    }\n",
       "\n",
       "    .dataframe thead th {\n",
       "        text-align: right;\n",
       "    }\n",
       "</style>\n",
       "<table border=\"1\" class=\"dataframe\">\n",
       "  <thead>\n",
       "    <tr style=\"text-align: right;\">\n",
       "      <th></th>\n",
       "      <th>PassengerId</th>\n",
       "      <th>Survived</th>\n",
       "      <th>Pclass</th>\n",
       "      <th>Name</th>\n",
       "      <th>Sex</th>\n",
       "      <th>Age</th>\n",
       "      <th>SibSp</th>\n",
       "      <th>Parch</th>\n",
       "      <th>Ticket</th>\n",
       "      <th>Fare</th>\n",
       "      <th>Cabin</th>\n",
       "      <th>Embarked</th>\n",
       "      <th>Age_bins</th>\n",
       "      <th>Age_bins_encoded</th>\n",
       "    </tr>\n",
       "  </thead>\n",
       "  <tbody>\n",
       "    <tr>\n",
       "      <td>0</td>\n",
       "      <td>1</td>\n",
       "      <td>0</td>\n",
       "      <td>3</td>\n",
       "      <td>Braund, Mr. Owen Harris</td>\n",
       "      <td>male</td>\n",
       "      <td>22.000000</td>\n",
       "      <td>1</td>\n",
       "      <td>0</td>\n",
       "      <td>A/5 21171</td>\n",
       "      <td>7.2500</td>\n",
       "      <td>NaN</td>\n",
       "      <td>S</td>\n",
       "      <td>(16.336, 24.294]</td>\n",
       "      <td>2</td>\n",
       "    </tr>\n",
       "    <tr>\n",
       "      <td>1</td>\n",
       "      <td>2</td>\n",
       "      <td>1</td>\n",
       "      <td>1</td>\n",
       "      <td>Cumings, Mrs. John Bradley (Florence Briggs Th...</td>\n",
       "      <td>female</td>\n",
       "      <td>38.000000</td>\n",
       "      <td>1</td>\n",
       "      <td>0</td>\n",
       "      <td>PC 17599</td>\n",
       "      <td>71.2833</td>\n",
       "      <td>C85</td>\n",
       "      <td>C</td>\n",
       "      <td>(32.252, 40.21]</td>\n",
       "      <td>4</td>\n",
       "    </tr>\n",
       "    <tr>\n",
       "      <td>2</td>\n",
       "      <td>3</td>\n",
       "      <td>1</td>\n",
       "      <td>3</td>\n",
       "      <td>Heikkinen, Miss. Laina</td>\n",
       "      <td>female</td>\n",
       "      <td>26.000000</td>\n",
       "      <td>0</td>\n",
       "      <td>0</td>\n",
       "      <td>STON/O2. 3101282</td>\n",
       "      <td>7.9250</td>\n",
       "      <td>NaN</td>\n",
       "      <td>S</td>\n",
       "      <td>(24.294, 32.252]</td>\n",
       "      <td>3</td>\n",
       "    </tr>\n",
       "    <tr>\n",
       "      <td>3</td>\n",
       "      <td>4</td>\n",
       "      <td>1</td>\n",
       "      <td>1</td>\n",
       "      <td>Futrelle, Mrs. Jacques Heath (Lily May Peel)</td>\n",
       "      <td>female</td>\n",
       "      <td>35.000000</td>\n",
       "      <td>1</td>\n",
       "      <td>0</td>\n",
       "      <td>113803</td>\n",
       "      <td>53.1000</td>\n",
       "      <td>C123</td>\n",
       "      <td>S</td>\n",
       "      <td>(32.252, 40.21]</td>\n",
       "      <td>4</td>\n",
       "    </tr>\n",
       "    <tr>\n",
       "      <td>4</td>\n",
       "      <td>5</td>\n",
       "      <td>0</td>\n",
       "      <td>3</td>\n",
       "      <td>Allen, Mr. William Henry</td>\n",
       "      <td>male</td>\n",
       "      <td>35.000000</td>\n",
       "      <td>0</td>\n",
       "      <td>0</td>\n",
       "      <td>373450</td>\n",
       "      <td>8.0500</td>\n",
       "      <td>NaN</td>\n",
       "      <td>S</td>\n",
       "      <td>(32.252, 40.21]</td>\n",
       "      <td>4</td>\n",
       "    </tr>\n",
       "    <tr>\n",
       "      <td>...</td>\n",
       "      <td>...</td>\n",
       "      <td>...</td>\n",
       "      <td>...</td>\n",
       "      <td>...</td>\n",
       "      <td>...</td>\n",
       "      <td>...</td>\n",
       "      <td>...</td>\n",
       "      <td>...</td>\n",
       "      <td>...</td>\n",
       "      <td>...</td>\n",
       "      <td>...</td>\n",
       "      <td>...</td>\n",
       "      <td>...</td>\n",
       "      <td>...</td>\n",
       "    </tr>\n",
       "    <tr>\n",
       "      <td>886</td>\n",
       "      <td>887</td>\n",
       "      <td>0</td>\n",
       "      <td>2</td>\n",
       "      <td>Montvila, Rev. Juozas</td>\n",
       "      <td>male</td>\n",
       "      <td>27.000000</td>\n",
       "      <td>0</td>\n",
       "      <td>0</td>\n",
       "      <td>211536</td>\n",
       "      <td>13.0000</td>\n",
       "      <td>NaN</td>\n",
       "      <td>S</td>\n",
       "      <td>(24.294, 32.252]</td>\n",
       "      <td>3</td>\n",
       "    </tr>\n",
       "    <tr>\n",
       "      <td>887</td>\n",
       "      <td>888</td>\n",
       "      <td>1</td>\n",
       "      <td>1</td>\n",
       "      <td>Graham, Miss. Margaret Edith</td>\n",
       "      <td>female</td>\n",
       "      <td>19.000000</td>\n",
       "      <td>0</td>\n",
       "      <td>0</td>\n",
       "      <td>112053</td>\n",
       "      <td>30.0000</td>\n",
       "      <td>B42</td>\n",
       "      <td>S</td>\n",
       "      <td>(16.336, 24.294]</td>\n",
       "      <td>2</td>\n",
       "    </tr>\n",
       "    <tr>\n",
       "      <td>888</td>\n",
       "      <td>889</td>\n",
       "      <td>0</td>\n",
       "      <td>3</td>\n",
       "      <td>Johnston, Miss. Catherine Helen \"Carrie\"</td>\n",
       "      <td>female</td>\n",
       "      <td>29.699118</td>\n",
       "      <td>1</td>\n",
       "      <td>2</td>\n",
       "      <td>W./C. 6607</td>\n",
       "      <td>23.4500</td>\n",
       "      <td>NaN</td>\n",
       "      <td>S</td>\n",
       "      <td>(24.294, 32.252]</td>\n",
       "      <td>3</td>\n",
       "    </tr>\n",
       "    <tr>\n",
       "      <td>889</td>\n",
       "      <td>890</td>\n",
       "      <td>1</td>\n",
       "      <td>1</td>\n",
       "      <td>Behr, Mr. Karl Howell</td>\n",
       "      <td>male</td>\n",
       "      <td>26.000000</td>\n",
       "      <td>0</td>\n",
       "      <td>0</td>\n",
       "      <td>111369</td>\n",
       "      <td>30.0000</td>\n",
       "      <td>C148</td>\n",
       "      <td>C</td>\n",
       "      <td>(24.294, 32.252]</td>\n",
       "      <td>3</td>\n",
       "    </tr>\n",
       "    <tr>\n",
       "      <td>890</td>\n",
       "      <td>891</td>\n",
       "      <td>0</td>\n",
       "      <td>3</td>\n",
       "      <td>Dooley, Mr. Patrick</td>\n",
       "      <td>male</td>\n",
       "      <td>32.000000</td>\n",
       "      <td>0</td>\n",
       "      <td>0</td>\n",
       "      <td>370376</td>\n",
       "      <td>7.7500</td>\n",
       "      <td>NaN</td>\n",
       "      <td>Q</td>\n",
       "      <td>(24.294, 32.252]</td>\n",
       "      <td>3</td>\n",
       "    </tr>\n",
       "  </tbody>\n",
       "</table>\n",
       "<p>891 rows × 14 columns</p>\n",
       "</div>"
      ],
      "text/plain": [
       "     PassengerId  Survived  Pclass  \\\n",
       "0              1         0       3   \n",
       "1              2         1       1   \n",
       "2              3         1       3   \n",
       "3              4         1       1   \n",
       "4              5         0       3   \n",
       "..           ...       ...     ...   \n",
       "886          887         0       2   \n",
       "887          888         1       1   \n",
       "888          889         0       3   \n",
       "889          890         1       1   \n",
       "890          891         0       3   \n",
       "\n",
       "                                                  Name     Sex        Age  \\\n",
       "0                              Braund, Mr. Owen Harris    male  22.000000   \n",
       "1    Cumings, Mrs. John Bradley (Florence Briggs Th...  female  38.000000   \n",
       "2                               Heikkinen, Miss. Laina  female  26.000000   \n",
       "3         Futrelle, Mrs. Jacques Heath (Lily May Peel)  female  35.000000   \n",
       "4                             Allen, Mr. William Henry    male  35.000000   \n",
       "..                                                 ...     ...        ...   \n",
       "886                              Montvila, Rev. Juozas    male  27.000000   \n",
       "887                       Graham, Miss. Margaret Edith  female  19.000000   \n",
       "888           Johnston, Miss. Catherine Helen \"Carrie\"  female  29.699118   \n",
       "889                              Behr, Mr. Karl Howell    male  26.000000   \n",
       "890                                Dooley, Mr. Patrick    male  32.000000   \n",
       "\n",
       "     SibSp  Parch            Ticket     Fare Cabin Embarked          Age_bins  \\\n",
       "0        1      0         A/5 21171   7.2500   NaN        S  (16.336, 24.294]   \n",
       "1        1      0          PC 17599  71.2833   C85        C   (32.252, 40.21]   \n",
       "2        0      0  STON/O2. 3101282   7.9250   NaN        S  (24.294, 32.252]   \n",
       "3        1      0            113803  53.1000  C123        S   (32.252, 40.21]   \n",
       "4        0      0            373450   8.0500   NaN        S   (32.252, 40.21]   \n",
       "..     ...    ...               ...      ...   ...      ...               ...   \n",
       "886      0      0            211536  13.0000   NaN        S  (24.294, 32.252]   \n",
       "887      0      0            112053  30.0000   B42        S  (16.336, 24.294]   \n",
       "888      1      2        W./C. 6607  23.4500   NaN        S  (24.294, 32.252]   \n",
       "889      0      0            111369  30.0000  C148        C  (24.294, 32.252]   \n",
       "890      0      0            370376   7.7500   NaN        Q  (24.294, 32.252]   \n",
       "\n",
       "     Age_bins_encoded  \n",
       "0                   2  \n",
       "1                   4  \n",
       "2                   3  \n",
       "3                   4  \n",
       "4                   4  \n",
       "..                ...  \n",
       "886                 3  \n",
       "887                 2  \n",
       "888                 3  \n",
       "889                 3  \n",
       "890                 3  \n",
       "\n",
       "[891 rows x 14 columns]"
      ]
     },
     "execution_count": 21,
     "metadata": {},
     "output_type": "execute_result"
    }
   ],
   "source": [
    "titanic"
   ]
  },
  {
   "cell_type": "code",
   "execution_count": 22,
   "metadata": {},
   "outputs": [
    {
     "data": {
      "text/html": [
       "<div>\n",
       "<style scoped>\n",
       "    .dataframe tbody tr th:only-of-type {\n",
       "        vertical-align: middle;\n",
       "    }\n",
       "\n",
       "    .dataframe tbody tr th {\n",
       "        vertical-align: top;\n",
       "    }\n",
       "\n",
       "    .dataframe thead th {\n",
       "        text-align: right;\n",
       "    }\n",
       "</style>\n",
       "<table border=\"1\" class=\"dataframe\">\n",
       "  <thead>\n",
       "    <tr style=\"text-align: right;\">\n",
       "      <th>Survived</th>\n",
       "      <th>0</th>\n",
       "      <th>1</th>\n",
       "      <th>All</th>\n",
       "    </tr>\n",
       "    <tr>\n",
       "      <th>Age_bins_encoded</th>\n",
       "      <th></th>\n",
       "      <th></th>\n",
       "      <th></th>\n",
       "    </tr>\n",
       "  </thead>\n",
       "  <tbody>\n",
       "    <tr>\n",
       "      <td>0</td>\n",
       "      <td>18</td>\n",
       "      <td>36</td>\n",
       "      <td>54</td>\n",
       "    </tr>\n",
       "    <tr>\n",
       "      <td>1</td>\n",
       "      <td>27</td>\n",
       "      <td>19</td>\n",
       "      <td>46</td>\n",
       "    </tr>\n",
       "    <tr>\n",
       "      <td>2</td>\n",
       "      <td>114</td>\n",
       "      <td>63</td>\n",
       "      <td>177</td>\n",
       "    </tr>\n",
       "    <tr>\n",
       "      <td>3</td>\n",
       "      <td>229</td>\n",
       "      <td>117</td>\n",
       "      <td>346</td>\n",
       "    </tr>\n",
       "    <tr>\n",
       "      <td>4</td>\n",
       "      <td>66</td>\n",
       "      <td>52</td>\n",
       "      <td>118</td>\n",
       "    </tr>\n",
       "    <tr>\n",
       "      <td>5</td>\n",
       "      <td>46</td>\n",
       "      <td>24</td>\n",
       "      <td>70</td>\n",
       "    </tr>\n",
       "    <tr>\n",
       "      <td>6</td>\n",
       "      <td>24</td>\n",
       "      <td>21</td>\n",
       "      <td>45</td>\n",
       "    </tr>\n",
       "    <tr>\n",
       "      <td>7</td>\n",
       "      <td>15</td>\n",
       "      <td>9</td>\n",
       "      <td>24</td>\n",
       "    </tr>\n",
       "    <tr>\n",
       "      <td>8</td>\n",
       "      <td>9</td>\n",
       "      <td>0</td>\n",
       "      <td>9</td>\n",
       "    </tr>\n",
       "    <tr>\n",
       "      <td>9</td>\n",
       "      <td>1</td>\n",
       "      <td>1</td>\n",
       "      <td>2</td>\n",
       "    </tr>\n",
       "    <tr>\n",
       "      <td>All</td>\n",
       "      <td>549</td>\n",
       "      <td>342</td>\n",
       "      <td>891</td>\n",
       "    </tr>\n",
       "  </tbody>\n",
       "</table>\n",
       "</div>"
      ],
      "text/plain": [
       "Survived            0    1  All\n",
       "Age_bins_encoded               \n",
       "0                  18   36   54\n",
       "1                  27   19   46\n",
       "2                 114   63  177\n",
       "3                 229  117  346\n",
       "4                  66   52  118\n",
       "5                  46   24   70\n",
       "6                  24   21   45\n",
       "7                  15    9   24\n",
       "8                   9    0    9\n",
       "9                   1    1    2\n",
       "All               549  342  891"
      ]
     },
     "execution_count": 22,
     "metadata": {},
     "output_type": "execute_result"
    }
   ],
   "source": [
    "pd.crosstab(titanic['Age_bins_encoded'],titanic['Survived'],margins=True)"
   ]
  },
  {
   "cell_type": "code",
   "execution_count": 23,
   "metadata": {},
   "outputs": [],
   "source": [
    "observed = pd.crosstab(titanic['Age_bins_encoded'],titanic['Survived']).values"
   ]
  },
  {
   "cell_type": "code",
   "execution_count": 24,
   "metadata": {},
   "outputs": [
    {
     "name": "stdout",
     "output_type": "stream",
     "text": [
      "Chisquare statistic \t: 31.209\n",
      "p-value \t\t: 0.0\n",
      "Degreed of freedom\t: 9\n",
      "\n",
      "Expected value\t\t:\n",
      "[[ 33.27272727  20.72727273]\n",
      " [ 28.34343434  17.65656566]\n",
      " [109.06060606  67.93939394]\n",
      " [213.19191919 132.80808081]\n",
      " [ 72.70707071  45.29292929]\n",
      " [ 43.13131313  26.86868687]\n",
      " [ 27.72727273  17.27272727]\n",
      " [ 14.78787879   9.21212121]\n",
      " [  5.54545455   3.45454545]\n",
      " [  1.23232323   0.76767677]]\n",
      "significance=0.050, p=0.000\n"
     ]
    },
    {
     "data": {
      "text/plain": [
       "('From critical value : Dependent (reject H0) ,Chisquare statistic = 31.209,p-value 0.0 ,Degreed of freedom\\t: 9',\n",
       " 'From significance : Dependent (reject H0)')"
      ]
     },
     "execution_count": 24,
     "metadata": {},
     "output_type": "execute_result"
    }
   ],
   "source": [
    "chi_square_independency_test(observed)"
   ]
  },
  {
   "cell_type": "markdown",
   "metadata": {},
   "source": [
    "<b> Answer </b>: The age and survival are dependent"
   ]
  },
  {
   "cell_type": "markdown",
   "metadata": {},
   "source": [
    "# Doubts\n",
    "<pre>\n",
    "1) Need to get clarity on Problem 4\n",
    "2) For Problem 6, is it really,Reject Null Hypothesis\n",
    "3) How to do if we need signicance, other than 0.05 \n",
    "4) how to do  two tailed chi-square test \n",
    "5) For age bins, imputed missing values with mean, is it fine\n",
    "\n",
    "</pre>"
   ]
  },
  {
   "cell_type": "code",
   "execution_count": null,
   "metadata": {},
   "outputs": [],
   "source": []
  }
 ],
 "metadata": {
  "kernelspec": {
   "display_name": "Python 3",
   "language": "python",
   "name": "python3"
  },
  "language_info": {
   "codemirror_mode": {
    "name": "ipython",
    "version": 3
   },
   "file_extension": ".py",
   "mimetype": "text/x-python",
   "name": "python",
   "nbconvert_exporter": "python",
   "pygments_lexer": "ipython3",
   "version": "3.7.4"
  }
 },
 "nbformat": 4,
 "nbformat_minor": 2
}
