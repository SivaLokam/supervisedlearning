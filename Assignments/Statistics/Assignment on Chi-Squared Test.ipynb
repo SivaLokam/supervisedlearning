{
 "cells": [
  {
   "cell_type": "markdown",
   "metadata": {},
   "source": [
    "### Chi-Square Test"
   ]
  },
  {
   "cell_type": "code",
   "execution_count": 1,
   "metadata": {},
   "outputs": [],
   "source": [
    "import pandas as pd\n",
    "from scipy import stats\n",
    "from scipy.stats import chi2\n",
    "from scipy.stats import chi2_contingency"
   ]
  },
  {
   "cell_type": "markdown",
   "metadata": {},
   "source": [
    "##### code Reference : \n",
    " https://machinelearningmastery.com/chi-squared-test-for-machine-learning/"
   ]
  },
  {
   "cell_type": "code",
   "execution_count": 2,
   "metadata": {},
   "outputs": [],
   "source": [
    "def chi_square_test(observed_values,prob):\n",
    "    \"\"\"\n",
    "    Chi_square test for the\n",
    "    * observed values in a contingency table format\n",
    "         [[10,20,30],\n",
    "        [40,50,60]]\n",
    "    * prob - probalitiy\n",
    "\n",
    "    \"\"\"\n",
    "    stat, p, dof, expected = chi2_contingency(observed_values)\n",
    "    print(f\"Chisquare statistic \\t: {round(stat,3)}\")\n",
    "    print(f\"p-value \\t\\t: {round(p,3)}\")\n",
    "    print(f\"Degreed of freedom\\t: {dof}\")\n",
    "    print(f\"\\nExpected value\\t\\t:\")\n",
    "    print(expected)\n",
    "    critical = chi2.ppf(prob, dof)\n",
    "    if abs(stat) >= critical:\n",
    "        result = 'From critical value : Dependent (reject H0)'\n",
    "    else:\n",
    "        result = 'From critical value : Independent (fail to reject H0)'\n",
    "    \n",
    "    # interpret p-value\n",
    "    alpha = 1.0 - prob\n",
    "    print('significance=%.3f, p=%.3f' % (alpha, p))\n",
    "    if p <= alpha:\n",
    "        result2 = 'From significance : Dependent (reject H0)'\n",
    "    else:\n",
    "        result2 = 'From significance : Independent (fail to reject H0)'\n",
    "    print(result)\n",
    "    return result,result2"
   ]
  },
  {
   "cell_type": "code",
   "execution_count": 3,
   "metadata": {},
   "outputs": [],
   "source": [
    "def chi_square_test_dof(observed,expected,dof,prob=0.95):    \n",
    "    stat,p = stats.chisquare(observed,expected)\n",
    "    critical = chi2.ppf(prob, dof)\n",
    "    if abs(stat) >= critical:\n",
    "            result = 'Reject Null Hypothesis H0'\n",
    "    else:\n",
    "        result = 'Fail to reject Null Hypothesis H0'\n",
    "    return result"
   ]
  },
  {
   "cell_type": "markdown",
   "metadata": {},
   "source": [
    "### Problem 1\n",
    "1. A poker-dealing machine is supposed to deal cards at random, as if from an infinite deck.\n",
    "\n",
    "In a test, you counted 1600 cards, and observed the following:\n",
    "<pre>\n",
    "Spades        404\n",
    "Hearts        420\n",
    "Diamonds      400\n",
    "Clubs         376\n",
    "</pre>\n",
    "\n",
    "Could it be that the suits are equally likely ? Or are these discrepancies too much to be random ?\n",
    "\n",
    "### Analysis:\n",
    "In general, the distribution of cards in a deck of 1600 cards is \n",
    "<pre>\n",
    "Type          Expected   Actual    difference\n",
    "Spades        400        404        4\n",
    "Hearts        400        420        20\n",
    "Diamonds      400        400        0\n",
    "Clubs         400        376        -24\n",
    "</pre>\n",
    "Since there are 4 types, and 3 of them can be independent, so degree of freedom is <b>3</b>\n",
    "chi-square = sum (square of the differene/Expected)\n",
    "\n",
    "           = 4^2/400 + 20^2/400 + 0^2/400 + (-24)^2/400\n",
    "           = (16+400+0+576)/400\n",
    "           = 992/400\n",
    "           = 2.48\n",
    "<b> Null Hypothesis: </b> The suits are equally likely, the observed values follows actual distribution\n",
    "\n",
    "<b> Alternate Hypothesis: </b> The suits are random\n",
    "\n",
    "From the chissquare-distribution, <b> critical value </b> for <b> significance of 0.05 </b> with <b> degree of freedom 1 </b> is : <b> 3.84</b>\n",
    "\n",
    "since chisquare(2.48),it does not fall in critical region, Fail to Reject Null Hypothesis, \n",
    "\n",
    "<b> Answer </b>: Fail to reject Null Hypothesis, The suits are equally likely"
   ]
  },
  {
   "cell_type": "code",
   "execution_count": 4,
   "metadata": {},
   "outputs": [
    {
     "name": "stdout",
     "output_type": "stream",
     "text": [
      "Fail to reject Null Hypothesis H0\n"
     ]
    }
   ],
   "source": [
    "#By programme\n",
    "cards_expected = [400,400,400,400]\n",
    "cards_actual = [404,420,400,376]\n",
    "result = chi_square_test_dof(cards_actual,cards_expected,dof=3)\n",
    "print(result)"
   ]
  },
  {
   "cell_type": "markdown",
   "metadata": {},
   "source": [
    "### Problem 2\n",
    "Same as before, but this time jokers are included, and you counted 1662 cards, with these results:-\n",
    "<pre>\n",
    "Spades        404\n",
    "Hearts        420\n",
    "Diamonds      400\n",
    "Clubs         356\n",
    "Jokers         82\n",
    "</pre>\n",
    "a) How many jokers would you expect out of 1662 random cards? How many of each suit?\n",
    "\n",
    "b) Is it possible that the cards are really random ? Or are the discrepancies too large ? \n",
    "\n",
    "### Analysis:\n",
    "In general, the distribution of cards in a deck of 1662 cards is \n",
    "In normal deck of cards, each type is of 13 and 2 jokers\n",
    "so, out of 1662, total 400 each type and 62 jokers are expected\n",
    "<pre>\n",
    "Type          Expected   Actual    difference\n",
    "Spades        400        404        4\n",
    "Hearts        400        420        20\n",
    "Diamonds      400        400        0\n",
    "Clubs         400        356        -44\n",
    "Jokers         62         82        20\n",
    "</pre>\n",
    "Since there are 5 types, and 4 of them can be independent, so degree of freedom is <b>4</b>\n",
    "chi-square = sum (square of the differene/Expected)\n",
    "\n",
    "           = 4^2/400 + 20^2/400 + 0^2/400 + (-44)^2/400 +(20^2)/62\n",
    "           = (16+400+0+1936)/400+400/62\n",
    "           = 12.33           \n",
    "<b> Null Hypothesis: </b> The suits are equally likely, the observed values follows actual distribution\n",
    "\n",
    "<b> Alternate Hypothesis: </b> The suits are random\n",
    "\n",
    "From the chissquare-distribution, <b> critical value </b> for <b> significance of 0.05 </b> with <b> degree of freedom 4 </b> is : <b> 9.488</b>\n",
    "\n",
    "since chisquare(12.33), greater than critical, it fall in  critical region, so Reject the null hypothesis\n",
    "\n",
    "<b> Answer </b>: Reject the  Null Hypothesis, The suits are random, discrepancy is random"
   ]
  },
  {
   "cell_type": "code",
   "execution_count": 5,
   "metadata": {},
   "outputs": [
    {
     "name": "stdout",
     "output_type": "stream",
     "text": [
      "Reject Null Hypothesis H0\n"
     ]
    }
   ],
   "source": [
    "cards_expected = [400,400,400,400,62]\n",
    "cards_actual = [404,420,400,356,82]\n",
    "result = chi_square_test_dof(cards_actual,cards_expected,dof=4)\n",
    "print(result)"
   ]
  },
  {
   "cell_type": "markdown",
   "metadata": {},
   "source": [
    "### Problem 3\n",
    "A genetics engineer was attempting to cross a tiger and a cheetah. \n",
    "She predicted a phenotypic outcome of the traits she was observing to be in the following ratio\n",
    "4 stripes only : 3 spots only : 9 both stripes and spots.\n",
    "When the cross was performed and she counted the individuals she found 50 with stripes only,\n",
    "41 with spots only and 85 with both.\n",
    "According to the Chi-Square test, did she get the predicted outcome? \n",
    "\n",
    "### Analysis:\n",
    "The ratio was given as 4:3:9\n",
    "Observed values are : 50,41,85\n",
    "Total observed values = 50 + 41 + 85 = 176\n",
    "Expected values  = (4/16) * 176 , (3/16) * 176, (9/16) * 176 = 44,33,99\n",
    "\n",
    "<pre>\n",
    "Type          Expected     Actual    difference\n",
    "Stripes only        44        50        6\n",
    "spots   only        33        41        8\n",
    "both                99        85        -14\n",
    "</pre>\n",
    "Since there are 3 types, and 2 of them can be independent, so degree of freedom is <b>2</b>\n",
    "chi-square = sum (square of the differene/Expected)\n",
    "\n",
    "           = (6^2/44 + 8^2/33 + (-14)^2/99)           \n",
    "           = (36/44 + 64/33 + 196/99)    \n",
    "           = 0.81 + 1.93 + 1.97\n",
    "           = 4.71\n",
    "<b> Null Hypothesis: </b> They are equally likely and predicted outcome follows expected\n",
    "\n",
    "<b> Alternate Hypothesis: </b> The outcomes are random\n",
    "\n",
    "From the chissquare-distribution, <b> critical value </b> for <b> significance of 0.05 </b> with <b> degree of freedom 2 </b> is : <b> 5.99</b>\n",
    "\n",
    "since chisquare(4.73), less than  than critical, ,fail to reject the null hypothesis, and the observed values follow expected values\n",
    "\n",
    "<b> Answer </b>: Fail to reject the null hypothesis, and the observed values follow expected values"
   ]
  },
  {
   "cell_type": "code",
   "execution_count": 6,
   "metadata": {},
   "outputs": [
    {
     "name": "stdout",
     "output_type": "stream",
     "text": [
      "Fail to reject Null Hypothesis H0\n"
     ]
    }
   ],
   "source": [
    "#solving programatically\n",
    "observed=[50,41,85]\n",
    "expected = [44,33,99]\n",
    "result = chi_square_test_dof(observed,expected,dof=2)\n",
    "print(result)"
   ]
  },
  {
   "cell_type": "markdown",
   "metadata": {},
   "source": [
    "### Problem 4\n",
    "In the garden pea, yellow cotyledon color is dominant to green and inflated pod shape is dominant to the constricted form. Considering both of these traits jointly in self-fertilized dihybrids, the progeny appeared in the following numbers:-\n",
    "\n",
    "193 green inflated , 184 yellow constricted , 556 yellow inflated , 61 green constricted\n",
    "\n",
    "Do these genes assort independently? Support your answer using Chi-square analysis.\n",
    "\n",
    "Note:- Genes assort independently  if they follow the 9:3:3:1 rule ( on the 16 square Punnett Square) resulting from a dihybrid cross\n",
    "\n",
    "### Analysis:\n",
    "The ratio was given as 9:3:3:1 , on 16 square\n",
    "Observed values are : 193, 184,556,61 (green inflated,yellow constricted,yellow inflated,green constricted)\n",
    "Total observed values = 193 + 184 + 556 + 61 = 994\n",
    "Expected values  = (9/16) * 994 , (3/16) * 994, (3/16) * 994,(1/16) * 994 = 559.125,186.375,186.375,62.125\n",
    "\n",
    "<pre>\n",
    "            Type          Expected     Actual    difference (Actual - Expected)\n",
    "    green inflated        559.125        556        -3.125\n",
    "yellow constricted        186.375        193         6.625\n",
    "yellow inflated           186.375        184        -2.375\n",
    "green   constricted        62.125         61        -1.125\n",
    "</pre>\n",
    "Since there are 4 types, and 3 of them can be independent, so degree of freedom is <b>3</b>\n",
    "chi-square = sum (square of the differene/Expected)\n",
    "\n",
    "           = (-3.125^2)/559.125 + (6.625^2)/186.375 + (-2.375^2)/186.375 + (-1.125^2)/62.125           \n",
    "           = 0.017 +  0.235 + 0.03 + 0.02\n",
    "           = 0.30\n",
    "           \n",
    "<b> Null Hypothesis: </b> They are equally likely and predicted outcome follows expected\n",
    "\n",
    "<b> Alternate Hypothesis: </b> The outcomes are random\n",
    "\n",
    "From the chissquare-distribution, <b> critical value </b> for <b> significance of 0.05 </b> with <b> degree of freedom 3 </b> is : <b> 7.815</b>\n",
    "\n",
    "since chisquare(0.30), less than  than critical, ,fail to reject the null hypothesis, and the observed values follow expected values\n",
    "\n",
    "<b> Answer </b>: Fail to reject the null hypothesis, and the observed values follow expected values"
   ]
  },
  {
   "cell_type": "code",
   "execution_count": 7,
   "metadata": {},
   "outputs": [
    {
     "name": "stdout",
     "output_type": "stream",
     "text": [
      "Fail to reject Null Hypothesis H0\n"
     ]
    }
   ],
   "source": [
    "#solving programatically\n",
    "observed=[556,193,184,61]\n",
    "expected = [559.125,186.375,186.375,62.125]\n",
    "result = chi_square_test_dof(observed,expected,dof=3)\n",
    "print(result)"
   ]
  },
  {
   "cell_type": "markdown",
   "metadata": {},
   "source": [
    "### Problem 6\n",
    "In the titanic Dataset, do a crosstab for embarked and survival rate. Using chi-square test, determine whether both of them are dependent or independent."
   ]
  },
  {
   "cell_type": "code",
   "execution_count": 8,
   "metadata": {},
   "outputs": [],
   "source": [
    "titanic = pd.read_csv(r'E:\\SupervisedLearning\\datasets\\titanic.csv')"
   ]
  },
  {
   "cell_type": "code",
   "execution_count": 9,
   "metadata": {},
   "outputs": [],
   "source": [
    "# pd.crosstab(titanic['PassengerId'],titanic['Survived'],margins=True)"
   ]
  },
  {
   "cell_type": "code",
   "execution_count": 13,
   "metadata": {},
   "outputs": [],
   "source": [
    "observed = pd.crosstab(titanic['Embarked'],titanic['Survived']).values"
   ]
  },
  {
   "cell_type": "code",
   "execution_count": 14,
   "metadata": {},
   "outputs": [
    {
     "data": {
      "text/plain": [
       "array([[ 75,  93],\n",
       "       [ 47,  30],\n",
       "       [427, 217]], dtype=int64)"
      ]
     },
     "execution_count": 14,
     "metadata": {},
     "output_type": "execute_result"
    }
   ],
   "source": [
    "observed"
   ]
  },
  {
   "cell_type": "code",
   "execution_count": 16,
   "metadata": {},
   "outputs": [
    {
     "name": "stdout",
     "output_type": "stream",
     "text": [
      "Chisquare statistic \t: 26.489\n",
      "p-value \t\t: 0.0\n",
      "Degreed of freedom\t: 2\n",
      "\n",
      "Expected value\t\t:\n",
      "[[103.7480315  64.2519685]\n",
      " [ 47.5511811  29.4488189]\n",
      " [397.7007874 246.2992126]]\n",
      "significance=0.100, p=0.000\n",
      "From critical value : Dependent (reject H0)\n"
     ]
    },
    {
     "data": {
      "text/plain": [
       "('From critical value : Dependent (reject H0)',\n",
       " 'From significance : Dependent (reject H0)')"
      ]
     },
     "execution_count": 16,
     "metadata": {},
     "output_type": "execute_result"
    }
   ],
   "source": [
    "chi_square_test(observed,0.90)"
   ]
  },
  {
   "cell_type": "markdown",
   "metadata": {},
   "source": [
    "# Doubts\n",
    "<pre>\n",
    "1) Need to get clarity on Problem 4\n",
    "2) For Problem 6, is it really,Reject Null Hypothesis\n",
    "</pre>"
   ]
  },
  {
   "cell_type": "code",
   "execution_count": null,
   "metadata": {},
   "outputs": [],
   "source": []
  }
 ],
 "metadata": {
  "kernelspec": {
   "display_name": "Python 3",
   "language": "python",
   "name": "python3"
  },
  "language_info": {
   "codemirror_mode": {
    "name": "ipython",
    "version": 3
   },
   "file_extension": ".py",
   "mimetype": "text/x-python",
   "name": "python",
   "nbconvert_exporter": "python",
   "pygments_lexer": "ipython3",
   "version": "3.7.4"
  }
 },
 "nbformat": 4,
 "nbformat_minor": 2
}
