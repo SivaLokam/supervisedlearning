{
 "cells": [
  {
   "cell_type": "markdown",
   "metadata": {},
   "source": [
    "### Chi-Square Test"
   ]
  },
  {
   "cell_type": "code",
   "execution_count": 1,
   "metadata": {},
   "outputs": [],
   "source": [
    "import pandas as pd\n",
    "from scipy import stats\n",
    "\n",
    "from scipy.stats import chi2\n",
    "from scipy.stats import chi2_contingency"
   ]
  },
  {
   "cell_type": "markdown",
   "metadata": {},
   "source": [
    "##### code Reference : \n",
    " https://machinelearningmastery.com/chi-squared-test-for-machine-learning/"
   ]
  },
  {
   "cell_type": "code",
   "execution_count": 2,
   "metadata": {},
   "outputs": [],
   "source": [
    "def chi_square_test(observed_values,prob):\n",
    "    \"\"\"\n",
    "    Chi_square test for the\n",
    "    * observed values in a contingency table format\n",
    "         [[10,20,30],\n",
    "        [40,50,60]]\n",
    "    * prob - probalitiy\n",
    "\n",
    "    \"\"\"\n",
    "    stat, p, dof, expected = chi2_contingency(observed_values)\n",
    "    print(f\"Chisquare statistic \\t: {round(stat,3)}\")\n",
    "    print(f\"p-value \\t\\t: {round(p,3)}\")\n",
    "    print(f\"Degreed of freedom\\t: {dof}\")\n",
    "    print(f\"\\nExpected value\\t\\t:\")\n",
    "    print(expected)\n",
    "    critical = chi2.ppf(prob, dof)\n",
    "    if abs(stat) >= critical:\n",
    "        result = 'From critical value : Dependent (reject H0)'\n",
    "    else:\n",
    "        result = 'From critical value : Independent (fail to reject H0)'\n",
    "    \n",
    "    # interpret p-value\n",
    "    alpha = 1.0 - prob\n",
    "    print('significance=%.3f, p=%.3f' % (alpha, p))\n",
    "    if p <= alpha:\n",
    "        result2 = 'From significance : Dependent (reject H0)'\n",
    "    else:\n",
    "        result2 = 'From significance : Independent (fail to reject H0)'\n",
    "    print(result)\n",
    "    return result,result2"
   ]
  },
  {
   "cell_type": "code",
   "execution_count": 4,
   "metadata": {},
   "outputs": [
    {
     "name": "stdout",
     "output_type": "stream",
     "text": [
      "Chisquare statistic \t: 2.8\n",
      "p-value \t\t: 0.247\n",
      "Degreed of freedom\t: 2\n",
      "\n",
      "Expected value\t\t:\n",
      "[[14.28571429 20.         25.71428571]\n",
      " [35.71428571 50.         64.28571429]]\n",
      "significance=0.050, p=0.247\n",
      "From critical value : Independent (fail to reject H0)\n"
     ]
    }
   ],
   "source": [
    "observed = [[10,20,30],\n",
    "         [40,50,60]]\n",
    "\n",
    "\n",
    "r1,r2 = chi_square_test(observed,0.95)"
   ]
  },
  {
   "cell_type": "markdown",
   "metadata": {},
   "source": [
    "### Problem 1\n",
    "1. A poker-dealing machine is supposed to deal cards at random, as if from an infinite deck.\n",
    "\n",
    "In a test, you counted 1600 cards, and observed the following:\n",
    "<pre>\n",
    "Spades        404\n",
    "Hearts        420\n",
    "Diamonds      400\n",
    "Clubs         376\n",
    "</pre>\n",
    "\n",
    "Could it be that the suits are equally likely ? Or are these discrepancies too much to be random ?"
   ]
  },
  {
   "cell_type": "markdown",
   "metadata": {},
   "source": [
    "### Analysis:\n",
    "In general, the distribution of cards in a deck of 1600 cards is \n",
    "<pre>\n",
    "Type          Expected   Actual    difference\n",
    "Spades        400        404        4\n",
    "Hearts        400        420        20\n",
    "Diamonds      400        400        0\n",
    "Clubs         400        376        -24\n",
    "</pre>\n",
    "Since there are 4 types, and 3 of them can be independent, so degree of freedom is <b>3</b>\n",
    "chi-square = sum (square of the differene/Expected)\n",
    "\n",
    "           = 4^2/400 + 20^2/400 + 0^2/400 + (-24)^2/400\n",
    "           = (16+400+0+576)/400\n",
    "           = 992/400\n",
    "           = 2.48\n",
    "Null Hypothesis: The suits are equally likely\n",
    "Alternate Hypothesis: The suits are random\n"
   ]
  },
  {
   "cell_type": "code",
   "execution_count": 5,
   "metadata": {},
   "outputs": [
    {
     "data": {
      "text/plain": [
       "Power_divergenceResult(statistic=2.48, pvalue=0.4789163768174306)"
      ]
     },
     "execution_count": 5,
     "metadata": {},
     "output_type": "execute_result"
    }
   ],
   "source": [
    "cards_expected = [400,400,400,400]\n",
    "cards_actual = [404,420,400,376]\n",
    "stats.chisquare(cards_actual,cards_expected)"
   ]
  },
  {
   "cell_type": "code",
   "execution_count": null,
   "metadata": {},
   "outputs": [],
   "source": [
    "chi_square_test(cards_actual,0.95)"
   ]
  },
  {
   "cell_type": "code",
   "execution_count": null,
   "metadata": {},
   "outputs": [],
   "source": [
    "from scipy import stats"
   ]
  },
  {
   "cell_type": "code",
   "execution_count": null,
   "metadata": {},
   "outputs": [],
   "source": [
    "help(stats.chisquare)"
   ]
  },
  {
   "cell_type": "markdown",
   "metadata": {},
   "source": [
    "### Problem 6\n",
    "In the titanic Dataset, do a crosstab for embarked and survival rate. Using chi-square test, determine whether both of them are dependent or independent."
   ]
  },
  {
   "cell_type": "code",
   "execution_count": null,
   "metadata": {},
   "outputs": [],
   "source": [
    "titanic = pd.read_csv(r'E:\\SupervisedLearning\\datasets\\titanic.csv')"
   ]
  },
  {
   "cell_type": "code",
   "execution_count": null,
   "metadata": {},
   "outputs": [],
   "source": [
    "titanic.head()"
   ]
  },
  {
   "cell_type": "code",
   "execution_count": null,
   "metadata": {
    "scrolled": true
   },
   "outputs": [],
   "source": [
    "help(pd.crosstab)"
   ]
  },
  {
   "cell_type": "code",
   "execution_count": null,
   "metadata": {},
   "outputs": [],
   "source": [
    "pd.crosstab(titanic['PassengerId'],titanic['Survived'],margins=True)"
   ]
  },
  {
   "cell_type": "code",
   "execution_count": null,
   "metadata": {},
   "outputs": [],
   "source": [
    "observed = pd.crosstab(titanic['PassengerId'],titanic['Survived']).values"
   ]
  },
  {
   "cell_type": "code",
   "execution_count": null,
   "metadata": {},
   "outputs": [],
   "source": [
    "observed"
   ]
  },
  {
   "cell_type": "code",
   "execution_count": null,
   "metadata": {},
   "outputs": [],
   "source": [
    "chi_square_test(observed,0.95)"
   ]
  },
  {
   "cell_type": "code",
   "execution_count": null,
   "metadata": {},
   "outputs": [],
   "source": [
    "titanic.loc[titanic['Embarked']=='Embarked']"
   ]
  },
  {
   "cell_type": "code",
   "execution_count": null,
   "metadata": {},
   "outputs": [],
   "source": [
    "titanic['Embarked'].value_counts()"
   ]
  },
  {
   "cell_type": "code",
   "execution_count": null,
   "metadata": {},
   "outputs": [],
   "source": [
    "titanic.info()"
   ]
  },
  {
   "cell_type": "code",
   "execution_count": null,
   "metadata": {},
   "outputs": [],
   "source": [
    "titanic.isnull().sum()"
   ]
  },
  {
   "cell_type": "code",
   "execution_count": null,
   "metadata": {},
   "outputs": [],
   "source": [
    "titanic.shape"
   ]
  },
  {
   "cell_type": "code",
   "execution_count": null,
   "metadata": {},
   "outputs": [],
   "source": [
    "854+434+154+336"
   ]
  }
 ],
 "metadata": {
  "kernelspec": {
   "display_name": "Python 3",
   "language": "python",
   "name": "python3"
  },
  "language_info": {
   "codemirror_mode": {
    "name": "ipython",
    "version": 3
   },
   "file_extension": ".py",
   "mimetype": "text/x-python",
   "name": "python",
   "nbconvert_exporter": "python",
   "pygments_lexer": "ipython3",
   "version": "3.7.4"
  }
 },
 "nbformat": 4,
 "nbformat_minor": 2
}
