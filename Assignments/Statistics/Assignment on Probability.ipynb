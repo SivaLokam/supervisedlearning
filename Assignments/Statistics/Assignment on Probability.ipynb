{
 "cells": [
  {
   "cell_type": "markdown",
   "metadata": {},
   "source": [
    "### Basic probability"
   ]
  },
  {
   "cell_type": "markdown",
   "metadata": {},
   "source": [
    "1. Two dies are rolled at once. Find out the probability for sum of numbers being even and one of the die shows 6.\n",
    "\n",
    "2. Two dies are rolled at once. Find out the probability for sum of numbers being less than 7.\n",
    "\n",
    "3. You toss a fair coin three times : Given that you have observed atleast one heads , what is the probability that you observe atleast two heads?\n",
    "\n",
    "4. A and B are a married couple with two kids. One of them is a girl. What is the probability that their other kid is also a girl?"
   ]
  },
  {
   "cell_type": "code",
   "execution_count": 1,
   "metadata": {},
   "outputs": [],
   "source": [
    "# 1 Two dies are rolled at once. Find out the probability for sum of numbers being even and one of the die shows 6.\n",
    "# Analysis: \n",
    "# It is single event, the total no of possible combinations are : 36 ( as there are two dice)\n",
    "# Total no of favourable outcomes  = (sum is even and one of the die should show 6)\n",
    "# possible combinations are : (6,2) (6,4),(6,6),(2,6),(4,6),(6,6)"
   ]
  },
  {
   "cell_type": "markdown",
   "metadata": {},
   "source": [
    "<pre> probability = (No of favourable outcomes / Total no of possible outcomes)\n",
    "            = (6/36)\n",
    "            = (1/6)\n",
    "<pre>             "
   ]
  },
  {
   "cell_type": "code",
   "execution_count": 2,
   "metadata": {},
   "outputs": [],
   "source": [
    "#Two dies are rolled at once. Find out the probability for sum of numbers being less than 7\n",
    "# No of favourable outcomes are : (1,5)(1,4),(1,3),(1,2),(1,1) ,(2,4),(2,3),(2,2),(2,1),(3,3),(3,2),(3,1),(4,2),(4,1),(5,1)"
   ]
  },
  {
   "cell_type": "markdown",
   "metadata": {},
   "source": [
    "<pre> probability = (No of favourable outcomes / Total no of possible outcomes)\n",
    "            = (6/36)\n",
    "            = (1/6)\n",
    "<pre> "
   ]
  }
 ],
 "metadata": {
  "kernelspec": {
   "display_name": "Python 3",
   "language": "python",
   "name": "python3"
  },
  "language_info": {
   "codemirror_mode": {
    "name": "ipython",
    "version": 3
   },
   "file_extension": ".py",
   "mimetype": "text/x-python",
   "name": "python",
   "nbconvert_exporter": "python",
   "pygments_lexer": "ipython3",
   "version": "3.7.4"
  }
 },
 "nbformat": 4,
 "nbformat_minor": 2
}
