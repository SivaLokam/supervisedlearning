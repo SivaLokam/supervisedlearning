{
 "cells": [
  {
   "cell_type": "code",
   "execution_count": 1,
   "metadata": {},
   "outputs": [],
   "source": [
    "import numpy as np"
   ]
  },
  {
   "cell_type": "markdown",
   "metadata": {},
   "source": [
    "### 1  Find the mean of the following data using hand and compare with numpy.mean()"
   ]
  },
  {
   "cell_type": "code",
   "execution_count": 2,
   "metadata": {},
   "outputs": [
    {
     "name": "stdout",
     "output_type": "stream",
     "text": [
      "Mean Calculated manually : 7.0\n",
      "Mean using numpy array   : 7.0\n"
     ]
    }
   ],
   "source": [
    "#a) 9, 7, 11, 13, 2, 4, 5, 5\n",
    "mean = (9+7+11+13+2+4+5+5)/8\n",
    "print(f\"Mean Calculated manually : {mean}\")\n",
    "\n",
    "a = np.array([9,7,11,13,2,4,5,5])\n",
    "print(f\"Mean using numpy array   : {a.mean()}\")"
   ]
  },
  {
   "cell_type": "code",
   "execution_count": 3,
   "metadata": {},
   "outputs": [
    {
     "name": "stdout",
     "output_type": "stream",
     "text": [
      "Mean Calculated manually : 8.5\n",
      "Mean using numpy array   : 8.5\n"
     ]
    }
   ],
   "source": [
    "# b) 2.2, 10.2, 14.7, 5.9, 4.9, 11.1, 10.5\n",
    "mean = (2.2+10.2+14.7+5.9+4.9+11.1+10.5)/7\n",
    "print(f\"Mean Calculated manually : {mean}\")\n",
    "\n",
    "b = np.array([2.2,10.2,14.7,5.9,4.9,11.1,10.5])\n",
    "print(f\"Mean using numpy array   : {b.mean()}\")"
   ]
  },
  {
   "cell_type": "code",
   "execution_count": 4,
   "metadata": {},
   "outputs": [
    {
     "name": "stdout",
     "output_type": "stream",
     "text": [
      "Mean Calculated manually : 11.4\n",
      "Mean using numpy array   : 11.4\n"
     ]
    }
   ],
   "source": [
    "# c) 11/4, 21/2, 51/2, 31/4, 21/2\n",
    "mean = (11/4 + 21/2 + 51/2 + 31/4 + 21/2 )/5\n",
    "print(f\"Mean Calculated manually : {mean}\")\n",
    "\n",
    "c = np.array([11/4,21/2,51/2,31/4,21/2])\n",
    "print(f\"Mean using numpy array   : {c.mean()}\")"
   ]
  },
  {
   "cell_type": "markdown",
   "metadata": {},
   "source": [
    "### 2. Find the mean of first 10 Fibonacci numbers (Use a for loop to create 10 Fibonacci series)"
   ]
  },
  {
   "cell_type": "code",
   "execution_count": 5,
   "metadata": {},
   "outputs": [
    {
     "name": "stdout",
     "output_type": "stream",
     "text": [
      "Fibonacci series is \t\t: [0, 1, 1, 2, 3, 5, 8, 13, 21, 34]\n",
      "Average of Fibonacci series is \t: 8.8\n"
     ]
    }
   ],
   "source": [
    "fib = [0,1]\n",
    "for i in range(2,10):\n",
    "    fib.append(fib[i-1]+fib[i-2])\n",
    "print(f\"Fibonacci series is \\t\\t: {fib}\")\n",
    "print(f\"Average of Fibonacci series is \\t: {np.mean(fib)}\")"
   ]
  },
  {
   "cell_type": "markdown",
   "metadata": {},
   "source": [
    "### 3.Find the mean and median of first 5 prime numbers."
   ]
  },
  {
   "cell_type": "code",
   "execution_count": 6,
   "metadata": {},
   "outputs": [
    {
     "name": "stdout",
     "output_type": "stream",
     "text": [
      "Mean of first 5 prime numbers 5.6\n"
     ]
    }
   ],
   "source": [
    "primes = [2,3,5,7,11]\n",
    "print(f\"Mean of first 5 prime numbers {np.mean(primes)}\")"
   ]
  },
  {
   "cell_type": "markdown",
   "metadata": {},
   "source": [
    "### 4. The mean of 8, 11, 6, 14, x and 13 is 66. Find the value of the observation x."
   ]
  },
  {
   "cell_type": "markdown",
   "metadata": {},
   "source": [
    "mean = (8+11+6+14+x+13)/6 = 66  \n",
    "(52+x)/6 = 66  \n",
    "52+x = 66 * 6  \n",
    "x = 66 * 6 - 52  \n",
    "x = 344"
   ]
  },
  {
   "cell_type": "markdown",
   "metadata": {},
   "source": [
    "### 5. The mean of 6, 8, x + 2, 10, 2x - 1, and 2 is 9. Find the value of x in the data."
   ]
  },
  {
   "cell_type": "markdown",
   "metadata": {},
   "source": [
    "mean = (6 + 8 + x+2 + 10 + 2x-1 +2 )/6 = 9  \n",
    "     =>  27+3x = 54  \n",
    "     =>  x = 9  "
   ]
  },
  {
   "cell_type": "markdown",
   "metadata": {},
   "source": [
    "### 6. Find the mean of the following distribution.\n",
    "\n"
   ]
  },
  {
   "cell_type": "markdown",
   "metadata": {},
   "source": [
    "a) The age of 20 boys in a locality is given below\n",
    "\n",
    "| Age in years   | 12   |  10   | 15    | 14    |     8 |\n",
    "| -------------  |----- | ----- | ----- | ----- | ----- |\n",
    "| Number of boys | 5    |  3    |  2    |  6    |     4 |\n",
    "\n",
    "average no of age = (12x5 + 10x3 + 15x3 + 14x6 + 8x4 )/(5+3+2+6+4)  \n",
    "average no of age = **12.55**"
   ]
  },
  {
   "cell_type": "markdown",
   "metadata": {},
   "source": [
    "b) Marks obtained by 40 students in an exam are given below\n",
    "\n",
    "| Marks              | 25   |  30   | 15    | 20    |     24 |\n",
    "| -------------      |----- | ----- | ----- | ----- | -----  |\n",
    "| Number of students | 8    |  12   |  10   |  6    |     4  |\n",
    "\n",
    "average marks = ( 25x8 + 30x12 + 15x10 + 20x6 + 24x4 ) / (8+12+10+6+4)   \n",
    "average marks = **23.15**"
   ]
  },
  {
   "cell_type": "markdown",
   "metadata": {},
   "source": [
    "### 7. Find the mode of the following data"
   ]
  },
  {
   "cell_type": "code",
   "execution_count": 7,
   "metadata": {},
   "outputs": [],
   "source": [
    "from statistics import mode\n",
    "from collections import Counter"
   ]
  },
  {
   "cell_type": "code",
   "execution_count": 8,
   "metadata": {},
   "outputs": [
    {
     "name": "stdout",
     "output_type": "stream",
     "text": [
      "Mode of given data is:  8\n"
     ]
    }
   ],
   "source": [
    "# a) 12, 8, 4, 8, 1, 8, 9, 11, 9, 10, 12, 8\n",
    "\n",
    "a = [12,8,4,8,1,8,9,11,9,10,12,8]\n",
    "# mode(a)\n",
    "\n",
    "mode = Counter(a).most_common()[0][0]\n",
    "print(f\"Mode of given data is:  {mode}\")"
   ]
  },
  {
   "cell_type": "code",
   "execution_count": 9,
   "metadata": {},
   "outputs": [
    {
     "name": "stdout",
     "output_type": "stream",
     "text": [
      "Mode of given data is:  17\n"
     ]
    }
   ],
   "source": [
    "# b) 15, 22, 17, 19, 22, 17, 29, 24, 17, 15\n",
    "b = [15,22,17,19,22,17,29,24,17,15]\n",
    "mode = Counter(b).most_common()[0][0]\n",
    "print(f\"Mode of given data is:  {mode}\")"
   ]
  },
  {
   "cell_type": "code",
   "execution_count": 10,
   "metadata": {},
   "outputs": [
    {
     "name": "stdout",
     "output_type": "stream",
     "text": [
      "Mode of given data is:  0\n"
     ]
    }
   ],
   "source": [
    "# c) 0, 3, 2, 1, 3, 5, 4, 3, 42, 1, 2, 0\n",
    "c = [0,2,1,3,5,4,3,42,1,2,0]\n",
    "mode = Counter(c).most_common()[0][0]\n",
    "print(f\"Mode of given data is:  {mode}\")"
   ]
  },
  {
   "cell_type": "code",
   "execution_count": 11,
   "metadata": {},
   "outputs": [
    {
     "name": "stdout",
     "output_type": "stream",
     "text": [
      "Mode of given data is:  1\n"
     ]
    }
   ],
   "source": [
    "# d) 1, 7, 2, 4, 5, 9, 8, 3\n",
    "d = [1,7,2,4,5,9,8,3]\n",
    "mode = Counter(d).most_common()[0][0]\n",
    "print(f\"Mode of given data is:  {mode}\")"
   ]
  },
  {
   "cell_type": "markdown",
   "metadata": {},
   "source": [
    "### 8.The following observations are arranged in ascending order. The median of the data is 25 . Find the value of x.\n",
    "17, x+24, x+7, 35, 36, 46"
   ]
  },
  {
   "cell_type": "markdown",
   "metadata": {},
   "source": [
    "##### given median = 25\n",
    "here, median is the average of (x+7,35)  \n",
    "=> (x+24+35)/2 = 25  \n",
    "=> x+59 = 50  \n",
    "=> x = 1  "
   ]
  },
  {
   "cell_type": "markdown",
   "metadata": {},
   "source": [
    "### 9. In the above problem, how would you approach the problem if the numbers are not in ascending order ? What are possible values of X then?"
   ]
  },
  {
   "cell_type": "markdown",
   "metadata": {},
   "source": [
    "replace the two unknown values with median value,   \n",
    "calculate the average value, then replace the average,   \n",
    "by calculating with elements including values x"
   ]
  },
  {
   "cell_type": "markdown",
   "metadata": {},
   "source": [
    "### 10.In which of these situations would you use the mode to measure the central tendency of the data."
   ]
  },
  {
   "cell_type": "markdown",
   "metadata": {},
   "source": [
    "a) Justin records the temperature at noon every day for two weeks and wants to know the temperature of a 'typical' day."
   ]
  },
  {
   "cell_type": "markdown",
   "metadata": {},
   "source": [
    "b) Would you use the mean in all of these situations?"
   ]
  },
  {
   "cell_type": "markdown",
   "metadata": {},
   "source": [
    "c) Juliana measures the height of all the girls on her soccer team and wants to know the typical height of a soccer player."
   ]
  },
  {
   "cell_type": "markdown",
   "metadata": {},
   "source": [
    "d) Sam asks the students in her class to identify their favourite colour and wants to know which colour is the most common."
   ]
  },
  {
   "cell_type": "code",
   "execution_count": null,
   "metadata": {},
   "outputs": [],
   "source": []
  }
 ],
 "metadata": {
  "kernelspec": {
   "display_name": "Python 3",
   "language": "python",
   "name": "python3"
  },
  "language_info": {
   "codemirror_mode": {
    "name": "ipython",
    "version": 3
   },
   "file_extension": ".py",
   "mimetype": "text/x-python",
   "name": "python",
   "nbconvert_exporter": "python",
   "pygments_lexer": "ipython3",
   "version": "3.7.4"
  }
 },
 "nbformat": 4,
 "nbformat_minor": 2
}
