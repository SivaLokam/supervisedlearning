{
 "cells": [
  {
   "cell_type": "markdown",
   "metadata": {},
   "source": [
    "Let's take the following string\n",
    "\n",
    "\" I am very keen in building up my career in Data Science, but not sure from where to start. If I search the web it throws me thousands of articles, few are relevant others make me confused, again I come around to the same page. Supervised has provided me a good platform to remove all such qualms which were wrangling in my mind\""
   ]
  },
  {
   "cell_type": "code",
   "execution_count": 1,
   "metadata": {},
   "outputs": [],
   "source": [
    "import matplotlib.pyplot as plt\n",
    "import seaborn as sns\n",
    "from collections import Counter\n",
    "from nltk import FreqDist\n",
    "import re\n"
   ]
  },
  {
   "cell_type": "code",
   "execution_count": 2,
   "metadata": {},
   "outputs": [
    {
     "name": "stdout",
     "output_type": "stream",
     "text": [
      " I am very keen in building up my career in Data Science, but not sure from where to start. If I search the web it throws me thousands of articles, few are relevant others make me confused, again I come around to the same page. Supervised has provided me a good platform to remove all such qualms which were wrangling in my mind\n"
     ]
    }
   ],
   "source": [
    "given_str = \" I am very keen in building up my career in Data Science, but not sure from where to start. If I search the web it throws me thousands of articles, few are relevant others make me confused, again I come around to the same page. Supervised has provided me a good platform to remove all such qualms which were wrangling in my mind\"\n",
    "print(given_str)"
   ]
  },
  {
   "cell_type": "markdown",
   "metadata": {},
   "source": [
    "### 1 Average length of the string"
   ]
  },
  {
   "cell_type": "code",
   "execution_count": 3,
   "metadata": {},
   "outputs": [
    {
     "name": "stdout",
     "output_type": "stream",
     "text": [
      "#1 avg_len_of_string : 5.21\n"
     ]
    }
   ],
   "source": [
    "#Consider the above text as a string, figure out the average length of the string.\n",
    "\n",
    "len_of_string = len(given_str)\n",
    "words = given_str.split()\n",
    "len_of_words = len(words)\n",
    "avg_len_of_string= round((len_of_string/len_of_words),2)\n",
    "print(\"#1 avg_len_of_string : \"+str(avg_len_of_string))"
   ]
  },
  {
   "cell_type": "markdown",
   "metadata": {},
   "source": [
    "### 2 Lower the text in the string"
   ]
  },
  {
   "cell_type": "code",
   "execution_count": 4,
   "metadata": {},
   "outputs": [
    {
     "name": "stdout",
     "output_type": "stream",
     "text": [
      "#2 Lower the string \n",
      " i am very keen in building up my career in data science, but not sure from where to start. if i search the web it throws me thousands of articles, few are relevant others make me confused, again i come around to the same page. supervised has provided me a good platform to remove all such qualms which were wrangling in my mind\n"
     ]
    }
   ],
   "source": [
    "## 2: Lower the text in the string.\n",
    "print(\"#2 Lower the string \\n\"+given_str.lower())"
   ]
  },
  {
   "cell_type": "markdown",
   "metadata": {},
   "source": [
    "### 3 Clean text removing the punctuation from the string."
   ]
  },
  {
   "cell_type": "code",
   "execution_count": 5,
   "metadata": {},
   "outputs": [
    {
     "name": "stdout",
     "output_type": "stream",
     "text": [
      "#3 clean text is \n",
      " I am very keen in building up my career in Data Science but not sure from where to start If I search the web it throws me thousands of articles few are relevant others make me confused again I come around to the same page Supervised has provided me a good platform to remove all such qualms which were wrangling in my mind\n"
     ]
    }
   ],
   "source": [
    "#3 Try to get the clean text removing the punctuation from the string.\n",
    "\n",
    "pattern=r\"[.,!]\"\n",
    "clean_text = re.sub(pattern,\"\",given_str)\n",
    "print(\"#3 clean text is \\n\"+clean_text)"
   ]
  },
  {
   "cell_type": "markdown",
   "metadata": {},
   "source": [
    "### 4 Extract word \"Data Science\" from the string"
   ]
  },
  {
   "cell_type": "code",
   "execution_count": 6,
   "metadata": {},
   "outputs": [
    {
     "name": "stdout",
     "output_type": "stream",
     "text": [
      "#4 word 'Data Science' is found at the location from : 44 to 56\n",
      "<re.Match object; span=(44, 56), match='Data Science'>\n"
     ]
    }
   ],
   "source": [
    "#4 Extract word \"Data Science\" from the string.\n",
    "pattern = \"Data Science\"\n",
    "match = re.search(pattern,given_str)\n",
    "if(match):\n",
    "    print(\"#4 word 'Data Science' is found at the location from : \"+str(match.start()) +\" to \"+str(match.end()))\n",
    "    print(match)\n",
    "else:\n",
    "    print(\"Match not found for: \"+pattern)"
   ]
  },
  {
   "cell_type": "markdown",
   "metadata": {},
   "source": [
    "### 5 Frequency of words used in the string"
   ]
  },
  {
   "cell_type": "code",
   "execution_count": 7,
   "metadata": {},
   "outputs": [],
   "source": [
    "#5 Find the frequency of words used in the string.\n",
    "def plot_word_frequency(words, top_n=None):\n",
    "    word_freq = FreqDist(words)\n",
    "    labels = [element[0] for element in word_freq.most_common(top_n)]\n",
    "    counts = [element[1] for element in word_freq.most_common(top_n)]\n",
    "    plot = sns.barplot(labels, counts)\n",
    "    return plot"
   ]
  },
  {
   "cell_type": "code",
   "execution_count": 8,
   "metadata": {},
   "outputs": [
    {
     "data": {
      "text/plain": [
       "<matplotlib.axes._subplots.AxesSubplot at 0x22c9d659f88>"
      ]
     },
     "execution_count": 8,
     "metadata": {},
     "output_type": "execute_result"
    },
    {
     "data": {
      "image/png": "[encoded data removed]",
      "text/plain": [
       "<Figure size 1440x216 with 1 Axes>"
      ]
     },
     "metadata": {
      "needs_background": "light"
     },
     "output_type": "display_data"
    }
   ],
   "source": [
    "plt.figure(figsize=(20,3))\n",
    "words = given_str.split()\n",
    "words = [word.lower() for word in words]\n",
    "plot_word_frequency(words)"
   ]
  },
  {
   "cell_type": "code",
   "execution_count": 9,
   "metadata": {},
   "outputs": [
    {
     "name": "stdout",
     "output_type": "stream",
     "text": [
      "#5 Find the frequency of words used: \n",
      "\n",
      "Counter({'i': 3, 'in': 3, 'to': 3, 'me': 3, 'my': 2, 'the': 2, 'am': 1, 'very': 1, 'keen': 1, 'building': 1, 'up': 1, 'career': 1, 'data': 1, 'science,': 1, 'but': 1, 'not': 1, 'sure': 1, 'from': 1, 'where': 1, 'start.': 1, 'if': 1, 'search': 1, 'web': 1, 'it': 1, 'throws': 1, 'thousands': 1, 'of': 1, 'articles,': 1, 'few': 1, 'are': 1, 'relevant': 1, 'others': 1, 'make': 1, 'confused,': 1, 'again': 1, 'come': 1, 'around': 1, 'same': 1, 'page.': 1, 'supervised': 1, 'has': 1, 'provided': 1, 'a': 1, 'good': 1, 'platform': 1, 'remove': 1, 'all': 1, 'such': 1, 'qualms': 1, 'which': 1, 'were': 1, 'wrangling': 1, 'mind': 1})\n"
     ]
    }
   ],
   "source": [
    "print(\"#5 Find the frequency of words used: \\n\")\n",
    "print(Counter(words))"
   ]
  },
  {
   "cell_type": "markdown",
   "metadata": {},
   "source": [
    "### 6 Find all the words which occurred more than once in the string"
   ]
  },
  {
   "cell_type": "code",
   "execution_count": 10,
   "metadata": {},
   "outputs": [
    {
     "name": "stdout",
     "output_type": "stream",
     "text": [
      "[('i', 3), ('in', 3), ('to', 3), ('me', 3), ('my', 2), ('the', 2), ('am', 1), ('very', 1), ('keen', 1), ('building', 1), ('up', 1), ('career', 1), ('data', 1), ('science,', 1), ('but', 1), ('not', 1), ('sure', 1), ('from', 1), ('where', 1), ('start.', 1), ('if', 1), ('search', 1), ('web', 1), ('it', 1), ('throws', 1), ('thousands', 1), ('of', 1), ('articles,', 1), ('few', 1), ('are', 1), ('relevant', 1), ('others', 1), ('make', 1), ('confused,', 1), ('again', 1), ('come', 1), ('around', 1), ('same', 1), ('page.', 1), ('supervised', 1), ('has', 1), ('provided', 1), ('a', 1), ('good', 1), ('platform', 1), ('remove', 1), ('all', 1), ('such', 1), ('qualms', 1), ('which', 1), ('were', 1), ('wrangling', 1), ('mind', 1)]\n"
     ]
    }
   ],
   "source": [
    "#6 Find all the words which occurred more than once in the string\n",
    "counter= Counter(words)\n",
    "counter_list = counter.most_common()\n",
    "\n",
    "print(counter_list)"
   ]
  },
  {
   "cell_type": "code",
   "execution_count": 11,
   "metadata": {},
   "outputs": [],
   "source": [
    "words_morethan_one = [tup[0]for tup in counter_list if tup[1]>1]"
   ]
  },
  {
   "cell_type": "code",
   "execution_count": 12,
   "metadata": {},
   "outputs": [
    {
     "name": "stdout",
     "output_type": "stream",
     "text": [
      "#6 Find all the words which occurred more than once are: \n",
      "i,in,to,me,my,the\n"
     ]
    }
   ],
   "source": [
    "print(\"#6 Find all the words which occurred more than once are: \\n\"+\",\".join(words_morethan_one))"
   ]
  },
  {
   "cell_type": "markdown",
   "metadata": {},
   "source": [
    "### 7 Can you change the word \"Supervised\" to \"Unsupervised\" in the string"
   ]
  },
  {
   "cell_type": "code",
   "execution_count": 13,
   "metadata": {},
   "outputs": [
    {
     "name": "stdout",
     "output_type": "stream",
     "text": [
      "#7 Change the word 'Supervised' to 'Unsupervised' : \n",
      " I am very keen in building up my career in Data Science, but not sure from where to start. If I search the web it throws me thousands of articles, few are relevant others make me confused, again I come around to the same page. Unsupervised has provided me a good platform to remove all such qualms which were wrangling in my mind\n"
     ]
    }
   ],
   "source": [
    "pattern = r\"Supervised\"\n",
    "result = re.sub(pattern,\"Unsupervised\",given_str)\n",
    "print(\"#7 Change the word 'Supervised' to 'Unsupervised' : \\n\" + result)"
   ]
  },
  {
   "cell_type": "markdown",
   "metadata": {},
   "source": [
    "### 8 Splitting of the string with a dot operator(.)"
   ]
  },
  {
   "cell_type": "code",
   "execution_count": 14,
   "metadata": {},
   "outputs": [
    {
     "name": "stdout",
     "output_type": "stream",
     "text": [
      "#8 Splitting of the string with a dot operator: \n",
      " I am very keen in building up my career in Data Science, but not sure from where to start\n",
      " If I search the web it throws me thousands of articles, few are relevant others make me confused, again I come around to the same page\n",
      " Supervised has provided me a good platform to remove all such qualms which were wrangling in my mind\n"
     ]
    }
   ],
   "source": [
    "result = given_str.split(\".\")\n",
    "print(\"#8 Splitting of the string with a dot operator: \")\n",
    "result = [print(val) for val in result]"
   ]
  },
  {
   "cell_type": "markdown",
   "metadata": {},
   "source": [
    "### 9 Find the words from the string which ends with \"e\""
   ]
  },
  {
   "cell_type": "code",
   "execution_count": 15,
   "metadata": {},
   "outputs": [
    {
     "name": "stdout",
     "output_type": "stream",
     "text": [
      "words from the string which ends with 'e' : \n",
      "['sure', 'where', 'the', 'me', 'are', 'make', 'me', 'come', 'the', 'same', 'me', 'remove', 'were']\n"
     ]
    }
   ],
   "source": [
    "words_end_with_e = [word for word in words if word.endswith(\"e\")]\n",
    "print(\"words from the string which ends with 'e' : \")\n",
    "print(words_end_with_e)"
   ]
  },
  {
   "cell_type": "markdown",
   "metadata": {},
   "source": [
    "### 10 Figure out number of a's used in the string"
   ]
  },
  {
   "cell_type": "code",
   "execution_count": 17,
   "metadata": {},
   "outputs": [
    {
     "name": "stdout",
     "output_type": "stream",
     "text": [
      "#10 Figure out number of a's used in the string :\n",
      "22\n"
     ]
    }
   ],
   "source": [
    "list_of_a = re.findall(\"a\",given_str.lower())\n",
    "print(\"#10 Figure out number of a's used in the string :\")\n",
    "print(len(list_of_a))"
   ]
  },
  {
   "cell_type": "code",
   "execution_count": null,
   "metadata": {},
   "outputs": [],
   "source": []
  }
 ],
 "metadata": {
  "kernelspec": {
   "display_name": "Python 3",
   "language": "python",
   "name": "python3"
  },
  "language_info": {
   "codemirror_mode": {
    "name": "ipython",
    "version": 3
   },
   "file_extension": ".py",
   "mimetype": "text/x-python",
   "name": "python",
   "nbconvert_exporter": "python",
   "pygments_lexer": "ipython3",
   "version": "3.7.4"
  }
 },
 "nbformat": 4,
 "nbformat_minor": 2
}
