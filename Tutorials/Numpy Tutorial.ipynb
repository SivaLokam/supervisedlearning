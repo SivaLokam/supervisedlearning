{
 "cells": [
  {
   "cell_type": "markdown",
   "metadata": {},
   "source": [
    "### <span id=\"idx\">Index</span>"
   ]
  },
  {
   "cell_type": "markdown",
   "metadata": {},
   "source": [
    "<a href=\"#idx\" target=\"_self\" style=\"position:fixed\">Index</a>"
   ]
  },
  {
   "cell_type": "markdown",
   "metadata": {},
   "source": [
    "### <a href=\"#one\" target=\"_self\"> 1 </a>N-dimensional Array  (ndarray Object) <br />\n",
    "<span style=\"padding-left:50px\"><a href=\"#t1\" target=\"_self\">Task1</a><span ><br />\n",
    "### <a href=\"#two\" target=\"_self\"> 2 </a>Making a ndarray object <br />\n",
    "<span style=\"padding-left:30px\"><a href=\"#s1\" target=\"_self\">np.zeros</a><span ><br />\n",
    "    <span style=\"padding-left:30px\"><a href=\"#s2\" target=\"_self\">np.ones</a><span ><br />\n"
   ]
  },
  {
   "cell_type": "markdown",
   "metadata": {},
   "source": [
    "N-dimensional Array (ndarray Object)\n",
    "ndarray is a multidimensional container which can contain only homogeneous items. The shape of such an array is defined by the 'shape' attribute. The data type of the items inside a ndarray is stored in an object known as 'dtype'."
   ]
  },
  {
   "cell_type": "code",
   "execution_count": 2,
   "metadata": {},
   "outputs": [],
   "source": [
    "import numpy as np"
   ]
  },
  {
   "cell_type": "code",
   "execution_count": 3,
   "metadata": {},
   "outputs": [
    {
     "data": {
      "text/plain": [
       "array([[1, 2, 3],\n",
       "       [4, 5, 6]])"
      ]
     },
     "execution_count": 3,
     "metadata": {},
     "output_type": "execute_result"
    }
   ],
   "source": [
    "X = np.array([[1,2,3],[4,5,6]])\n",
    "X"
   ]
  },
  {
   "cell_type": "code",
   "execution_count": 11,
   "metadata": {},
   "outputs": [
    {
     "name": "stdout",
     "output_type": "stream",
     "text": [
      "Shape of X is \t\t: (2, 3)\n",
      "Datatype of X is \t: int32\n"
     ]
    }
   ],
   "source": [
    "print(f'Shape of X is \\t\\t: {X.shape}')\n",
    "print(f'Datatype of X is \\t: {X.dtype}')"
   ]
  },
  {
   "cell_type": "code",
   "execution_count": 17,
   "metadata": {},
   "outputs": [
    {
     "data": {
      "text/plain": [
       "dtype('int64')"
      ]
     },
     "execution_count": 17,
     "metadata": {},
     "output_type": "execute_result"
    }
   ],
   "source": [
    "X.dtype"
   ]
  },
  {
   "cell_type": "markdown",
   "metadata": {},
   "source": [
    "<a href=\"#t1\">Task1</a>\n",
    "\n",
    "Convert the data type of numpy array X from 'int32' to 'int64'. <br />\n",
    "Replace the value 1 by 5 in numpy array X. <br />\n",
    "Create a 3-D array with value [1,2,3,4,5,6,7,8,9] such that the shape of the array is represented as (1,3,3). <br />"
   ]
  },
  {
   "cell_type": "code",
   "execution_count": 37,
   "metadata": {},
   "outputs": [
    {
     "name": "stdout",
     "output_type": "stream",
     "text": [
      "Datatype of X is \t: int64\n",
      "The array X is : \n",
      " [[5 2 3]\n",
      " [4 5 6]]\n",
      "The array array_3d is : \n",
      " [[[1 2 3]\n",
      "  [4 5 6]\n",
      "  [7 8 9]]]\n"
     ]
    }
   ],
   "source": [
    "# Convert the data type of numpy array X from 'int32' to 'int64'.\n",
    "X = X.astype(np.int64)\n",
    "\n",
    "print(f'Datatype of X is \\t: {X.dtype}')\n",
    "\n",
    "#Replace the value 1 by 5 in numpy array X\n",
    "X[0][0]=5\n",
    "print(f'The array X is : \\n {X}')\n",
    "\n",
    "#Create a 3-D array with value [1,2,3,4,5,6,7,8,9] such that the shape of the array is represented as (1,3,3).\n",
    "data =  [1,2,3,4,5,6,7,8,9]\n",
    "array_3d = np.array(data).reshape(1,3,3)\n",
    "print(f'The array array_3d is : \\n {array_3d}')"
   ]
  },
  {
   "cell_type": "code",
   "execution_count": 21,
   "metadata": {},
   "outputs": [
    {
     "data": {
      "text/plain": [
       "array([[5, 2, 3],\n",
       "       [4, 5, 6]], dtype=int64)"
      ]
     },
     "execution_count": 21,
     "metadata": {},
     "output_type": "execute_result"
    }
   ],
   "source": [
    "X"
   ]
  },
  {
   "cell_type": "code",
   "execution_count": 26,
   "metadata": {},
   "outputs": [
    {
     "data": {
      "text/plain": [
       "list"
      ]
     },
     "execution_count": 26,
     "metadata": {},
     "output_type": "execute_result"
    }
   ],
   "source": [
    "# c\n",
    "data =  [1,2,3,4,5,6,7,8,9]\n",
    "type(data)"
   ]
  },
  {
   "cell_type": "code",
   "execution_count": 31,
   "metadata": {},
   "outputs": [
    {
     "data": {
      "text/plain": [
       "array([[[1, 2, 3],\n",
       "        [4, 5, 6],\n",
       "        [7, 8, 9]]])"
      ]
     },
     "execution_count": 31,
     "metadata": {},
     "output_type": "execute_result"
    }
   ],
   "source": [
    "array_3d = np.array(data).reshape(1,3,3)\n",
    "array_3d"
   ]
  },
  {
   "cell_type": "markdown",
   "metadata": {},
   "source": [
    "<a href=\"#idx\" target=\"_self\" style=\"position:fixed\">Index</a>\n",
    "\n",
    "### <span id=\"two\"> Making a ndarray object </span> \n",
    "\n",
    "<span id=\"s1\" style=\"font-weight:bold\">np.zeros </span><br />\n",
    "np.zeros :- Creates numpy array of given size and given type initialized with zeros.<br />\n",
    "<span id=\"s2\" style=\"font-weight:bold\">np.ones </span><br />\n",
    "np.ones :- Creates numpy array of given size and given type initialized with ones.\n",
    "\n",
    "\n"
   ]
  },
  {
   "cell_type": "code",
   "execution_count": 41,
   "metadata": {},
   "outputs": [
    {
     "name": "stdout",
     "output_type": "stream",
     "text": [
      "[[0. 0. 0.]\n",
      " [0. 0. 0.]]\n"
     ]
    }
   ],
   "source": [
    "x = np.zeros(shape=(2,3),dtype='float')\n",
    "print(x)"
   ]
  },
  {
   "cell_type": "code",
   "execution_count": 40,
   "metadata": {},
   "outputs": [
    {
     "data": {
      "text/plain": [
       "array([[0., 0., 0.],\n",
       "       [0., 0., 0.]])"
      ]
     },
     "execution_count": 40,
     "metadata": {},
     "output_type": "execute_result"
    }
   ],
   "source": [
    "x"
   ]
  },
  {
   "cell_type": "markdown",
   "metadata": {},
   "source": [
    "<a href=\"#t2\">Task2</a>\n",
    "\n",
    "Class task <br />\n",
    "Create a 3 * 3 n-dim array with 3 numbers from np.zeros. <br />\n",
    "Create a 4 * 2 n-dim array with all ones <br />"
   ]
  },
  {
   "cell_type": "code",
   "execution_count": 50,
   "metadata": {},
   "outputs": [
    {
     "name": "stdout",
     "output_type": "stream",
     "text": [
      "zeros :\n",
      "\n",
      " [[0. 0. 0.]\n",
      " [0. 0. 0.]\n",
      " [0. 0. 0.]]\n",
      "\n",
      " ones :\n",
      "\n",
      " [[1. 1.]\n",
      " [1. 1.]\n",
      " [1. 1.]\n",
      " [1. 1.]]\n"
     ]
    }
   ],
   "source": [
    "zeros = np.zeros((3,3))\n",
    "print(f'zeros :\\n\\n {zeros}')\n",
    "\n",
    "ones = np.ones((4,2))\n",
    "print(f'\\n ones :\\n\\n {ones}')"
   ]
  },
  {
   "cell_type": "code",
   "execution_count": null,
   "metadata": {},
   "outputs": [],
   "source": []
  },
  {
   "cell_type": "code",
   "execution_count": null,
   "metadata": {},
   "outputs": [],
   "source": []
  }
 ],
 "metadata": {
  "kernelspec": {
   "display_name": "Python 3",
   "language": "python",
   "name": "python3"
  },
  "language_info": {
   "codemirror_mode": {
    "name": "ipython",
    "version": 3
   },
   "file_extension": ".py",
   "mimetype": "text/x-python",
   "name": "python",
   "nbconvert_exporter": "python",
   "pygments_lexer": "ipython3",
   "version": "3.7.4"
  }
 },
 "nbformat": 4,
 "nbformat_minor": 2
}
