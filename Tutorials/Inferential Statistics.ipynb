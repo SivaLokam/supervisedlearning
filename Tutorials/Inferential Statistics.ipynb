{
 "cells": [
  {
   "cell_type": "markdown",
   "metadata": {},
   "source": [
    "### Central Limit Theorem\n",
    "\n",
    "<div style=\"padding:20px;font-size:2rem;line-height:3rem;\">Given a population with a finite mean (U) and fininte non-zero variaces(sigma^2) , the sampling distribution of mean approaches normal distribution with a mean (U) and variance (sigma^2/N), as N the sample size increases, even when the parent distribution is not normal\n",
    "</div>"
   ]
  },
  {
   "cell_type": "code",
   "execution_count": 1,
   "metadata": {},
   "outputs": [],
   "source": [
    "import numpy as np\n",
    "from scipy.stats import norm"
   ]
  },
  {
   "cell_type": "code",
   "execution_count": 2,
   "metadata": {},
   "outputs": [],
   "source": [
    "# help(norm.rvs)"
   ]
  },
  {
   "cell_type": "code",
   "execution_count": 3,
   "metadata": {},
   "outputs": [],
   "source": [
    "population = norm.rvs(loc=0,scale=2,size=1000) # creating normal distribution with mean zero and std deviation 2"
   ]
  },
  {
   "cell_type": "code",
   "execution_count": 4,
   "metadata": {},
   "outputs": [
    {
     "data": {
      "text/plain": [
       "(-0.03957922304820155, 1.9352387936278477)"
      ]
     },
     "execution_count": 4,
     "metadata": {},
     "output_type": "execute_result"
    }
   ],
   "source": [
    "upop = np.mean(population)\n",
    "sigma_pop = np.sqrt(np.var(population))\n",
    "upop,sigma_pop"
   ]
  },
  {
   "cell_type": "code",
   "execution_count": 5,
   "metadata": {},
   "outputs": [],
   "source": [
    "# samplemeans = []\n",
    "# for i in range(1000):\n",
    "#     sample = np.random.choice(population,100)\n",
    "#     usample = np.mean(sample)\n",
    "#     samplemeans.append(usample)"
   ]
  },
  {
   "cell_type": "code",
   "execution_count": 6,
   "metadata": {},
   "outputs": [],
   "source": [
    "differences = {}\n",
    "for sample_size in range(100,1001,100):\n",
    "    samplemeans=[]\n",
    "    for i in range(1000):\n",
    "        sample = np.random.choice(population,100)\n",
    "        usample = np.mean(sample)\n",
    "        samplemeans.append(usample)\n",
    "    mean_ofsample_means = np.mean(samplemeans)\n",
    "    std_ofsample_means = np.sqrt(np.var(samplemeans))\n",
    "    diff_bw_popmean_meanofsample_mean = abs(upop-mean_ofsample_means)\n",
    "    differences[sample_size] = [diff_bw_popmean_meanofsample_mean,std_ofsample_means,(sigma_pop/np.sqrt(sample_size))]"
   ]
  },
  {
   "cell_type": "code",
   "execution_count": 8,
   "metadata": {},
   "outputs": [
    {
     "data": {
      "text/plain": [
       "{100: [0.010915084598113689, 0.19084143952891383, 0.19352387936278476],\n",
       " 200: [0.010940299355358146, 0.18927375764679477, 0.13684204741895245],\n",
       " 300: [0.005038751703682259, 0.1958497641613636, 0.11173106384472443],\n",
       " 400: [0.0036713605238020836, 0.19522531068112142, 0.09676193968139238],\n",
       " 500: [0.005798534529820938, 0.1935579331547451, 0.08654650990493108],\n",
       " 600: [0.0008587095439901576, 0.1950619589948525, 0.07900579291379174],\n",
       " 700: [0.0020433180968878126, 0.19398262550126905, 0.0731451510780562],\n",
       " 800: [0.005446722363566657, 0.19304219274693346, 0.06842102370947623],\n",
       " 900: [0.0022308399399644796, 0.1914170798299095, 0.06450795978759492],\n",
       " 1000: [0.005585052075967892, 0.19358813343572906, 0.061197624041805475]}"
      ]
     },
     "execution_count": 8,
     "metadata": {},
     "output_type": "execute_result"
    }
   ],
   "source": [
    "differences # diff of upop and usample, sigma of sampling distribution, sigmapop/sqrt(n)"
   ]
  },
  {
   "cell_type": "markdown",
   "metadata": {},
   "source": [
    "### Observation:\n",
    "As the sample size increases , the difference between population mean and sample mean approaches zero, which means  the mean of the sampling means approaches population mean"
   ]
  }
 ],
 "metadata": {
  "kernelspec": {
   "display_name": "Python 3",
   "language": "python",
   "name": "python3"
  },
  "language_info": {
   "codemirror_mode": {
    "name": "ipython",
    "version": 3
   },
   "file_extension": ".py",
   "mimetype": "text/x-python",
   "name": "python",
   "nbconvert_exporter": "python",
   "pygments_lexer": "ipython3",
   "version": "3.7.4"
  }
 },
 "nbformat": 4,
 "nbformat_minor": 2
}
