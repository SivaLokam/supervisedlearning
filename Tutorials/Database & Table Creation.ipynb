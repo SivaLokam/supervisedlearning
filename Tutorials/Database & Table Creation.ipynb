{
 "cells": [
  {
   "cell_type": "code",
   "execution_count": 6,
   "metadata": {},
   "outputs": [],
   "source": [
    "import sqlite3 as sl"
   ]
  },
  {
   "cell_type": "code",
   "execution_count": 7,
   "metadata": {},
   "outputs": [],
   "source": [
    "con1 = sl.connect('sql_invoicing_1.db')"
   ]
  },
  {
   "cell_type": "markdown",
   "metadata": {},
   "source": [
    "payment_methods table"
   ]
  },
  {
   "cell_type": "code",
   "execution_count": 8,
   "metadata": {},
   "outputs": [],
   "source": [
    "with con1:\n",
    " \n",
    " con1.execute(\"\"\"\n",
    "    CREATE TABLE payment_methods (\n",
    "        payment_method_id INTEGER NOT NULL  PRIMARY KEY AUTOINCREMENT,\n",
    "        name varchar(50) NOT NULL\n",
    ");\n",
    "    \"\"\")"
   ]
  },
  {
   "cell_type": "code",
   "execution_count": 9,
   "metadata": {},
   "outputs": [],
   "source": [
    "payment_methods_1 = 'INSERT INTO payment_methods (payment_method_id, name) values(?, ?)'\n",
    "data = [(1,'Credit Card'),\n",
    "        (2,'Cash'),\n",
    "        (3,'PayPal'),\n",
    "        (4,'Wire Transfer')]\n",
    "with con1:\n",
    "    con1.executemany(payment_methods_1,data)"
   ]
  },
  {
   "cell_type": "markdown",
   "metadata": {},
   "source": [
    "clients table"
   ]
  },
  {
   "cell_type": "code",
   "execution_count": 10,
   "metadata": {},
   "outputs": [],
   "source": [
    "with con1:\n",
    " \n",
    " con1.execute(\"\"\"\n",
    "  CREATE TABLE `clients` (\n",
    "  `client_id` int(11) NOT NULL,\n",
    "  `name` varchar(50) NOT NULL,\n",
    "  `address` varchar(50) NOT NULL,\n",
    "  `city` varchar(50) NOT NULL,\n",
    "  `state` char(2) NOT NULL,\n",
    "  `phone` varchar(50) DEFAULT NULL,\n",
    "  PRIMARY KEY (`client_id`)\n",
    ");\n",
    "    \"\"\")"
   ]
  },
  {
   "cell_type": "code",
   "execution_count": 11,
   "metadata": {},
   "outputs": [],
   "source": [
    "clients_1 = 'INSERT INTO clients (client_id,name,address,city,state,phone) values(?,?,?,?,?,?)'\n",
    "clients_data = [(1,'Vinte','3 Nevada Parkway','Syracuse','NY','315-252-7305'),\n",
    "                (2,'Myworks','34267 Glendale Parkway','Huntington','WV','304-659-1170'),\n",
    "                (3,'Yadel','096 Pawling Parkway','San Francisco','CA','415-144-6037'),\n",
    "                (4,'Kwideo','81674 Westerfield Circle','Waco','TX','254-750-0784'),\n",
    "                (5,'Topiclounge','0863 Farmco Road','Portland','OR','971-888-9129')]\n",
    "with con1:\n",
    "    con1.executemany(clients_1,clients_data)"
   ]
  },
  {
   "cell_type": "markdown",
   "metadata": {},
   "source": [
    "invoices table"
   ]
  },
  {
   "cell_type": "code",
   "execution_count": 12,
   "metadata": {},
   "outputs": [],
   "source": [
    "with con1:\n",
    " \n",
    " con1.execute(\"\"\"\n",
    "  CREATE TABLE `invoices` (\n",
    "  `invoice_id` int(11) NOT NULL,\n",
    "  `number` varchar(50) NOT NULL,\n",
    "  `client_id` int(11) NOT NULL,\n",
    "  `invoice_total` decimal(9,2) NOT NULL,\n",
    "  `payment_total` decimal(9,2) NOT NULL DEFAULT '0.00',\n",
    "  `invoice_date` date NOT NULL,\n",
    "  `due_date` date NOT NULL,\n",
    "  `payment_date` date DEFAULT NULL,\n",
    "  PRIMARY KEY (`invoice_id`)\n",
    "  );\n",
    "  \"\"\")"
   ]
  },
  {
   "cell_type": "code",
   "execution_count": 13,
   "metadata": {},
   "outputs": [],
   "source": [
    "invoices_1 = 'INSERT INTO invoices (invoice_id,number,client_id,invoice_total,payment_total,invoice_date,due_date,payment_date) values(?,?,?,?,?,?,?,?)'\n",
    "invoices_data = [(1,'91-953-3396',2,101.79,0.00,'2019-03-09','2019-03-29',None),\n",
    "(2,'03-898-6735',5,175.32,8.18,'2019-06-11','2019-07-01','2019-06-30'),\n",
    "(3,'20-228-0335',5,147.99,0.00,'2019-07-31','2019-08-20',None),\n",
    "(4,'56-934-0748',3,152.21,0.00,'2019-03-08','2019-03-28',None),\n",
    "(5,'87-052-3121',5,169.36,0.00,'2019-07-18','2019-08-07',None),\n",
    "(6,'75-587-6626',1,157.78,74.55,'2019-01-29','2019-02-18','2019-02-20'),\n",
    "(7,'68-093-9863',3,133.87,0.00,'2019-09-04','2019-09-24',None),\n",
    "(8,'78-145-1093',1,189.12,0.00,'2019-05-20','2019-06-09',None),\n",
    "(9,'77-593-0081',5,172.17,0.00,'2019-07-09','2019-07-29',None),\n",
    "(10,'48-266-1517',1,159.50,0.00,'2019-06-30','2019-07-20',None),\n",
    "(11,'20-848-0181',3,126.15,0.03,'2019-01-07','2019-01-27','2019-01-27'),\n",
    "(13,'41-666-1035',5,135.01,87.44,'2019-06-25','2019-07-15','2019-07-13'),\n",
    "(15,'55-105-9605',3,167.29,80.31,'2019-11-25','2019-12-15','2019-12-10'),\n",
    "(16,'10-451-8824',1,162.02,0.00,'2019-03-30','2019-04-19',None),\n",
    "(17,'33-615-4694',3,126.38,68.10,'2019-07-30','2019-08-19','2019-08-15'),\n",
    "(18,'52-269-9803',5,180.17,42.77,'2019-05-23','2019-06-12','2019-06-08'),\n",
    "(19,'83-559-4105',1,134.47,0.00,'2019-11-23','2019-12-13',None),]\n",
    "\n",
    "with con1:\n",
    "    con1.executemany(invoices_1,invoices_data)"
   ]
  },
  {
   "cell_type": "markdown",
   "metadata": {},
   "source": [
    "###### payments table"
   ]
  },
  {
   "cell_type": "code",
   "execution_count": 14,
   "metadata": {},
   "outputs": [],
   "source": [
    "with con1:\n",
    " \n",
    " con1.execute(\"\"\"\n",
    "  CREATE TABLE `payments` (\n",
    "  `payment_id` integer NOT NULL PRIMARY KEY AUTOINCREMENT,\n",
    "  `client_id` int(11) NOT NULL,\n",
    "  `invoice_id` int(11) NOT NULL,\n",
    "  `date` date NOT NULL,\n",
    "  `amount` decimal(9,2) NOT NULL,\n",
    "  `payment_method` tinyint(4) NOT NULL\n",
    "  );\n",
    "  \"\"\")\n",
    "    \n",
    "payments_1 = 'INSERT INTO payments (payment_id,client_id,invoice_id,date,amount,payment_method) values(?,?,?,?,?,?)'\n",
    "payments_data = [(1,5,2,'2019-02-12',8.18,1),\n",
    "(2,1,6,'2019-01-03',74.55,1),\n",
    "(3,3,11,'2019-01-11',0.03,1),\n",
    "(4,5,13,'2019-01-26',87.44,1),\n",
    "(5,3,15,'2019-01-15',80.31,1),\n",
    "(6,3,17,'2019-01-15',68.10,1),\n",
    "(7,5,18,'2019-01-08',32.77,1),\n",
    "(8,5,18,'2019-01-08',10.00,2)]\n",
    "\n",
    "with con1:\n",
    "    con1.executemany(payments_1,payments_data)"
   ]
  },
  {
   "cell_type": "markdown",
   "metadata": {},
   "source": [
    "##### products table"
   ]
  },
  {
   "cell_type": "code",
   "execution_count": 15,
   "metadata": {},
   "outputs": [],
   "source": [
    "with con1:\n",
    " \n",
    " con1.execute(\"\"\"\n",
    "  CREATE TABLE `products` (\n",
    "  `product_id` integer NOT NULL PRIMARY KEY AUTOINCREMENT,\n",
    "  `name` varchar(50) NOT NULL,\n",
    "  `quantity_in_stock` int(11) NOT NULL,\n",
    "  `unit_price` decimal(4,2) NOT NULL)\n",
    "  \"\"\")\n",
    "    \n",
    "products_1 = 'INSERT INTO products (product_id,name,quantity_in_stock,unit_price) values(?,?,?,?)'\n",
    "products_data = [(1,'Foam Dinner Plate',70,1.21),\n",
    "(2,'Pork - Bacon,back Peameal',49,4.65),\n",
    "(3,'Lettuce - Romaine, Heart',38,3.35),\n",
    "(4,'Brocolinni - Gaylan, Chinese',90,4.53),\n",
    "(5,'Sauce - Ranch Dressing',94,1.63),\n",
    "(6,'Petit Baguette',14,2.39),\n",
    "(7,'Sweet Pea Sprouts',98,3.29),\n",
    "(8,'Island Oasis - Raspberry',26,0.74),\n",
    "(9,'Longan',67,2.26),\n",
    "(10,'Broom - Push',6,1.09)]\n",
    "\n",
    "with con1:\n",
    "    con1.executemany(products_1,products_data)\n",
    "    "
   ]
  },
  {
   "cell_type": "markdown",
   "metadata": {},
   "source": [
    "##### shippers"
   ]
  },
  {
   "cell_type": "code",
   "execution_count": 16,
   "metadata": {},
   "outputs": [],
   "source": [
    "with con1:\n",
    " \n",
    " con1.execute(\"\"\"\n",
    "  CREATE TABLE `shippers` (\n",
    "  `shipper_id` integer NOT NULL PRIMARY KEY AUTOINCREMENT,\n",
    "  `name` varchar(50) NOT NULL)\n",
    "  \"\"\")\n",
    "    \n",
    "shippers_1 = 'INSERT INTO shippers (shipper_id,name) values(?,?)'\n",
    "shippers_data = [(1,'Hettinger LLC'),\n",
    "(2,'Schinner-Predovic'),\n",
    "(3,'Satterfield LLC'),\n",
    "(4,'Mraz, Renner and Nolan'),\n",
    "(5,'Waters, Mayert and Prohaska')]\n",
    "\n",
    "with con1:\n",
    "    con1.executemany(shippers_1,shippers_data)"
   ]
  },
  {
   "cell_type": "markdown",
   "metadata": {},
   "source": [
    "##### Customers"
   ]
  },
  {
   "cell_type": "code",
   "execution_count": 17,
   "metadata": {},
   "outputs": [],
   "source": [
    "with con1:\n",
    "    con1.execute(\"\"\"\n",
    "    \n",
    "CREATE TABLE `customers` (\n",
    "  `customer_id` integer NOT NULL  PRIMARY KEY AUTOINCREMENT,\n",
    "  `first_name` varchar(50) NOT NULL,\n",
    "  `last_name` varchar(50) NOT NULL,\n",
    "  `birth_date` date DEFAULT NULL,\n",
    "  `phone` varchar(50) DEFAULT NULL,\n",
    "  `address` varchar(50) NOT NULL,\n",
    "  `city` varchar(50) NOT NULL,\n",
    "  `state` char(2) NOT NULL,\n",
    "  `points` int(11) NOT NULL DEFAULT '0')\n",
    "  \"\"\")\n",
    "\n",
    "    "
   ]
  },
  {
   "cell_type": "code",
   "execution_count": 18,
   "metadata": {},
   "outputs": [],
   "source": [
    "customer_1 = 'INSERT INTO customers(customer_id,first_name, last_name,birth_date,phone,address,city,state,points) values(?,?,?,?,?,?,?,?,?)'\n",
    "customer_data = [\n",
    "(1,'Babara','MacCaffrey','1986-03-28','781-932-9754','0 Sage Terrace','Waltham','MA',2273),\n",
    "(2,'Ines','Brushfield','1986-04-13','804-427-9456','14187 Commercial Trail','Hampton','VA',947),\n",
    "(3,'Freddi','Boagey','1985-02-07','719-724-7869','251 Springs Junction','Colorado Springs','CO',2967),\n",
    "(4,'Ambur','Roseburgh','1974-04-14','407-231-8017','30 Arapahoe Terrace','Orlando','FL',457),\n",
    "(5,'Clemmie','Betchley','1973-11-07',None,'5 Spohn Circle','Arlington','TX',3675),\n",
    "(6,'Elka','Twiddell','1991-09-04','312-480-8498','7 Manley Drive','Chicago','IL',3073),\n",
    "(7,'Ilene','Dowson','1964-08-30','615-641-4759','50 Lillian Crossing','Nashville','TN',1672),\n",
    "(8,'Thacher','Naseby','1993-07-17','941-527-3977','538 Mosinee Center','Sarasota','FL',205),\n",
    "(9,'Romola','Rumgay','1992-05-23','559-181-3744','3520 Ohio Trail','Visalia','CA',1486),\n",
    "(10,'Levy','Mynett','1969-10-13','404-246-3370','68 Lawn Avenue','Atlanta','GA',796)]\n",
    "\n",
    "with con1:\n",
    "    con1.executemany(customer_1,customer_data)"
   ]
  },
  {
   "cell_type": "markdown",
   "metadata": {},
   "source": [
    "##### Order statuses"
   ]
  },
  {
   "cell_type": "code",
   "execution_count": 19,
   "metadata": {},
   "outputs": [],
   "source": [
    "with con1:\n",
    " \n",
    " con1.execute(\"\"\"\n",
    "  CREATE TABLE `order_statuses` (\n",
    "  `order_status_id` tinyint(4) NOT NULL,\n",
    "  `name` varchar(50) NOT NULL,\n",
    "  PRIMARY KEY (`order_status_id`))\n",
    "  \"\"\")\n",
    "    \n",
    "order_status_1 = 'INSERT INTO order_statuses (order_status_id,name) values(?,?)'\n",
    "order_status_data = [(1,'Processed'),\n",
    "                    (2,'Shipped'),\n",
    "                    (3,'Delivered')]\n",
    "\n",
    "with con1:\n",
    "    con1.executemany(order_status_1,order_status_data)"
   ]
  },
  {
   "cell_type": "markdown",
   "metadata": {},
   "source": [
    "##### Orders"
   ]
  },
  {
   "cell_type": "code",
   "execution_count": 20,
   "metadata": {},
   "outputs": [],
   "source": [
    "with con1:\n",
    " \n",
    " con1.execute(\"\"\"\n",
    "  CREATE TABLE `orders` (\n",
    "  `order_id` integer NOT NULL PRIMARY KEY AUTOINCREMENT,\n",
    "  `customer_id` int(11) NOT NULL,\n",
    "  `order_date` date NOT NULL,\n",
    "  `status` tinyint(4) NOT NULL DEFAULT '1',\n",
    "  `comments` varchar(2000) DEFAULT NULL,\n",
    "  `shipped_date` date DEFAULT NULL,\n",
    "  `shipper_id` smallint(6) DEFAULT NULL)\n",
    "  \"\"\")\n",
    "    \n"
   ]
  },
  {
   "cell_type": "code",
   "execution_count": 21,
   "metadata": {},
   "outputs": [],
   "source": [
    "orders_1 = 'INSERT INTO orders (order_id,customer_id,order_date,status,comments,shipped_date,shipper_id) values(?,?,?,?,?,?,?)'\n",
    "orders_data = [(1,6,'2019-01-30',1,None,None,None),\n",
    "(2,7,'2018-08-02',2,None,'2018-08-03',4),\n",
    "(3,8,'2017-12-01',1,None,None,None),\n",
    "(4,2,'2017-01-22',1,None,None,None),\n",
    "(5,5,'2017-08-25',2,'','2017-08-26',3),\n",
    "(6,10,'2018-11-18',1,'Aliquam erat volutpat. In congue.',None,None),\n",
    "(7,2,'2018-09-22',2,None,'2018-09-23',4),\n",
    "(8,5,'2018-06-08',1,'Mauris enim leo, rhoncus sed, vestibulum sit amet, cursus id, turpis.',None,None),\n",
    "(9,10,'2017-07-05',2,'Nonea mollis molestie lorem. Quisque ut erat.','2017-07-06',1),\n",
    "(10,6,'2018-04-22',2,None,'2018-04-23',2)]\n",
    "\n",
    "with con1:\n",
    "    con1.executemany(orders_1,orders_data)"
   ]
  },
  {
   "cell_type": "markdown",
   "metadata": {},
   "source": [
    "##### Order Items"
   ]
  },
  {
   "cell_type": "code",
   "execution_count": 22,
   "metadata": {},
   "outputs": [],
   "source": [
    "with con1:\n",
    " \n",
    " con1.execute(\"\"\"\n",
    "  CREATE TABLE `order_items` (\n",
    "  `order_id` integer NOT NULL,\n",
    "  `product_id` int(11) NOT NULL,\n",
    "  `quantity` int(11) NOT NULL,\n",
    "  `unit_price` decimal(4,2) NOT NULL)\n",
    "  \"\"\")\n",
    "\n",
    "order_items_1 = 'INSERT INTO order_items (order_id,product_id,quantity,unit_price) values(?,?,?,?)'\n",
    "order_items_data = [(1,4,4,3.74),\n",
    "(2,1,2,9.10),\n",
    "(2,4,4,1.66),\n",
    "(2,6,2,2.94),\n",
    "(3,3,10,9.12),\n",
    "(4,3,7,6.99),\n",
    "(4,10,7,6.40),\n",
    "(5,2,3,9.89),\n",
    "(6,1,4,8.65),\n",
    "(6,2,4,3.28),\n",
    "(6,3,4,7.46),\n",
    "(6,5,1,3.45),\n",
    "(7,3,7,9.17),\n",
    "(8,5,2,6.94),\n",
    "(8,8,2,8.59),\n",
    "(9,6,5,7.28),\n",
    "(10,1,10,6.01),\n",
    "(10,9,9,4.28)]\n",
    "\n",
    "with con1:\n",
    "    con1.executemany(order_items_1,order_items_data)\n"
   ]
  },
  {
   "cell_type": "markdown",
   "metadata": {},
   "source": [
    "##### order_item_notes"
   ]
  },
  {
   "cell_type": "code",
   "execution_count": 23,
   "metadata": {},
   "outputs": [],
   "source": [
    "with con1:\n",
    " \n",
    " con1.execute(\"\"\"\n",
    " CREATE TABLE `order_item_notes` (\n",
    "  `note_id` INT NOT NULL,\n",
    "  `order_Id` INT NOT NULL,\n",
    "  `product_id` INT NOT NULL,\n",
    "  `note` VARCHAR(255) NOT NULL,\n",
    "  PRIMARY KEY (`note_id`))\n",
    "  \"\"\")\n",
    "\n"
   ]
  },
  {
   "cell_type": "code",
   "execution_count": 24,
   "metadata": {},
   "outputs": [],
   "source": [
    "order_items_notes_1 = 'INSERT INTO order_item_notes (note_id,order_Id,product_id,note) values(?,?,?,?)'\n",
    "order_items_notes_data = [('1', '1', '2', 'first note'),\n",
    "                          ('2', '1', '2', 'second note')]\n",
    "\n",
    "with con1:\n",
    "    con1.executemany(order_items_notes_1,order_items_notes_data)\n"
   ]
  },
  {
   "cell_type": "markdown",
   "metadata": {},
   "source": [
    "##### Offices"
   ]
  },
  {
   "cell_type": "code",
   "execution_count": 25,
   "metadata": {},
   "outputs": [],
   "source": [
    "with con1:\n",
    " \n",
    " con1.execute(\"\"\"\n",
    " CREATE TABLE `offices` (\n",
    "  `office_id` int(11) NOT NULL,\n",
    "  `address` varchar(50) NOT NULL,\n",
    "  `city` varchar(50) NOT NULL,\n",
    "  `state` varchar(50) NOT NULL,\n",
    "  PRIMARY KEY (`office_id`))\n",
    "  \"\"\")\n",
    "\n",
    "offices_1 = 'INSERT INTO offices (office_id,address,city,state) values(?,?,?,?)'\n",
    "offices_data = [(1,'03 Reinke Trail','Cincinnati','OH'),\n",
    "(2,'5507 Becker Terrace','New York City','NY'),\n",
    "(3,'54 Northland Court','Richmond','VA'),\n",
    "(4,'08 South Crossing','Cincinnati','OH')]\n",
    "\n",
    "with con1:\n",
    "    con1.executemany(offices_1,offices_data)"
   ]
  },
  {
   "cell_type": "markdown",
   "metadata": {},
   "source": [
    "##### Employees"
   ]
  },
  {
   "cell_type": "code",
   "execution_count": 26,
   "metadata": {},
   "outputs": [],
   "source": [
    "with con1:\n",
    " \n",
    " con1.execute(\"\"\"\n",
    " CREATE TABLE `employees` (\n",
    "  `employee_id` int(11) NOT NULL,\n",
    "  `first_name` varchar(50) NOT NULL,\n",
    "  `last_name` varchar(50) NOT NULL,\n",
    "  `job_title` varchar(50) NOT NULL,\n",
    "  `salary` int(11) NOT NULL,\n",
    "  `reports_to` int(11) DEFAULT NULL,\n",
    "  `office_id` int(11) NOT NULL,\n",
    "  PRIMARY KEY (`employee_id`))\n",
    "  \"\"\")\n",
    "\n"
   ]
  },
  {
   "cell_type": "code",
   "execution_count": 27,
   "metadata": {},
   "outputs": [],
   "source": [
    "employees_1 = 'INSERT INTO employees (employee_id,first_name,last_name,job_title,salary,reports_to,office_id) values(?,?,?,?,?,?,?)'\n",
    "employees_data = [(37270,'Yovonnda','Magrannell','Executive Secretary',63996,None,10),\n",
    "(33391,'D\\'arcy','Nortunen','Account Executive',62871,37270,1),\n",
    "(37851,'Sayer','Matterson','Statistician III',98926,37270,1),\n",
    "(40448,'Mindy','Crissil','Staff Scientist',94860,37270,1),\n",
    "(56274,'Keriann','Alloisi','VP Marketing',110150,37270,1),\n",
    "(63196,'Alaster','Scutchin','Assistant Professor',32179,37270,2),\n",
    "(67009,'North','de Clerc','VP Product Management',114257,37270,2),\n",
    "(67370,'Elladine','Rising','Social Worker',96767,37270,2),\n",
    "(68249,'Nisse','Voysey','Financial Advisor',52832,37270,2),\n",
    "(72540,'Guthrey','Iacopetti','Office Assistant I',117690,37270,3),\n",
    "(72913,'Kass','Hefferan','Computer Systems Analyst IV',96401,37270,3),\n",
    "(75900,'Virge','Goodrum','Information Systems Manager',54578,37270,3),\n",
    "(76196,'Mirilla','Janowski','Cost Accountant',119241,37270,3),\n",
    "(80529,'Lynde','Aronson','Junior Executive',77182,37270,4),\n",
    "(80679,'Mildrid','Sokale','Geologist II',67987,37270,4),\n",
    "(84791,'Hazel','Tarbert','General Manager',93760,37270,4),\n",
    "(95213,'Cole','Kesterton','Pharmacist',86119,37270,4),\n",
    "(96513,'Theresa','Binney','Food Chemist',47354,37270,5),\n",
    "(98374,'Estrellita','Daleman','Staff Accountant IV',70187,37270,5),\n",
    "(115357,'Ivy','Fearey','Structural Engineer',92710,37270,5)]\n",
    "\n",
    "with con1:\n",
    "    con1.executemany(employees_1,employees_data)"
   ]
  },
  {
   "cell_type": "code",
   "execution_count": 28,
   "metadata": {},
   "outputs": [],
   "source": [
    "con1.close()"
   ]
  }
 ],
 "metadata": {
  "kernelspec": {
   "display_name": "Python 3",
   "language": "python",
   "name": "python3"
  },
  "language_info": {
   "codemirror_mode": {
    "name": "ipython",
    "version": 3
   },
   "file_extension": ".py",
   "mimetype": "text/x-python",
   "name": "python",
   "nbconvert_exporter": "python",
   "pygments_lexer": "ipython3",
   "version": "3.7.4"
  }
 },
 "nbformat": 4,
 "nbformat_minor": 2
}
